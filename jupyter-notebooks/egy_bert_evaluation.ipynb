{
  "cells": [
    {
      "cell_type": "markdown",
      "metadata": {
        "id": "uNxZ1l4ohj_p"
      },
      "source": [
        "# **RUNNING THE PREDICTION GENERATION CAN TAKE ABOUT 1-2H PER MODEL**\n",
        "(pregenerated prediction files can be found on GitHub)"
      ]
    },
    {
      "cell_type": "markdown",
      "metadata": {
        "id": "6W4F9x6gwE_d"
      },
      "source": [
        "# Setup"
      ]
    },
    {
      "cell_type": "code",
      "execution_count": 18,
      "metadata": {
        "colab": {
          "base_uri": "https://localhost:8080/",
          "height": 709,
          "referenced_widgets": [
            "c8ecf3de80864d1eb66a4b75a7a56fc9",
            "b47269d9d1b44934b19413b1c3bd2d7e",
            "102d9a3b06e546feb2ac0df3a1fef7e3",
            "51a766a14fc348f2be90bc702ea9dace",
            "7fb2537db1f54a7ca40d63b5921b05d0",
            "46b41ec60ef54a6ea9495a03dd899558",
            "7f8878723c5345ab8ae1b8cdb23b9b32",
            "cbadf01620e64911bd0e1fef9cd7399e",
            "695ab05d106b4e18849535c2d3080092",
            "c006663e04d04a2e80a04c34a58ee2fd",
            "33a6e480096b49c1aa4076f8b5868f56"
          ]
        },
        "id": "IE2kLNE-bMGN",
        "outputId": "8e4e8826-e312-4a25-f89a-4b97cad0a2b0"
      },
      "outputs": [
        {
          "output_type": "stream",
          "name": "stdout",
          "text": [
            "Populating working directory: /content/data\n"
          ]
        },
        {
          "output_type": "display_data",
          "data": {
            "text/plain": [
              "Downloading:   0%|          | 0/3 [00:00<?, ?it/s]"
            ],
            "application/vnd.jupyter.widget-view+json": {
              "version_major": 2,
              "version_minor": 0,
              "model_id": "c8ecf3de80864d1eb66a4b75a7a56fc9"
            }
          },
          "metadata": {}
        },
        {
          "output_type": "stream",
          "name": "stdout",
          "text": [
            "== Tokenizers ==\n",
            "Downloading ./m-bert-aes-harmonized-tokenizer...\n",
            "Creating directory...\n",
            "Downloading added_tokens.json...\n",
            "Downloading special_tokens_map.json...\n",
            "Downloading tokenizer_config.json...\n",
            "Downloading vocab.txt...\n",
            "Downloading ./m-bert-ramses-tokenizer...\n",
            "Creating directory...\n",
            "Downloading added_tokens.json...\n",
            "Downloading special_tokens_map.json...\n",
            "Downloading tokenizer_config.json...\n",
            "Downloading vocab.txt...\n",
            "Downloading ./m-bert-combined-tokenizer...\n",
            "Creating directory...\n",
            "Downloading added_tokens.json...\n",
            "Downloading special_tokens_map.json...\n",
            "Downloading tokenizer_config.json...\n",
            "Downloading vocab.txt...\n",
            "Downloading ./coptic-microbert-combined-tokenizer...\n",
            "Creating directory...\n",
            "Downloading added_tokens.json...\n",
            "Downloading special_tokens_map.json...\n",
            "Downloading tokenizer_config.json...\n",
            "Downloading vocab.txt...\n",
            "== Test files ==\n",
            "Downloading all_test_harmonized.txt...\n",
            "Downloading ramses_test.txt...\n",
            "Downloading combined_test.txt...\n",
            "Downloading all_test_masked.txt...\n",
            "== Models ==\n",
            "Downloading mbert-aes-model.zip\n",
            "Extracting...\n",
            "Downloading mbert-ramses-model.zip\n",
            "Extracting...\n",
            "Downloading mbert-combined-model.zip\n",
            "Extracting...\n"
          ]
        }
      ],
      "source": [
        "# @title Get resources from GitHub egy-gaps\n",
        "\n",
        "# Create working directory and move to it.\n",
        "!echo -n \"Populating working directory: \"\n",
        "!mkdir -p /content/data\n",
        "%cd /content/data\n",
        "\n",
        "from ipywidgets import interact, interactive, fixed, interact_manual, widgets\n",
        "from IPython.display import clear_output\n",
        "from tqdm.notebook import tqdm, tqdm_notebook\n",
        "import requests\n",
        "import os\n",
        "\n",
        "EGY_PATH='https://raw.githubusercontent.com/annasahola/egy-gaps/main/'\n",
        "EGY_RELEASE='https://github.com/annasahola/egy-gaps/releases/download/release-1.0pre1/'\n",
        "\n",
        "def handle_tokenizer_directory(dir, top_dir):\n",
        "  print('Creating directory...')\n",
        "  !mkdir {dir}\n",
        "\n",
        "  base_url = EGY_PATH + '/tokenizers/' + top_dir + '/' + dir + '/'\n",
        "  output_base_path = \"./\" + dir + '/'\n",
        "\n",
        "  print('Downloading added_tokens.json...')\n",
        "  response = requests.get(base_url + 'added_tokens.json')\n",
        "  if not response.ok:\n",
        "    raise(Exception(f\"Failed to read added_tokens.json\"))\n",
        "  open(output_base_path + 'added_tokens.json', \"wb\").write(response.content)\n",
        "\n",
        "  print('Downloading special_tokens_map.json...')\n",
        "  response = requests.get(base_url + 'special_tokens_map.json')\n",
        "  if not response.ok:\n",
        "    raise(Exception(f\"Failed to read special_tokens_map.json\"))\n",
        "  open(output_base_path + 'special_tokens_map.json', \"wb\").write(response.content)\n",
        "\n",
        "  print('Downloading tokenizer_config.json...')\n",
        "  response = requests.get(base_url + 'tokenizer_config.json')\n",
        "  if not response.ok:\n",
        "    raise(Exception(f\"Failed to read tokenizer_config.json\"))\n",
        "  open(output_base_path + 'tokenizer_config.json', \"wb\").write(response.content)\n",
        "\n",
        "  print('Downloading vocab.txt...')\n",
        "  response = requests.get(base_url + 'vocab.txt')\n",
        "  if not response.ok:\n",
        "    raise(Exception(f\"Failed to read vocab.txt\"))\n",
        "  open(output_base_path + 'vocab.txt', \"wb\").write(response.content)\n",
        "\n",
        "for x in tqdm_notebook(range(3), desc=\"Downloading\"):\n",
        "  if x == 0:\n",
        "    print('== Tokenizers ==')\n",
        "\n",
        "    if os.path.exists('./m-bert-aes-harmonized-tokenizer') != True:\n",
        "      print('Downloading ./m-bert-aes-harmonized-tokenizer...')\n",
        "      handle_tokenizer_directory('m-bert-aes-harmonized-tokenizer', 'm-bert')\n",
        "    else:\n",
        "      print('./m-bert-aes-harmonized-tokenizer already exists')\n",
        "\n",
        "    if os.path.exists('./m-bert-ramses-tokenizer') != True:\n",
        "      print('Downloading ./m-bert-ramses-tokenizer...')\n",
        "      handle_tokenizer_directory('m-bert-ramses-tokenizer', 'm-bert')\n",
        "    else:\n",
        "      print('./m-bert-ramses-tokenizer already exists')\n",
        "\n",
        "    if os.path.exists('./m-bert-combined-tokenizer') != True:\n",
        "      print('Downloading ./m-bert-combined-tokenizer...')\n",
        "      handle_tokenizer_directory('m-bert-combined-tokenizer', 'm-bert')\n",
        "    else:\n",
        "      print('./m-bert-combined-tokenizer already exists')\n",
        "\n",
        "    if os.path.exists('./coptic-microbert-combined-tokenizer') != True:\n",
        "      print('Downloading ./coptic-microbert-combined-tokenizer...')\n",
        "      handle_tokenizer_directory('coptic-microbert-combined-tokenizer', 'coptic')\n",
        "    else:\n",
        "      print('./coptic-microbert-combined-tokenizer already exists')\n",
        "\n",
        "  if x == 1:\n",
        "    print('== Test files ==')\n",
        "\n",
        "    if os.path.exists('all_test_harmonized.txt') != True:\n",
        "      print('Downloading all_test_harmonized.txt...')\n",
        "      response = requests.get(EGY_PATH + '/preprocessing/final_files/intact/test/harmonized/all_test.txt')\n",
        "      if not response.ok:\n",
        "        raise(Exception(f\"Failed to read all_test.txt (--> all_test_harmonized.txt)\"))\n",
        "      open('all_test_harmonized.txt', \"wb\").write(response.content)\n",
        "    else:\n",
        "      print('all_test_harmonized.txt already exists')\n",
        "\n",
        "    if os.path.exists('ramses_test.txt') != True:\n",
        "      print('Downloading ramses_test.txt...')\n",
        "      response = requests.get(EGY_PATH + '/data/marete-ramses/aligned/aligned_transliterations_intact_test.txt')\n",
        "      if not response.ok:\n",
        "        raise(Exception(f\"Failed to read aligned_transliterations_intact_test.txt (--> ramses_text.txt)\"))\n",
        "      open('ramses_test.txt', \"wb\").write(response.content)\n",
        "    else:\n",
        "      print('ramses_test.txt already exists')\n",
        "\n",
        "    if os.path.exists('combined_test.txt') != True:\n",
        "      print('Downloading combined_test.txt...')\n",
        "      response = requests.get(EGY_PATH + '/data/marete-ramses/aligned/combined_test.txt')\n",
        "      if not response.ok:\n",
        "        raise(Exception(f\"Failed to read combined_test.txt\"))\n",
        "      open('combined_test.txt', \"wb\").write(response.content) # AES: rows 1-16465; Ramses: rows 16466-25377\n",
        "    else:\n",
        "      print('combined_test.txt already exists')\n",
        "\n",
        "    if os.path.exists('all_test_masked.txt') != True:\n",
        "      print('Downloading all_test_masked.txt...')\n",
        "      response = requests.get(EGY_PATH + '/predictions/all_test_masked.txt')\n",
        "      if not response.ok:\n",
        "        raise(Exception(f\"Failed to read all_test_masked.txt\"))\n",
        "      open('all_test_masked.txt', \"wb\").write(response.content)\n",
        "    else:\n",
        "      print('all_test_masked.txt already exists')\n",
        "\n",
        "  if x == 2:\n",
        "    print('== Models ==')\n",
        "\n",
        "    if os.path.exists('./aes-model') != True:\n",
        "      print('Downloading mbert-aes-model.zip')\n",
        "      response = requests.get('https://github.com/annasahola/egy-gaps/releases/download/release-1.0pre1/mbert-aes-model.zip')\n",
        "      if not response.ok:\n",
        "        raise(Exception(f\"Failed to read mbert-aes-model.zip\"))\n",
        "      open(\"mbert-aes-model.zip\", \"wb\").write(response.content)\n",
        "      print('Extracting...')\n",
        "      !unzip -q mbert-aes-model.zip\n",
        "    if os.path.exists('./ramses-model') != True:\n",
        "      print('Downloading mbert-ramses-model.zip')\n",
        "      response = requests.get('https://github.com/annasahola/egy-gaps/releases/download/release-1.0pre1/mbert-ramses-model.zip')\n",
        "      if not response.ok:\n",
        "        raise(Exception(f\"Failed to read mbert-ramses-model.zip\"))\n",
        "      open(\"mbert-ramses-model.zip\", \"wb\").write(response.content)\n",
        "      print('Extracting...')\n",
        "      !unzip -q mbert-ramses-model.zip\n",
        "    if os.path.exists('./combined-model') != True:\n",
        "      print('Downloading mbert-combined-model.zip')\n",
        "      response = requests.get('https://github.com/annasahola/egy-gaps/releases/download/release-1.0pre1/mbert-combined-model.zip')\n",
        "      if not response.ok:\n",
        "        raise(Exception(f\"Failed to read mbert-combined-model.zip\"))\n",
        "      open(\"mbert-combined-model.zip\", \"wb\").write(response.content)\n",
        "      print('Extracting...')\n",
        "      !unzip -q mbert-combined-model.zip"
      ]
    },
    {
      "cell_type": "code",
      "execution_count": null,
      "metadata": {
        "colab": {
          "base_uri": "https://localhost:8080/"
        },
        "id": "kGxNExjks0zl",
        "outputId": "afc0194f-01fb-4b46-9b37-6188c33c881e"
      },
      "outputs": [
        {
          "output_type": "stream",
          "name": "stdout",
          "text": [
            "Thu Apr 11 19:00:21 2024       \n",
            "+---------------------------------------------------------------------------------------+\n",
            "| NVIDIA-SMI 535.104.05             Driver Version: 535.104.05   CUDA Version: 12.2     |\n",
            "|-----------------------------------------+----------------------+----------------------+\n",
            "| GPU  Name                 Persistence-M | Bus-Id        Disp.A | Volatile Uncorr. ECC |\n",
            "| Fan  Temp   Perf          Pwr:Usage/Cap |         Memory-Usage | GPU-Util  Compute M. |\n",
            "|                                         |                      |               MIG M. |\n",
            "|=========================================+======================+======================|\n",
            "|   0  Tesla T4                       Off | 00000000:00:04.0 Off |                    0 |\n",
            "| N/A   41C    P8               9W /  70W |      0MiB / 15360MiB |      0%      Default |\n",
            "|                                         |                      |                  N/A |\n",
            "+-----------------------------------------+----------------------+----------------------+\n",
            "                                                                                         \n",
            "+---------------------------------------------------------------------------------------+\n",
            "| Processes:                                                                            |\n",
            "|  GPU   GI   CI        PID   Type   Process name                            GPU Memory |\n",
            "|        ID   ID                                                             Usage      |\n",
            "|=======================================================================================|\n",
            "|  No running processes found                                                           |\n",
            "+---------------------------------------------------------------------------------------+\n"
          ]
        }
      ],
      "source": [
        "gpu_info = !nvidia-smi\n",
        "gpu_info = '\\n'.join(gpu_info)\n",
        "if gpu_info.find('failed') >= 0:\n",
        "  print('Not connected to a GPU')\n",
        "else:\n",
        "  print(gpu_info)"
      ]
    },
    {
      "cell_type": "code",
      "execution_count": 19,
      "metadata": {
        "id": "5r5sIfArQihT"
      },
      "outputs": [],
      "source": [
        "!pip install accelerate>=0.21.0 transformers"
      ]
    },
    {
      "cell_type": "code",
      "execution_count": 20,
      "metadata": {
        "id": "p9E_9RCeX1nt"
      },
      "outputs": [],
      "source": [
        "import torch\n",
        "from transformers import BertTokenizer, pipeline, AutoModelForMaskedLM\n",
        "import random\n",
        "import json\n",
        "import numpy as np\n",
        "import pandas as pd"
      ]
    },
    {
      "cell_type": "code",
      "execution_count": null,
      "metadata": {
        "id": "K0CGEA-4tFjg"
      },
      "outputs": [],
      "source": [
        "device = torch.device('cuda' if torch.cuda.is_available() else 'cpu')"
      ]
    },
    {
      "cell_type": "markdown",
      "metadata": {
        "id": "cqBYttaQGFwT"
      },
      "source": [
        "## Load tokenizers"
      ]
    },
    {
      "cell_type": "code",
      "execution_count": 21,
      "metadata": {
        "colab": {
          "base_uri": "https://localhost:8080/"
        },
        "id": "5sTaBB6YcYPq",
        "outputId": "e59ebf2b-a9da-41de-fe36-561feb05053b"
      },
      "outputs": [
        {
          "output_type": "stream",
          "name": "stderr",
          "text": [
            "Special tokens have been added in the vocabulary, make sure the associated word embeddings are fine-tuned or trained.\n"
          ]
        }
      ],
      "source": [
        "aes_tokenizer = BertTokenizer.from_pretrained('./m-bert-aes-harmonized-tokenizer') # M-BERT harmonized AES tokenizer"
      ]
    },
    {
      "cell_type": "code",
      "execution_count": 22,
      "metadata": {
        "colab": {
          "base_uri": "https://localhost:8080/"
        },
        "id": "Uerp1vo0cX_o",
        "outputId": "239675d1-2cf6-4043-aaef-b0e25f691383"
      },
      "outputs": [
        {
          "output_type": "stream",
          "name": "stderr",
          "text": [
            "Special tokens have been added in the vocabulary, make sure the associated word embeddings are fine-tuned or trained.\n"
          ]
        }
      ],
      "source": [
        "ramses_tokenizer = BertTokenizer.from_pretrained('./m-bert-ramses-tokenizer') # M-BERT Ramses tokenizer"
      ]
    },
    {
      "cell_type": "code",
      "execution_count": 23,
      "metadata": {
        "id": "w6GJ4xEuIC3H",
        "colab": {
          "base_uri": "https://localhost:8080/"
        },
        "outputId": "e5a605d1-51cf-4d76-b38d-c68b39251534"
      },
      "outputs": [
        {
          "output_type": "stream",
          "name": "stderr",
          "text": [
            "Special tokens have been added in the vocabulary, make sure the associated word embeddings are fine-tuned or trained.\n"
          ]
        }
      ],
      "source": [
        "combined_tokenizer = BertTokenizer.from_pretrained('./m-bert-combined-tokenizer') # combined tokenizer"
      ]
    },
    {
      "cell_type": "code",
      "execution_count": 24,
      "metadata": {
        "id": "A-1fp9Pnkb9-",
        "colab": {
          "base_uri": "https://localhost:8080/"
        },
        "outputId": "d3277e88-0751-45d6-fe50-a03a85220acd"
      },
      "outputs": [
        {
          "output_type": "stream",
          "name": "stderr",
          "text": [
            "Special tokens have been added in the vocabulary, make sure the associated word embeddings are fine-tuned or trained.\n"
          ]
        }
      ],
      "source": [
        "coptic_tokenizer = BertTokenizer.from_pretrained('./coptic-microbert-combined-tokenizer') # Coptic tokenizer"
      ]
    },
    {
      "cell_type": "markdown",
      "metadata": {
        "id": "UnKmIPV0O6X0"
      },
      "source": [
        "## Metrics"
      ]
    },
    {
      "cell_type": "markdown",
      "metadata": {
        "id": "C-FEJGJ0YwNo"
      },
      "source": [
        "### Functions for calculating metrics"
      ]
    },
    {
      "cell_type": "code",
      "execution_count": null,
      "metadata": {
        "id": "ExYlk1pVO9mU"
      },
      "outputs": [],
      "source": [
        "def check_for_hit(k, correct_prediction, predictions):\n",
        "  hit = 0\n",
        "  predicted_tokens = [prediction['token_str'] for prediction in predictions[0:k]]\n",
        "\n",
        "  # check if correct_prediction is in predictions --> set hit to 1 if yes\n",
        "  if correct_prediction in predicted_tokens:\n",
        "    hit = 1\n",
        "\n",
        "  return hit\n",
        "\n",
        "def get_prediction_mrr_k(k, correct_prediction, predictions):\n",
        "  mrr_k = 0\n",
        "  predicted_tokens = [prediction['token_str'] for prediction in predictions[0:k]]\n",
        "\n",
        "  # check if correct_prediction is in predictions --> check rank 1/rank\n",
        "  if correct_prediction in predicted_tokens:\n",
        "    rank = predicted_tokens.index(correct_prediction) + 1\n",
        "    mrr_k = 1 / rank\n",
        "\n",
        "  return mrr_k\n",
        "\n",
        "def calculate_metrics(sentences):\n",
        "  N = len(sentences)\n",
        "  masked_sentences = [sentence[1] for sentence in sentences]\n",
        "  correct_predictions = [sentence[2] for sentence in sentences]\n",
        "  test_sentences_predictions = [sentence[3] for sentence in sentences]\n",
        "\n",
        "  hits_1 = 0\n",
        "  hits_5 = 0\n",
        "  hits_10 = 0\n",
        "  mrr_5 = 0\n",
        "  mrr_10 = 0\n",
        "\n",
        "  for i in range(0, N):\n",
        "    ms = masked_sentences[i]\n",
        "    cp = correct_predictions[i]\n",
        "    predictions = test_sentences_predictions[i]\n",
        "    # hit@k\n",
        "    hits_1 += check_for_hit(1, cp, predictions)\n",
        "    hits_5 += check_for_hit(5, cp, predictions)\n",
        "    hits_10 += check_for_hit(10, cp, predictions)\n",
        "    # mrr@k\n",
        "    mrr_5 += get_prediction_mrr_k(5, cp, predictions)\n",
        "    mrr_10 += get_prediction_mrr_k(10, cp, predictions)\n",
        "\n",
        "  return (hits_1 / N, hits_5 / N, hits_10 / N, mrr_5 / N, mrr_10 / N)"
      ]
    },
    {
      "cell_type": "markdown",
      "metadata": {
        "id": "soOgGjTyZC6q"
      },
      "source": [
        "### Calculate metrics"
      ]
    },
    {
      "cell_type": "markdown",
      "metadata": {
        "id": "8AeBgburMLI-"
      },
      "source": [
        "#### Generate test sentences with gaps"
      ]
    },
    {
      "cell_type": "code",
      "execution_count": null,
      "metadata": {
        "id": "7aCNoTJFMJza"
      },
      "outputs": [],
      "source": [
        "def generate_test_sentences(fn, tokenizer):\n",
        "  masked_sentences = []\n",
        "\n",
        "  print(\"Opening file:\", fn)\n",
        "  tf = open(fn, \"r\")\n",
        "  tfl = tf.readlines()\n",
        "\n",
        "  random.seed(0)\n",
        "\n",
        "  for l in tfl:\n",
        "    s = l.replace(\"\\n\", \"\")\n",
        "    masked_tokens = []\n",
        "    tokenized_sentence = tokenizer.tokenize(s)\n",
        "    mt_index = random.randrange(0, len(tokenized_sentence))\n",
        "    masked_token = tokenized_sentence[mt_index]\n",
        "    tokenized_sentence[mt_index] = \"[MASK]\"\n",
        "    masked_sentences.append((s, \" \".join(tokenized_sentence), masked_token))\n",
        "\n",
        "  tf.close()\n",
        "\n",
        "  return masked_sentences\n",
        "\n",
        "aes_tfn = \"all_test_harmonized.txt\"\n",
        "ramses_tfn = \"ramses_test.txt\"\n",
        "all_tfn = \"combined_test.txt\"\n",
        "\n",
        "aes_sentences = generate_test_sentences(aes_tfn, aes_tokenizer)\n",
        "ramses_sentences = generate_test_sentences(ramses_tfn, ramses_tokenizer)\n",
        "combined_sentences = generate_test_sentences(all_tfn, combined_tokenizer)"
      ]
    },
    {
      "cell_type": "code",
      "execution_count": null,
      "metadata": {
        "colab": {
          "base_uri": "https://localhost:8080/"
        },
        "id": "I_UmSHePQW_V",
        "outputId": "312b3012-3f8b-480e-8fc3-6f3abc9d4477"
      },
      "outputs": [
        {
          "data": {
            "text/plain": [
              "[('Raw-Hr.w-Ax.ty-Hai-m-Ax.t M-rn=f-m-Sw-n.ty-m-Jtn Di anx D.t nHH Jtn anx wr ym.y-HAb-sd nb-Snn.t-nb-Jtn nb-p.t nb-tA m Pr-Jtn m Ax.t-Jtn',\n",
              "  'Raw-Hr.w-Ax.ty-Hai-m-Ax.t M-rn=f-m-Sw-n.ty-m-Jtn Di anx D.t nHH Jtn anx wr ym.y-HAb-sd nb-Snn.t-nb-Jtn nb-p.t [MASK] m Pr-Jtn m Ax.t-Jtn',\n",
              "  'nb-tA'),\n",
              " ('Hw.t-Hr.w nb.t-Hw.t', 'Hw.t-Hr.w [MASK]', 'nb.t-Hw.t'),\n",
              " ('aA =y m tm m ra =y wDA nHi.n =f yAw nfr mri anx',\n",
              "  '[MASK] =y m tm m ra =y wDA nHi.n =f yAw nfr mri anx',\n",
              "  'aA'),\n",
              " ('xr yr Xnw pA 4 wD SAa-m pA Dw yAb.ty n Ax.t-Jtn nfr.yt-r pA Dw ymn.ty n Ax.t-Jtn Ax.t-Jtn r-Ha.w =s tAy',\n",
              "  'xr yr Xnw pA 4 wD SAa-m pA [MASK] yAb.ty n Ax.t-Jtn nfr.yt-r pA Dw ymn.ty n Ax.t-Jtn Ax.t-Jtn r-Ha.w =s tAy',\n",
              "  'Dw'),\n",
              " ('bn yri.y HyHy =f', 'bn yri.y HyHy [MASK]', '=f')]"
            ]
          },
          "execution_count": 15,
          "metadata": {},
          "output_type": "execute_result"
        }
      ],
      "source": [
        "aes_sentences[:5]"
      ]
    },
    {
      "cell_type": "code",
      "execution_count": null,
      "metadata": {
        "colab": {
          "base_uri": "https://localhost:8080/"
        },
        "id": "2Gu_dEcJmbIO",
        "outputId": "771ef0b3-7302-4c0d-cb95-7af0f47c8d86"
      },
      "outputs": [
        {
          "data": {
            "text/plain": [
              "[('ink i.di n =k pA XAr 20 2 1/2 bd.t Hna nA sS.w nb.w nty ir.w r-Hry',\n",
              "  'ink i.di n =k pA XAr 20 2 1/2 bd.t Hna nA [MASK] nb.w nty ir.w r-Hry',\n",
              "  'sS.w'),\n",
              " ('Hr-nbw Dsr xaw.w sxm pHty', 'Hr-nbw Dsr xaw.w [MASK] pHty', 'sxm'),\n",
              " ('iw =i Hr Ssp tA aDd.t Sri.t', '[MASK] =i Hr Ssp tA aDd.t Sri.t', 'iw'),\n",
              " ('iw xm.w-sk Hr sSA xaw =k', 'iw xm.w-sk [MASK] sSA xaw =k', 'Hr'),\n",
              " ('Hr-nbw Dsr xaw.w sxm pHty', 'Hr-nbw Dsr xaw.w sxm [MASK]', 'pHty')]"
            ]
          },
          "execution_count": 16,
          "metadata": {},
          "output_type": "execute_result"
        }
      ],
      "source": [
        "ramses_sentences[:5]"
      ]
    },
    {
      "cell_type": "code",
      "execution_count": null,
      "metadata": {
        "colab": {
          "base_uri": "https://localhost:8080/"
        },
        "id": "gx_5beofmdy2",
        "outputId": "90c25cbe-1b1b-47ba-fc17-50b361ddfe32"
      },
      "outputs": [
        {
          "data": {
            "text/plain": [
              "[('wD Hm =f n yr.y-pa.t HA.ty-a Hr.y-sStA-n-pr-nswt Hr.y-tp-n-tA-r-Dr=f xtm.ty-by.ty sbA-tA.wy-HAw.ty ym.y-ra-smr.w ym.y-ra-xtm.ty Wsr-NSm.t',\n",
              "  'wD Hm =f n yr.y-pa.t HA.ty-a Hr.y-sStA-n-pr-nswt [MASK] xtm.ty-by.ty sbA-tA.wy-HAw.ty ym.y-ra-smr.w ym.y-ra-xtm.ty Wsr-NSm.t',\n",
              "  'Hr.y-tp-n-tA-r-Dr=f'),\n",
              " ('tw=k qAi.T Sma.T', 'tw=k [MASK] Sma.T', 'qAi.T'),\n",
              " ('PA-kAmn 100', '[MASK] 100', 'PA-kAmn'),\n",
              " ('qd.n =y pr Sad.n =y S Hm-nTr MnT.w-Htp',\n",
              "  'qd.n =y [MASK] Sad.n =y S Hm-nTr MnT.w-Htp',\n",
              "  'pr'),\n",
              " ('Dd =y n m myn', 'Dd =y [MASK] m myn', 'n'),\n",
              " ('ink i.di n =k pA XAr 20 2 1/2 bd.t Hna nA sS.w nb.w nty ir.w r-Hry',\n",
              "  'ink i.di n =k pA XAr 20 2 1/2 bd.t Hna nA sS.w nb.w nty [MASK] r-Hry',\n",
              "  'ir.w'),\n",
              " ('Hr-nbw Dsr xaw.w sxm pHty', 'Hr-nbw Dsr xaw.w sxm [MASK]', 'pHty'),\n",
              " ('iw =i Hr Ssp tA aDd.t Sri.t', 'iw =i [MASK] Ssp tA aDd.t Sri.t', 'Hr'),\n",
              " ('iw xm.w-sk Hr sSA xaw =k', '[MASK] xm.w-sk Hr sSA xaw =k', 'iw'),\n",
              " ('Hr-nbw Dsr xaw.w sxm pHty', 'Hr-nbw [MASK] xaw.w sxm pHty', 'Dsr')]"
            ]
          },
          "execution_count": 17,
          "metadata": {},
          "output_type": "execute_result"
        }
      ],
      "source": [
        "combined_sentences[16460:16470]"
      ]
    },
    {
      "cell_type": "markdown",
      "metadata": {
        "id": "rCnasW1mnegD"
      },
      "source": [
        "##### Save sentences with gaps into a file"
      ]
    },
    {
      "cell_type": "code",
      "execution_count": null,
      "metadata": {
        "colab": {
          "base_uri": "https://localhost:8080/"
        },
        "id": "1CPPjFKOtKsY",
        "outputId": "a08ce822-59cc-47c1-b1bc-7225e22fafeb"
      },
      "outputs": [
        {
          "name": "stdout",
          "output_type": "stream",
          "text": [
            "Opening file: aes_test_masked.txt\n",
            "Opening file: ramses_test_masked.txt\n",
            "Opening file: all_test_masked.txt\n"
          ]
        }
      ],
      "source": [
        "def save_masked_sentences(fn, sl):\n",
        "  print(\"Opening file:\", fn)\n",
        "  f = open(fn, \"w\")\n",
        "\n",
        "  for s in sl:\n",
        "    line = \" | \".join(s)\n",
        "    f.write(line + \"\\n\")\n",
        "\n",
        "  f.close()\n",
        "\n",
        "aes_masked_fn = \"aes_test_masked.txt\"\n",
        "ramses_masked_fn = \"ramses_test_masked.txt\"\n",
        "all_masked_fn = \"all_test_masked.txt\"\n",
        "\n",
        "save_masked_sentences(aes_masked_fn, aes_sentences)\n",
        "save_masked_sentences(ramses_masked_fn, ramses_sentences)\n",
        "save_masked_sentences(all_masked_fn, combined_sentences)"
      ]
    },
    {
      "cell_type": "markdown",
      "metadata": {
        "id": "Pn6T63rrMhyi"
      },
      "source": [
        "### Load generated test sentences from file"
      ]
    },
    {
      "cell_type": "code",
      "execution_count": null,
      "metadata": {
        "colab": {
          "base_uri": "https://localhost:8080/"
        },
        "id": "ycJMVaRpMj58",
        "outputId": "34077665-b534-4f8a-f8d8-e6e338bded3d"
      },
      "outputs": [
        {
          "output_type": "stream",
          "name": "stdout",
          "text": [
            "Opening file: aes_test_masked.txt\n",
            "Opening file: ramses_test_masked.txt\n",
            "Opening file: all_test_masked.txt\n"
          ]
        }
      ],
      "source": [
        "def load_masked_sentences(fn):\n",
        "  sl = []\n",
        "  print(\"Opening file:\", fn)\n",
        "  f = open(fn, \"r\")\n",
        "  fl = f.readlines()\n",
        "\n",
        "  for s in fl:\n",
        "    line = s.replace(u'\\xa0', u' ') # account for non-breaking spaces?\n",
        "    line = line.replace(\"\\n\", \"\")\n",
        "    original_sentence, masked_sentence, correct_prediction = line.split(\" | \")\n",
        "    sl.append((original_sentence, masked_sentence, correct_prediction))\n",
        "\n",
        "  f.close()\n",
        "\n",
        "  return sl\n",
        "\n",
        "aes_masked_fn = \"aes_test_masked.txt\"\n",
        "ramses_masked_fn = \"ramses_test_masked.txt\"\n",
        "all_masked_fn = \"all_test_masked.txt\"\n",
        "\n",
        "aes_sentences = load_masked_sentences(aes_masked_fn)\n",
        "ramses_sentences = load_masked_sentences(ramses_masked_fn)\n",
        "combined_sentences = load_masked_sentences(all_masked_fn)"
      ]
    },
    {
      "cell_type": "code",
      "execution_count": null,
      "metadata": {
        "colab": {
          "base_uri": "https://localhost:8080/"
        },
        "id": "GT3D0qIVPNxu",
        "outputId": "4bc1d583-1211-4c85-ddfa-a68f2326b1e9"
      },
      "outputs": [
        {
          "output_type": "execute_result",
          "data": {
            "text/plain": [
              "[('Raw-Hr.w-Ax.ty-Hai-m-Ax.t M-rn=f-m-Sw-n.ty-m-Jtn Di anx D.t nHH Jtn anx wr ym.y-HAb-sd nb-Snn.t-nb-Jtn nb-p.t nb-tA m Pr-Jtn m Ax.t-Jtn',\n",
              "  'Raw-Hr.w-Ax.ty-Hai-m-Ax.t M-rn=f-m-Sw-n.ty-m-Jtn Di anx D.t nHH Jtn anx wr ym.y-HAb-sd nb-Snn.t-nb-Jtn nb-p.t [MASK] m Pr-Jtn m Ax.t-Jtn',\n",
              "  'nb-tA'),\n",
              " ('Hw.t-Hr.w nb.t-Hw.t', 'Hw.t-Hr.w [MASK]', 'nb.t-Hw.t'),\n",
              " ('aA =y m tm m ra =y wDA nHi.n =f yAw nfr mri anx',\n",
              "  '[MASK] =y m tm m ra =y wDA nHi.n =f yAw nfr mri anx',\n",
              "  'aA'),\n",
              " ('xr yr Xnw pA 4 wD SAa-m pA Dw yAb.ty n Ax.t-Jtn nfr.yt-r pA Dw ymn.ty n Ax.t-Jtn Ax.t-Jtn r-Ha.w =s tAy',\n",
              "  'xr yr Xnw pA 4 wD SAa-m pA [MASK] yAb.ty n Ax.t-Jtn nfr.yt-r pA Dw ymn.ty n Ax.t-Jtn Ax.t-Jtn r-Ha.w =s tAy',\n",
              "  'Dw'),\n",
              " ('bn yri.y HyHy =f', 'bn yri.y HyHy [MASK]', '=f')]"
            ]
          },
          "metadata": {},
          "execution_count": 11
        }
      ],
      "source": [
        "aes_sentences[:5]"
      ]
    },
    {
      "cell_type": "code",
      "execution_count": null,
      "metadata": {
        "colab": {
          "base_uri": "https://localhost:8080/"
        },
        "id": "r-ZyP31AoGBD",
        "outputId": "ca8766d3-3fa5-468e-a01c-5b3d321e6ac4"
      },
      "outputs": [
        {
          "output_type": "execute_result",
          "data": {
            "text/plain": [
              "[('ink i.di n =k pA XAr 20 2 1/2 bd.t Hna nA sS.w nb.w nty ir.w r-Hry',\n",
              "  'ink i.di n =k pA XAr 20 2 1/2 bd.t Hna nA [MASK] nb.w nty ir.w r-Hry',\n",
              "  'sS.w'),\n",
              " ('Hr-nbw Dsr xaw.w sxm pHty', 'Hr-nbw Dsr xaw.w [MASK] pHty', 'sxm'),\n",
              " ('iw =i Hr Ssp tA aDd.t Sri.t', '[MASK] =i Hr Ssp tA aDd.t Sri.t', 'iw'),\n",
              " ('iw xm.w-sk Hr sSA xaw =k', 'iw xm.w-sk [MASK] sSA xaw =k', 'Hr'),\n",
              " ('Hr-nbw Dsr xaw.w sxm pHty', 'Hr-nbw Dsr xaw.w sxm [MASK]', 'pHty')]"
            ]
          },
          "metadata": {},
          "execution_count": 12
        }
      ],
      "source": [
        "ramses_sentences[:5]"
      ]
    },
    {
      "cell_type": "code",
      "execution_count": null,
      "metadata": {
        "colab": {
          "base_uri": "https://localhost:8080/"
        },
        "id": "UllrbYYnoGe4",
        "outputId": "a95715cb-36e0-443c-b6ef-8ecc82c5675e"
      },
      "outputs": [
        {
          "output_type": "execute_result",
          "data": {
            "text/plain": [
              "[('wD Hm =f n yr.y-pa.t HA.ty-a Hr.y-sStA-n-pr-nswt Hr.y-tp-n-tA-r-Dr=f xtm.ty-by.ty sbA-tA.wy-HAw.ty ym.y-ra-smr.w ym.y-ra-xtm.ty Wsr-NSm.t',\n",
              "  'wD Hm =f n yr.y-pa.t HA.ty-a Hr.y-sStA-n-pr-nswt [MASK] xtm.ty-by.ty sbA-tA.wy-HAw.ty ym.y-ra-smr.w ym.y-ra-xtm.ty Wsr-NSm.t',\n",
              "  'Hr.y-tp-n-tA-r-Dr=f'),\n",
              " ('tw=k qAi.T Sma.T', 'tw=k [MASK] Sma.T', 'qAi.T'),\n",
              " ('PA-kAmn 100', '[MASK] 100', 'PA-kAmn'),\n",
              " ('qd.n =y pr Sad.n =y S Hm-nTr MnT.w-Htp',\n",
              "  'qd.n =y [MASK] Sad.n =y S Hm-nTr MnT.w-Htp',\n",
              "  'pr'),\n",
              " ('Dd =y n m myn', 'Dd =y [MASK] m myn', 'n'),\n",
              " ('ink i.di n =k pA XAr 20 2 1/2 bd.t Hna nA sS.w nb.w nty ir.w r-Hry',\n",
              "  'ink i.di n =k pA XAr 20 2 1/2 bd.t Hna nA sS.w nb.w nty [MASK] r-Hry',\n",
              "  'ir.w'),\n",
              " ('Hr-nbw Dsr xaw.w sxm pHty', 'Hr-nbw Dsr xaw.w sxm [MASK]', 'pHty'),\n",
              " ('iw =i Hr Ssp tA aDd.t Sri.t', 'iw =i [MASK] Ssp tA aDd.t Sri.t', 'Hr'),\n",
              " ('iw xm.w-sk Hr sSA xaw =k', '[MASK] xm.w-sk Hr sSA xaw =k', 'iw'),\n",
              " ('Hr-nbw Dsr xaw.w sxm pHty', 'Hr-nbw [MASK] xaw.w sxm pHty', 'Dsr')]"
            ]
          },
          "metadata": {},
          "execution_count": 13
        }
      ],
      "source": [
        "combined_sentences[16460:16470]"
      ]
    },
    {
      "cell_type": "markdown",
      "metadata": {
        "id": "-pJaZb--SlUJ"
      },
      "source": [
        "### Save predictions"
      ]
    },
    {
      "cell_type": "code",
      "execution_count": null,
      "metadata": {
        "id": "kCz9hkZcuhNt"
      },
      "outputs": [],
      "source": [
        "from tqdm.notebook import tqdm, tqdm_notebook\n",
        "def save_predictions_to_file(k, model, tokenizer, filename, test_sentences):\n",
        "  print(\"Opening file:\", filename)\n",
        "  predictions_file = open(filename, \"w\")\n",
        "\n",
        "  model_unmasker = pipeline('fill-mask', model=model, tokenizer=tokenizer, top_k=k)\n",
        "\n",
        "  for sentence in tqdm_notebook(test_sentences, desc=\"Predicting\", unit='sentence',\n",
        "                                mininterval=1.0, postfix={'filename':filename}):\n",
        "    predictions = model_unmasker(sentence[1])\n",
        "    line = \" | \".join(sentence) + \" | \" + str(predictions)\n",
        "    predictions_file.write(line + \"\\n\")\n",
        "\n",
        "  predictions_file.close()"
      ]
    },
    {
      "cell_type": "code",
      "execution_count": null,
      "metadata": {
        "colab": {
          "base_uri": "https://localhost:8080/",
          "height": 203,
          "referenced_widgets": [
            "3cd4f92e641b4b46a5b300c8a7604f93",
            "dc804b5752d64447a6de011d5e9a0efa",
            "ea5077cbf5564b518e7038b76c2f021f",
            "6e3de5baf52d47e3a4050abfe9f4586c",
            "27b499914b034ca093f134ac970d307f",
            "5580efb108e8462bb2708489eed847fd",
            "a96c164b87b44234badf8fdae4d29f33",
            "506d051123554b00b81908afbc31a3f5",
            "d49a1270ba584bde85c1815f1d03b1b0",
            "97d27350bc0b4bb6b54ee93d7fd35d9b",
            "8d279cfaf5a54c728c49c077a24a6121",
            "6308130764b14da48c9d7be9d1d800cd",
            "f29329363a1843f1970d24e478d80e26",
            "a64106fbed494cd8ac0796a58ce34caf",
            "428a76c9ed9542b5bb0414c000331c05",
            "56417ab67ec440389d9f91121d4a0c77",
            "3f18c580b80645728a7d87752149fbe4",
            "f201dc3045534851a139c543b3b52968"
          ]
        },
        "id": "ukgE69_4dD8H",
        "outputId": "97a1c1da-05c8-4471-edde-768efb801dce"
      },
      "outputs": [
        {
          "name": "stdout",
          "output_type": "stream",
          "text": [
            "Generating predictions, takes a long time.\n",
            "Opening file: all_test_aes_predictions.txt\n"
          ]
        },
        {
          "data": {
            "application/vnd.jupyter.widget-view+json": {
              "model_id": "3cd4f92e641b4b46a5b300c8a7604f93",
              "version_major": 2,
              "version_minor": 0
            },
            "text/plain": [
              "Predicting:   0%|          | 0/16465 [00:00<?, ?sentence/s, filename=all_test_aes_predictions.txt]"
            ]
          },
          "metadata": {},
          "output_type": "display_data"
        },
        {
          "data": {
            "application/vnd.jupyter.widget-view+json": {
              "model_id": "6308130764b14da48c9d7be9d1d800cd",
              "version_major": 2,
              "version_minor": 0
            },
            "text/plain": [
              "interactive(children=(Button(description='Regenerate', style=ButtonStyle()), Output()), _dom_classes=('widget-…"
            ]
          },
          "metadata": {},
          "output_type": "display_data"
        },
        {
          "data": {
            "text/html": [
              "<div style=\"max-width:800px; border: 1px solid var(--colab-border-color);\"><style>\n",
              "      pre.function-repr-contents {\n",
              "        overflow-x: auto;\n",
              "        padding: 8px 12px;\n",
              "        max-height: 500px;\n",
              "      }\n",
              "\n",
              "      pre.function-repr-contents.function-repr-contents-collapsed {\n",
              "        cursor: pointer;\n",
              "        max-height: 100px;\n",
              "      }\n",
              "    </style>\n",
              "    <pre style=\"white-space: initial; background:\n",
              "         var(--colab-secondary-surface-color); padding: 8px 12px;\n",
              "         border-bottom: 1px solid var(--colab-border-color);\"><b>regenerate_all_test_aes_predictions</b><br/>def regenerate_all_test_aes_predictions()</pre><pre class=\"function-repr-contents function-repr-contents-collapsed\" style=\"\"><a class=\"filepath\" style=\"display:none\" href=\"#\">/content/drive/MyDrive/Colab Notebooks/data/&lt;ipython-input-25-c51bc47faa29&gt;</a>&lt;no docstring&gt;</pre></div>"
            ],
            "text/plain": [
              "<function __main__.regenerate_all_test_aes_predictions()>"
            ]
          },
          "execution_count": 25,
          "metadata": {},
          "output_type": "execute_result"
        }
      ],
      "source": [
        "# @title AES model (on AES) predictions\n",
        "def regenerate_all_test_aes_predictions():\n",
        "  if os.path.exists(\"aes-model\"):\n",
        "    aes_model = AutoModelForMaskedLM.from_pretrained('./aes-model')\n",
        "    aes_model.cuda()\n",
        "    save_predictions_to_file(10, aes_model, aes_tokenizer, \"all_test_aes_predictions.txt\", aes_sentences)\n",
        "  else:\n",
        "    print(\"Model not found: unable to regenerate predictions\")\n",
        "    print(\"get aes-model from huggingface and copy it to ./aes-model.\")\n",
        "    print(\"For details see: https://huggingface.co/egy-snlp-project/aes-model/tree/main\")\n",
        "    print(\"(only for people enrolled to the project)\")\n",
        "\n",
        "if os.path.exists(\"all_test_aes_predictions.txt\"):\n",
        "  print(\"Old predictions already exist.\")\n",
        "else:\n",
        "  print(\"Generating predictions, takes a long time.\")\n",
        "  regenerate_all_test_aes_predictions()\n",
        "\n",
        "from ipywidgets import interact_manual\n",
        "my_interact_aes = interact_manual.options(manual_name=\"Regenerate\")\n",
        "my_interact_aes(regenerate_all_test_aes_predictions)"
      ]
    },
    {
      "cell_type": "code",
      "execution_count": null,
      "metadata": {
        "colab": {
          "base_uri": "https://localhost:8080/",
          "height": 203,
          "referenced_widgets": [
            "6b1207bdb994490c867b009017e77b0a",
            "6902a37c469b443d89b83593d94b1f80",
            "885f77f4ce5348d3a83aaefbaaa7d5c8",
            "c4ca5b42ee31435a8eab95c7b0eaa9cd",
            "6ad4767727054667a523753a4b448d8e",
            "031c3317a81c4363bc19f7da9f4b99aa",
            "8fd1684c10fd4da495cde046a8173f28",
            "57f8dd0c7deb440486ee71df40a9e3e1",
            "22dbe858d96442c2a5bc6a842236f141",
            "586760eadd344cf5912606b146c19eab",
            "9a7a3bbfd2254340bc64466b0fcb18e6",
            "6841884f7e434ac1aec39573d2adb804",
            "74015556a65a4f5ea22b893d6c82ca66",
            "614064d07cb34545ba611e5159d3f71a",
            "e8d65958e769462aa77d0ba59ed74289",
            "e4d78eabbdec4e18a68d9339672b29c2",
            "89261cabb4a041a1ae5d576ed32849d5",
            "66137293f4f54622a70a22263b6cc7f5"
          ]
        },
        "id": "gPrMNvUEisjx",
        "outputId": "7ee4c9a6-acc5-4885-8db1-6c030daf80df"
      },
      "outputs": [
        {
          "name": "stdout",
          "output_type": "stream",
          "text": [
            "Generating predictions, takes a long time.\n",
            "Opening file: all_test_aes_all_predictions.txt\n"
          ]
        },
        {
          "data": {
            "application/vnd.jupyter.widget-view+json": {
              "model_id": "6b1207bdb994490c867b009017e77b0a",
              "version_major": 2,
              "version_minor": 0
            },
            "text/plain": [
              "Predicting:   0%|          | 0/25377 [00:00<?, ?sentence/s, filename=all_test_aes_all_predictions.txt]"
            ]
          },
          "metadata": {},
          "output_type": "display_data"
        },
        {
          "data": {
            "application/vnd.jupyter.widget-view+json": {
              "model_id": "6841884f7e434ac1aec39573d2adb804",
              "version_major": 2,
              "version_minor": 0
            },
            "text/plain": [
              "interactive(children=(Button(description='Regenerate', style=ButtonStyle()), Output()), _dom_classes=('widget-…"
            ]
          },
          "metadata": {},
          "output_type": "display_data"
        },
        {
          "data": {
            "text/html": [
              "<div style=\"max-width:800px; border: 1px solid var(--colab-border-color);\"><style>\n",
              "      pre.function-repr-contents {\n",
              "        overflow-x: auto;\n",
              "        padding: 8px 12px;\n",
              "        max-height: 500px;\n",
              "      }\n",
              "\n",
              "      pre.function-repr-contents.function-repr-contents-collapsed {\n",
              "        cursor: pointer;\n",
              "        max-height: 100px;\n",
              "      }\n",
              "    </style>\n",
              "    <pre style=\"white-space: initial; background:\n",
              "         var(--colab-secondary-surface-color); padding: 8px 12px;\n",
              "         border-bottom: 1px solid var(--colab-border-color);\"><b>regenerate_all_test_aes_all_predictions</b><br/>def regenerate_all_test_aes_all_predictions()</pre><pre class=\"function-repr-contents function-repr-contents-collapsed\" style=\"\"><a class=\"filepath\" style=\"display:none\" href=\"#\">/content/drive/MyDrive/Colab Notebooks/data/&lt;ipython-input-26-d4f75489c165&gt;</a>&lt;no docstring&gt;</pre></div>"
            ],
            "text/plain": [
              "<function __main__.regenerate_all_test_aes_all_predictions()>"
            ]
          },
          "execution_count": 26,
          "metadata": {},
          "output_type": "execute_result"
        }
      ],
      "source": [
        "# @title AES model (on all) predictions\n",
        "def regenerate_all_test_aes_all_predictions():\n",
        "  if os.path.exists(\"aes-model\"):\n",
        "    aes_model = AutoModelForMaskedLM.from_pretrained('./aes-model')\n",
        "    aes_model.resize_token_embeddings(len(combined_tokenizer))\n",
        "    aes_model.cuda()\n",
        "    save_predictions_to_file(10, aes_model, combined_tokenizer, \"all_test_aes_all_predictions.txt\", combined_sentences)\n",
        "  else:\n",
        "    print(\"Model not found: unable to regenerate predictions\")\n",
        "    print(\"get aes-model from huggingface and copy it to ./aes-model.\")\n",
        "    print(\"For details see: https://huggingface.co/egy-snlp-project/aes-model/tree/main\")\n",
        "    print(\"(only for people enrolled to the project)\")\n",
        "\n",
        "if os.path.exists(\"all_test_aes_all_predictions.txt\"):\n",
        "  print(\"Old predictions already exist.\")\n",
        "else:\n",
        "  print(\"Generating predictions, takes a long time.\")\n",
        "  regenerate_all_test_aes_all_predictions()\n",
        "\n",
        "from ipywidgets import interact_manual\n",
        "my_interact_aes_all = interact_manual.options(manual_name=\"Regenerate\")\n",
        "my_interact_aes_all(regenerate_all_test_aes_all_predictions)"
      ]
    },
    {
      "cell_type": "code",
      "execution_count": null,
      "metadata": {
        "colab": {
          "base_uri": "https://localhost:8080/",
          "height": 203,
          "referenced_widgets": [
            "528881335e86470ea3b216369edfe9a7",
            "c76b25fb81874e34906816590093d704",
            "5a7734c4028c42f98b422fb200a7a3fb",
            "4438aec53e5642bcbe554318007f4529",
            "c27e74a478fa4cabbc228cb53eb42f3e",
            "10c4e1f11cf74b66b6b0c5c20dfcf52a",
            "0f537bffba6f40539ccb1303a0ac11f8",
            "fcd6f50dccc543e9aec004a43b5b61a4",
            "c3f0bab5c94c494291961f411473ca28",
            "b5dba242258e44bdb157773f22ecdef1",
            "3b3a486d680a46cf953fd712512b2781",
            "8182e490726a49a28d49bb9f31dc42b3",
            "aaa48f138ed44f6fb40f6c0b2fec6c87",
            "1662cc0017874a8c8f0febda9c102f04",
            "2e68f64864b749cdad339e5b0ac482f7",
            "8f7e64ff96e346b89dd2de7e02ae5715",
            "132b82dc85a54b5b9e8b25c9cc7f6f8e",
            "f1d5c2aea0c84f0797fa2d4ac765c4dc"
          ]
        },
        "id": "TELV6Ez3g3bA",
        "outputId": "e2f13d4f-e8e6-4c60-dfb5-20c327ef0769"
      },
      "outputs": [
        {
          "name": "stdout",
          "output_type": "stream",
          "text": [
            "Generating predictions, takes a long time.\n",
            "Opening file: all_test_ramses_predictions.txt\n"
          ]
        },
        {
          "data": {
            "application/vnd.jupyter.widget-view+json": {
              "model_id": "528881335e86470ea3b216369edfe9a7",
              "version_major": 2,
              "version_minor": 0
            },
            "text/plain": [
              "Predicting:   0%|          | 0/8912 [00:00<?, ?sentence/s, filename=all_test_ramses_predictions.txt]"
            ]
          },
          "metadata": {},
          "output_type": "display_data"
        },
        {
          "data": {
            "application/vnd.jupyter.widget-view+json": {
              "model_id": "8182e490726a49a28d49bb9f31dc42b3",
              "version_major": 2,
              "version_minor": 0
            },
            "text/plain": [
              "interactive(children=(Button(description='Regenerate', style=ButtonStyle()), Output()), _dom_classes=('widget-…"
            ]
          },
          "metadata": {},
          "output_type": "display_data"
        },
        {
          "data": {
            "text/html": [
              "<div style=\"max-width:800px; border: 1px solid var(--colab-border-color);\"><style>\n",
              "      pre.function-repr-contents {\n",
              "        overflow-x: auto;\n",
              "        padding: 8px 12px;\n",
              "        max-height: 500px;\n",
              "      }\n",
              "\n",
              "      pre.function-repr-contents.function-repr-contents-collapsed {\n",
              "        cursor: pointer;\n",
              "        max-height: 100px;\n",
              "      }\n",
              "    </style>\n",
              "    <pre style=\"white-space: initial; background:\n",
              "         var(--colab-secondary-surface-color); padding: 8px 12px;\n",
              "         border-bottom: 1px solid var(--colab-border-color);\"><b>regenerate_all_test_ramses_predictions</b><br/>def regenerate_all_test_ramses_predictions()</pre><pre class=\"function-repr-contents function-repr-contents-collapsed\" style=\"\"><a class=\"filepath\" style=\"display:none\" href=\"#\">/content/drive/MyDrive/Colab Notebooks/data/&lt;ipython-input-27-556cde1f6f21&gt;</a>&lt;no docstring&gt;</pre></div>"
            ],
            "text/plain": [
              "<function __main__.regenerate_all_test_ramses_predictions()>"
            ]
          },
          "execution_count": 27,
          "metadata": {},
          "output_type": "execute_result"
        }
      ],
      "source": [
        "# @title Ramses (on Ramses) model predictions\n",
        "def regenerate_all_test_ramses_predictions():\n",
        "  if os.path.exists(\"ramses-model\"):\n",
        "    ramses_model = AutoModelForMaskedLM.from_pretrained('./ramses-model')\n",
        "    ramses_model.cuda()\n",
        "    save_predictions_to_file(10, ramses_model, ramses_tokenizer, \"all_test_ramses_predictions.txt\", ramses_sentences)\n",
        "  else:\n",
        "    print(\"Model not found: unable to regenerate predictions\")\n",
        "    print(\"get ramses-model from huggingface and copy it to ./ramses-model.\")\n",
        "    print(\"For details see: https://huggingface.co/egy-snlp-project/ramses-model/tree/main\")\n",
        "    print(\"(only for people enrolled to the project)\")\n",
        "\n",
        "if os.path.exists(\"all_test_ramses_predictions.txt\"):\n",
        "  print(\"Old predictions already exist.\")\n",
        "else:\n",
        "  print(\"Generating predictions, takes a long time.\")\n",
        "  regenerate_all_test_ramses_predictions()\n",
        "\n",
        "from ipywidgets import interact_manual\n",
        "my_interact_ramses = interact_manual.options(manual_name=\"Regenerate\")\n",
        "my_interact_ramses(regenerate_all_test_ramses_predictions)"
      ]
    },
    {
      "cell_type": "code",
      "execution_count": null,
      "metadata": {
        "colab": {
          "base_uri": "https://localhost:8080/",
          "height": 203,
          "referenced_widgets": [
            "63c77458e0f1487ba5a3f1a70e9db17b",
            "fb0ee16a85794cec97027e6ce27ed957",
            "9ac24e4ea60e48e594cd747b7debd467",
            "31b8a80856fd4498b1794124765c3533",
            "a8a28dcb76194ddaa1d32990888e14ca",
            "5dc018e0abcb4039a9618485725ed193",
            "8f28e8fa2c12439e87a9a9d29fc3dc5e",
            "7c60df2a1d5841c9bc30e94fb8d50907",
            "f1d0f4737fcf471a8ec0625d0a172448",
            "b6586835209740488a0ddacfc447b47b",
            "564af1a1b6cf480c861a0e681e6e7c82",
            "4a55a61baf5e41338d9dc6e1484af9da",
            "3bd970d264534a1193b1b63a56cd7288",
            "af23668a80ac4cd18765b40c54713bfc",
            "1a304b8e5d9249c39c11e34addd09054",
            "da93ef7841b147b485046721242566e9",
            "708148f9842e4734b7c762483145491d",
            "6cf4998d0eec4c31884ddf400f5f68c6"
          ]
        },
        "id": "1tR0Mxu0jdem",
        "outputId": "0f87f90e-31f2-4372-c05a-2b144795257c"
      },
      "outputs": [
        {
          "name": "stdout",
          "output_type": "stream",
          "text": [
            "Generating predictions, takes a long time.\n",
            "Opening file: all_test_ramses_all_predictions.txt\n"
          ]
        },
        {
          "data": {
            "application/vnd.jupyter.widget-view+json": {
              "model_id": "63c77458e0f1487ba5a3f1a70e9db17b",
              "version_major": 2,
              "version_minor": 0
            },
            "text/plain": [
              "Predicting:   0%|          | 0/25377 [00:00<?, ?sentence/s, filename=all_test_ramses_all_predictions.txt]"
            ]
          },
          "metadata": {},
          "output_type": "display_data"
        },
        {
          "data": {
            "application/vnd.jupyter.widget-view+json": {
              "model_id": "4a55a61baf5e41338d9dc6e1484af9da",
              "version_major": 2,
              "version_minor": 0
            },
            "text/plain": [
              "interactive(children=(Button(description='Regenerate', style=ButtonStyle()), Output()), _dom_classes=('widget-…"
            ]
          },
          "metadata": {},
          "output_type": "display_data"
        },
        {
          "data": {
            "text/html": [
              "<div style=\"max-width:800px; border: 1px solid var(--colab-border-color);\"><style>\n",
              "      pre.function-repr-contents {\n",
              "        overflow-x: auto;\n",
              "        padding: 8px 12px;\n",
              "        max-height: 500px;\n",
              "      }\n",
              "\n",
              "      pre.function-repr-contents.function-repr-contents-collapsed {\n",
              "        cursor: pointer;\n",
              "        max-height: 100px;\n",
              "      }\n",
              "    </style>\n",
              "    <pre style=\"white-space: initial; background:\n",
              "         var(--colab-secondary-surface-color); padding: 8px 12px;\n",
              "         border-bottom: 1px solid var(--colab-border-color);\"><b>regenerate_all_test_ramses_all_predictions</b><br/>def regenerate_all_test_ramses_all_predictions()</pre><pre class=\"function-repr-contents function-repr-contents-collapsed\" style=\"\"><a class=\"filepath\" style=\"display:none\" href=\"#\">/content/drive/MyDrive/Colab Notebooks/data/&lt;ipython-input-28-d230dfa8f51b&gt;</a>&lt;no docstring&gt;</pre></div>"
            ],
            "text/plain": [
              "<function __main__.regenerate_all_test_ramses_all_predictions()>"
            ]
          },
          "execution_count": 28,
          "metadata": {},
          "output_type": "execute_result"
        }
      ],
      "source": [
        "# @title Ramses (on all) model predictions\n",
        "def regenerate_all_test_ramses_all_predictions():\n",
        "  if os.path.exists(\"ramses-model\"):\n",
        "    ramses_model = AutoModelForMaskedLM.from_pretrained('./ramses-model')\n",
        "    ramses_model.resize_token_embeddings(len(combined_tokenizer))\n",
        "    ramses_model.cuda()\n",
        "    save_predictions_to_file(10, ramses_model, combined_tokenizer, \"all_test_ramses_all_predictions.txt\", combined_sentences)\n",
        "  else:\n",
        "    print(\"Model not found: unable to regenerate predictions\")\n",
        "    print(\"get ramses-model from huggingface and copy it to ./ramses-model.\")\n",
        "    print(\"For details see: https://huggingface.co/egy-snlp-project/ramses-model/tree/main\")\n",
        "    print(\"(only for people enrolled to the project)\")\n",
        "\n",
        "if os.path.exists(\"all_test_ramses_all_predictions.txt\"):\n",
        "  print(\"Old predictions already exist.\")\n",
        "else:\n",
        "  print(\"Generating predictions, takes a long time.\")\n",
        "  regenerate_all_test_ramses_all_predictions()\n",
        "\n",
        "from ipywidgets import interact_manual\n",
        "my_interact_ramses_all = interact_manual.options(manual_name=\"Regenerate\")\n",
        "my_interact_ramses_all(regenerate_all_test_ramses_all_predictions)"
      ]
    },
    {
      "cell_type": "code",
      "execution_count": null,
      "metadata": {
        "colab": {
          "base_uri": "https://localhost:8080/",
          "height": 203,
          "referenced_widgets": [
            "a3543fe70c6849628a06e09a0ef5feaf",
            "69684c3c480c45cdadd82d3614a165b0",
            "7b287e1dbf5749fabe5a99f76e5d48d8",
            "0432e7bc960a426b89d53b90f187c79a",
            "704815339e9640e3bc9bfd97f08c2d9f",
            "99f14d83418345e6974e2a0f84507070",
            "41c07c05eb844cb68cea29c25c4a85f6",
            "838b496e07bb4df5b69a12be8d3f62c3",
            "ef7e33f66039438293f09b6a5be79483",
            "a9e368815b38443ea6fc861b8f3e06af",
            "3c53e1bafc4b46eab79f2de347fa8b3a",
            "0adb46c0f209484388dfa44efd263e2a",
            "28505b5c16e44ab9966f460f4e149837",
            "ec22c3b23fdd47ca8f9dfa4793b53a15",
            "3393ba19be5f44658978ee0d6fc468a6",
            "0324250ec92d42469208b8024d2826b2",
            "60f8020dc5164bb1ab6b65eaa815e87d",
            "2be7b46aa8784f8fb459c1bf8bf901bf"
          ]
        },
        "id": "n-IdF2Iyg5Cx",
        "outputId": "6e0c438a-a50b-43a4-bf78-65365b3e2f1f"
      },
      "outputs": [
        {
          "name": "stdout",
          "output_type": "stream",
          "text": [
            "Generating predictions, takes a long time.\n",
            "Opening file: all_test_combined_predictions.txt\n"
          ]
        },
        {
          "data": {
            "application/vnd.jupyter.widget-view+json": {
              "model_id": "a3543fe70c6849628a06e09a0ef5feaf",
              "version_major": 2,
              "version_minor": 0
            },
            "text/plain": [
              "Predicting:   0%|          | 0/25377 [00:00<?, ?sentence/s, filename=all_test_combined_predictions.txt]"
            ]
          },
          "metadata": {},
          "output_type": "display_data"
        },
        {
          "data": {
            "application/vnd.jupyter.widget-view+json": {
              "model_id": "0adb46c0f209484388dfa44efd263e2a",
              "version_major": 2,
              "version_minor": 0
            },
            "text/plain": [
              "interactive(children=(Button(description='Regenerate', style=ButtonStyle()), Output()), _dom_classes=('widget-…"
            ]
          },
          "metadata": {},
          "output_type": "display_data"
        },
        {
          "data": {
            "text/html": [
              "<div style=\"max-width:800px; border: 1px solid var(--colab-border-color);\"><style>\n",
              "      pre.function-repr-contents {\n",
              "        overflow-x: auto;\n",
              "        padding: 8px 12px;\n",
              "        max-height: 500px;\n",
              "      }\n",
              "\n",
              "      pre.function-repr-contents.function-repr-contents-collapsed {\n",
              "        cursor: pointer;\n",
              "        max-height: 100px;\n",
              "      }\n",
              "    </style>\n",
              "    <pre style=\"white-space: initial; background:\n",
              "         var(--colab-secondary-surface-color); padding: 8px 12px;\n",
              "         border-bottom: 1px solid var(--colab-border-color);\"><b>regenerate_all_test_combined_predictions</b><br/>def regenerate_all_test_combined_predictions()</pre><pre class=\"function-repr-contents function-repr-contents-collapsed\" style=\"\"><a class=\"filepath\" style=\"display:none\" href=\"#\">/content/drive/MyDrive/Colab Notebooks/data/&lt;ipython-input-29-9e72e13d92d0&gt;</a>&lt;no docstring&gt;</pre></div>"
            ],
            "text/plain": [
              "<function __main__.regenerate_all_test_combined_predictions()>"
            ]
          },
          "execution_count": 29,
          "metadata": {},
          "output_type": "execute_result"
        }
      ],
      "source": [
        "# @title Combined model predictions\n",
        "def regenerate_all_test_combined_predictions():\n",
        "  if os.path.exists(\"combined-model\"):\n",
        "    combined_model = AutoModelForMaskedLM.from_pretrained('./combined-model')\n",
        "    combined_model.cuda()\n",
        "    save_predictions_to_file(10, combined_model, combined_tokenizer, \"all_test_combined_predictions.txt\", combined_sentences)\n",
        "  else:\n",
        "    print(\"Model not found: unable to regenerate predictions\")\n",
        "    print(\"get combined-model from huggingface and copy it to ./combined-model.\")\n",
        "    print(\"For details see: https://huggingface.co/egy-snlp-project/combined-model/tree/main\")\n",
        "    print(\"(only for people enrolled to the project)\")\n",
        "\n",
        "if os.path.exists(\"all_test_combined_predictions.txt\"):\n",
        "  print(\"Old predictions already exist.\")\n",
        "else:\n",
        "  print(\"Generating predictions, takes a long time.\")\n",
        "  regenerate_all_test_combined_predictions()\n",
        "\n",
        "from ipywidgets import interact_manual\n",
        "my_interact_combined = interact_manual.options(manual_name=\"Regenerate\")\n",
        "my_interact_combined(regenerate_all_test_combined_predictions)"
      ]
    },
    {
      "cell_type": "code",
      "execution_count": null,
      "metadata": {
        "colab": {
          "base_uri": "https://localhost:8080/",
          "height": 275,
          "referenced_widgets": [
            "1e2a443e9069478bb7a65f8de073cfb4",
            "ba9a7284f25d44f9b079865991d51d37",
            "cf1bcf7da376478ca02154aa9be4ecdd",
            "b1663b66d79a40cb9520511ce941b41f",
            "c08314a33ea54d49817f65e5af43cec5",
            "0ff3d34ae44a4e408122c48f85e16842",
            "1996a14509774269a933a1877f1d21df",
            "0453844d299a4f06a31c49a4214768a9",
            "9718e369c6094fa085078d3e40ecb89f",
            "454b9f73d166449489aec91a735145e4",
            "e2c430bc0a7a4ced889a357880f922e2",
            "da5dbd90244a4e3bb36972ab8eeb20d7",
            "97a83220ae184cddb275f87a8c7fca08",
            "d95bf631ecd143a7bbcff66bd77a9788",
            "88549bf1819141eaa259a7631398b651",
            "78284e1c4b554d9e8c980b46eee8e54b",
            "553b10cbd00043d792e3fbcaebe88e7c",
            "a31d6fe9248d4aa099ecd730b7937bdf"
          ]
        },
        "id": "r4Ht4_ESdGsc",
        "outputId": "1eeac2ec-e367-40d5-9c5b-10b99e193e99"
      },
      "outputs": [
        {
          "output_type": "stream",
          "name": "stdout",
          "text": [
            "Generating predictions, takes a long time.\n"
          ]
        },
        {
          "output_type": "stream",
          "name": "stderr",
          "text": [
            "Some weights of the model checkpoint at bert-base-multilingual-cased were not used when initializing BertForMaskedLM: ['bert.pooler.dense.bias', 'bert.pooler.dense.weight', 'cls.seq_relationship.bias', 'cls.seq_relationship.weight']\n",
            "- This IS expected if you are initializing BertForMaskedLM from the checkpoint of a model trained on another task or with another architecture (e.g. initializing a BertForSequenceClassification model from a BertForPreTraining model).\n",
            "- This IS NOT expected if you are initializing BertForMaskedLM from the checkpoint of a model that you expect to be exactly identical (initializing a BertForSequenceClassification model from a BertForSequenceClassification model).\n"
          ]
        },
        {
          "output_type": "stream",
          "name": "stdout",
          "text": [
            "Opening file: all_test_mbert_predictions.txt\n"
          ]
        },
        {
          "output_type": "display_data",
          "data": {
            "text/plain": [
              "Predicting:   0%|          | 0/25377 [00:00<?, ?sentence/s, filename=all_test_mbert_predictions.txt]"
            ],
            "application/vnd.jupyter.widget-view+json": {
              "version_major": 2,
              "version_minor": 0,
              "model_id": "1e2a443e9069478bb7a65f8de073cfb4"
            }
          },
          "metadata": {}
        },
        {
          "output_type": "display_data",
          "data": {
            "text/plain": [
              "interactive(children=(Button(description='Regenerate', style=ButtonStyle()), Output()), _dom_classes=('widget-…"
            ],
            "application/vnd.jupyter.widget-view+json": {
              "version_major": 2,
              "version_minor": 0,
              "model_id": "da5dbd90244a4e3bb36972ab8eeb20d7"
            }
          },
          "metadata": {}
        },
        {
          "output_type": "execute_result",
          "data": {
            "text/plain": [
              "<function __main__.regenerate_all_test_mbert_predictions()>"
            ],
            "text/html": [
              "<div style=\"max-width:800px; border: 1px solid var(--colab-border-color);\"><style>\n",
              "      pre.function-repr-contents {\n",
              "        overflow-x: auto;\n",
              "        padding: 8px 12px;\n",
              "        max-height: 500px;\n",
              "      }\n",
              "\n",
              "      pre.function-repr-contents.function-repr-contents-collapsed {\n",
              "        cursor: pointer;\n",
              "        max-height: 100px;\n",
              "      }\n",
              "    </style>\n",
              "    <pre style=\"white-space: initial; background:\n",
              "         var(--colab-secondary-surface-color); padding: 8px 12px;\n",
              "         border-bottom: 1px solid var(--colab-border-color);\"><b>regenerate_all_test_mbert_predictions</b><br/>def regenerate_all_test_mbert_predictions()</pre><pre class=\"function-repr-contents function-repr-contents-collapsed\" style=\"\"><a class=\"filepath\" style=\"display:none\" href=\"#\">/content/drive/MyDrive/Colab Notebooks/data/&lt;ipython-input-18-77399a193507&gt;</a>&lt;no docstring&gt;</pre></div>"
            ]
          },
          "metadata": {},
          "execution_count": 18
        }
      ],
      "source": [
        "# @title Multilingual-Bert (base) predictions\n",
        "def regenerate_all_test_mbert_predictions():\n",
        "  mbert_model = AutoModelForMaskedLM.from_pretrained('bert-base-multilingual-cased')\n",
        "  mbert_model.resize_token_embeddings(len(combined_tokenizer))\n",
        "  mbert_model.cuda()\n",
        "  save_predictions_to_file(10, mbert_model, combined_tokenizer, \"all_test_mbert_predictions.txt\", combined_sentences)\n",
        "\n",
        "if os.path.exists(\"all_test_mbert_predictions.txt\"):\n",
        "  print(\"Old predictions already exist.\")\n",
        "else:\n",
        "  print(\"Generating predictions, takes a long time.\")\n",
        "  regenerate_all_test_mbert_predictions()\n",
        "\n",
        "from ipywidgets import interact_manual\n",
        "my_interact_mbert = interact_manual.options(manual_name=\"Regenerate\")\n",
        "my_interact_mbert(regenerate_all_test_mbert_predictions)"
      ]
    },
    {
      "cell_type": "code",
      "execution_count": null,
      "metadata": {
        "id": "EP4Qf6HnjvDY",
        "colab": {
          "base_uri": "https://localhost:8080/",
          "height": 322,
          "referenced_widgets": [
            "58cb42c254d7451ab59356348b734262",
            "83ec1c67d59e4a94bbd83f98690bf984",
            "3b48bab24ef84b248a3eba0c8584bf10",
            "d515398adb1646e9ac35bc6a943bcbeb",
            "1c6fcff7a2aa460c96cf6d8e3c8ee809",
            "183ff9d5e6d54ba988f496064d48bad2",
            "a25a5421230045989f227287042b5b30",
            "9afa8ef5e5bd4f04b4b94856d2dc4778",
            "4551b5aa46f84c0386d1243b7044788b",
            "bd7060ebef484286b604a491f26ad92c",
            "7bf421808c2d4a75b890a3ea59c2b93f",
            "ae4e0a8b939249e9970bf8b7945c2cd4",
            "a5ad20ea0cc142b1aa438305e0cda7a6",
            "0265a43fd6ce4d7dbfa5c35ff63f5d07",
            "f909e401e6874246afbe04c52a0b4d8d",
            "39e9919ebef74947b3af1fe0fdda8b51",
            "10577ac8d82d46ab8d2d85a5817ac797",
            "3b30b60c911e48cfb4191587cb802be1",
            "16a128fdb95c42dca2da47c2c6574f87",
            "1742a48122ea45c59515bb4a17c4fa70",
            "dbd2f5f2c6d14cfcafe2d2a69699b5e4",
            "a80172dca60e4437aa6fcce6e0e322ad",
            "8e958412c4c846de994aec5c352255d0",
            "fb2eec10ea9b4435ae8dcd903d7fd398",
            "fbf1229c119f47a4b47c477810ae735a",
            "fe718307a5734508a6a4e5c8a60ec183",
            "c3bf506f25164044ad650631baee32bf",
            "e8f6589084dd41cc80de236ecc42ca21",
            "636c1803c1384c36a286bb57950936ca",
            "4f815a8b054a462e94fd8011c612938a",
            "3f5faf06ddd74a14874fc17db6340bc6",
            "c195060102da49be932d223c7f1f3e08",
            "ab53e846229a47d6a9d1614146ad8b22",
            "43f22fade5624efb8b224ce596458a7e",
            "0bace2e74baa48b297b3e14bae8c89df",
            "9e6bd3259f4b4b1fb2e23e3f71b85692",
            "73c24a51c819436bbd61d4710a645206",
            "bf2837ebe5164aa6bec2cfc773884696",
            "72550bf3774942cfb074b5e4a770155d",
            "0689489bccf34e10bef1ca3759c26973"
          ]
        },
        "outputId": "abe5324c-7969-45cc-dc00-8e855e8d7c86"
      },
      "outputs": [
        {
          "output_type": "stream",
          "name": "stdout",
          "text": [
            "Generating predictions, takes a long time.\n"
          ]
        },
        {
          "output_type": "display_data",
          "data": {
            "text/plain": [
              "config.json:   0%|          | 0.00/583 [00:00<?, ?B/s]"
            ],
            "application/vnd.jupyter.widget-view+json": {
              "version_major": 2,
              "version_minor": 0,
              "model_id": "58cb42c254d7451ab59356348b734262"
            }
          },
          "metadata": {}
        },
        {
          "output_type": "display_data",
          "data": {
            "text/plain": [
              "pytorch_model.bin:   0%|          | 0.00/5.17M [00:00<?, ?B/s]"
            ],
            "application/vnd.jupyter.widget-view+json": {
              "version_major": 2,
              "version_minor": 0,
              "model_id": "ae4e0a8b939249e9970bf8b7945c2cd4"
            }
          },
          "metadata": {}
        },
        {
          "output_type": "stream",
          "name": "stderr",
          "text": [
            "Some weights of BertForMaskedLM were not initialized from the model checkpoint at lgessler/microbert-coptic-m and are newly initialized: ['cls.predictions.bias', 'cls.predictions.decoder.bias', 'cls.predictions.transform.LayerNorm.bias', 'cls.predictions.transform.LayerNorm.weight', 'cls.predictions.transform.dense.bias', 'cls.predictions.transform.dense.weight']\n",
            "You should probably TRAIN this model on a down-stream task to be able to use it for predictions and inference.\n"
          ]
        },
        {
          "output_type": "stream",
          "name": "stdout",
          "text": [
            "Opening file: all_test_coptic_predictions.txt\n"
          ]
        },
        {
          "output_type": "display_data",
          "data": {
            "text/plain": [
              "Predicting:   0%|          | 0/25377 [00:00<?, ?sentence/s, filename=all_test_coptic_predictions.txt]"
            ],
            "application/vnd.jupyter.widget-view+json": {
              "version_major": 2,
              "version_minor": 0,
              "model_id": "8e958412c4c846de994aec5c352255d0"
            }
          },
          "metadata": {}
        },
        {
          "output_type": "display_data",
          "data": {
            "text/plain": [
              "interactive(children=(Button(description='Regenerate', style=ButtonStyle()), Output()), _dom_classes=('widget-…"
            ],
            "application/vnd.jupyter.widget-view+json": {
              "version_major": 2,
              "version_minor": 0,
              "model_id": "43f22fade5624efb8b224ce596458a7e"
            }
          },
          "metadata": {}
        },
        {
          "output_type": "execute_result",
          "data": {
            "text/plain": [
              "<function __main__.regenerate_all_test_coptic_predictions()>"
            ],
            "text/html": [
              "<div style=\"max-width:800px; border: 1px solid var(--colab-border-color);\"><style>\n",
              "      pre.function-repr-contents {\n",
              "        overflow-x: auto;\n",
              "        padding: 8px 12px;\n",
              "        max-height: 500px;\n",
              "      }\n",
              "\n",
              "      pre.function-repr-contents.function-repr-contents-collapsed {\n",
              "        cursor: pointer;\n",
              "        max-height: 100px;\n",
              "      }\n",
              "    </style>\n",
              "    <pre style=\"white-space: initial; background:\n",
              "         var(--colab-secondary-surface-color); padding: 8px 12px;\n",
              "         border-bottom: 1px solid var(--colab-border-color);\"><b>regenerate_all_test_coptic_predictions</b><br/>def regenerate_all_test_coptic_predictions()</pre><pre class=\"function-repr-contents function-repr-contents-collapsed\" style=\"\"><a class=\"filepath\" style=\"display:none\" href=\"#\">/content/drive/MyDrive/Colab Notebooks/data/&lt;ipython-input-19-afd927496791&gt;</a>&lt;no docstring&gt;</pre></div>"
            ]
          },
          "metadata": {},
          "execution_count": 19
        }
      ],
      "source": [
        "# @title Coptic predictions\n",
        "def regenerate_all_test_coptic_predictions():\n",
        "  coptic_model = AutoModelForMaskedLM.from_pretrained(\"lgessler/microbert-coptic-m\")\n",
        "  coptic_model.resize_token_embeddings(len(coptic_tokenizer))\n",
        "  coptic_model.cuda()\n",
        "  save_predictions_to_file(10, coptic_model, coptic_tokenizer, \"all_test_coptic_predictions.txt\", combined_sentences)\n",
        "\n",
        "if os.path.exists(\"all_test_coptic_predictions.txt\"):\n",
        "  print(\"Old predictions already exist.\")\n",
        "else:\n",
        "  print(\"Generating predictions, takes a long time.\")\n",
        "  regenerate_all_test_coptic_predictions()\n",
        "\n",
        "from ipywidgets import interact_manual\n",
        "my_interact_coptic = interact_manual.options(manual_name=\"Regenerate\")\n",
        "my_interact_coptic(regenerate_all_test_coptic_predictions)"
      ]
    },
    {
      "cell_type": "markdown",
      "metadata": {
        "id": "O9wVSlIlSrh3"
      },
      "source": [
        "### Load saved predictions"
      ]
    },
    {
      "cell_type": "code",
      "execution_count": null,
      "metadata": {
        "id": "UjZ5E4rT6vbV"
      },
      "outputs": [],
      "source": [
        "def get_sentences_with_predictions(file_name):\n",
        "  predictions_sentences = []\n",
        "\n",
        "  print(\"Opening file:\", file_name)\n",
        "  predictions_sentences_file = open(file_name, \"r\")\n",
        "\n",
        "  for sentence in predictions_sentences_file:\n",
        "    line = sentence.replace(u'\\xa0', u' ') # account for non-breaking spaces?\n",
        "    line = line.replace(\"\\n\", \"\")\n",
        "    original_sentence, masked_sentence, correct_prediction, predictions_str = line.split(\" | \", 3)\n",
        "    predictions = list(eval(predictions_str))\n",
        "    predictions_sentences.append([original_sentence, masked_sentence, correct_prediction, predictions])\n",
        "\n",
        "  predictions_sentences_file.close()\n",
        "\n",
        "  return predictions_sentences"
      ]
    },
    {
      "cell_type": "code",
      "execution_count": null,
      "metadata": {
        "id": "Ku8Bi4qEqxC6",
        "colab": {
          "base_uri": "https://localhost:8080/"
        },
        "outputId": "48e1f4a6-6215-48ab-e92a-b87d244852ec"
      },
      "outputs": [
        {
          "output_type": "stream",
          "name": "stdout",
          "text": [
            "Opening file: all_test_aes_predictions.txt\n",
            "[['Raw-Hr.w-Ax.ty-Hai-m-Ax.t M-rn=f-m-Sw-n.ty-m-Jtn Di anx D.t nHH Jtn anx wr ym.y-HAb-sd nb-Snn.t-nb-Jtn nb-p.t nb-tA m Pr-Jtn m Ax.t-Jtn', 'Raw-Hr.w-Ax.ty-Hai-m-Ax.t M-rn=f-m-Sw-n.ty-m-Jtn Di anx D.t nHH Jtn anx wr ym.y-HAb-sd nb-Snn.t-nb-Jtn nb-p.t [MASK] m Pr-Jtn m Ax.t-Jtn', 'nb-tA', [{'score': 0.9032711982727051, 'token': 119586, 'token_str': 'nb-tA', 'sequence': 'Raw-Hr.w-Ax.ty-Hai-m-Ax.t M-rn=f-m-Sw-n.ty-m-Jtn Di anx D.t nHH Jtn anx wr ym.y-HAb-sd nb-Snn.t-nb-Jtn nb-p.t nb-tA m Pr-Jtn m Ax.t-Jtn'}, {'score': 0.04545396938920021, 'token': 119585, 'token_str': 'nb-p.t', 'sequence': 'Raw-Hr.w-Ax.ty-Hai-m-Ax.t M-rn=f-m-Sw-n.ty-m-Jtn Di anx D.t nHH Jtn anx wr ym.y-HAb-sd nb-Snn.t-nb-Jtn nb-p.t nb-p.t m Pr-Jtn m Ax.t-Jtn'}, {'score': 0.0054491497576236725, 'token': 120212, 'token_str': 'ym.y-HAb-sd', 'sequence': 'Raw-Hr.w-Ax.ty-Hai-m-Ax.t M-rn=f-m-Sw-n.ty-m-Jtn Di anx D.t nHH Jtn anx wr ym.y-HAb-sd nb-Snn.t-nb-Jtn nb-p.t ym.y-HAb-sd m Pr-Jtn m Ax.t-Jtn'}, {'score': 0.0019879688043147326, 'token': 119582, 'token_str': 'anx', 'sequence': 'Raw-Hr.w-Ax.ty-Hai-m-Ax.t M-rn=f-m-Sw-n.ty-m-Jtn Di anx D.t nHH Jtn anx wr ym.y-HAb-sd nb-Snn.t-nb-Jtn nb-p.t anx m Pr-Jtn m Ax.t-Jtn'}, {'score': 0.0009818965336307883, 'token': 119607, 'token_str': 'aA-m-aHa.w=f', 'sequence': 'Raw-Hr.w-Ax.ty-Hai-m-Ax.t M-rn=f-m-Sw-n.ty-m-Jtn Di anx D.t nHH Jtn anx wr ym.y-HAb-sd nb-Snn.t-nb-Jtn nb-p.t aA-m-aHa.w=f m Pr-Jtn m Ax.t-Jtn'}, {'score': 0.000830007076729089, 'token': 119571, 'token_str': 'Jtn', 'sequence': 'Raw-Hr.w-Ax.ty-Hai-m-Ax.t M-rn=f-m-Sw-n.ty-m-Jtn Di anx D.t nHH Jtn anx wr ym.y-HAb-sd nb-Snn.t-nb-Jtn nb-p.t Jtn m Pr-Jtn m Ax.t-Jtn'}, {'score': 0.0008093724027276039, 'token': 121996, 'token_str': 'THn.w', 'sequence': 'Raw-Hr.w-Ax.ty-Hai-m-Ax.t M-rn=f-m-Sw-n.ty-m-Jtn Di anx D.t nHH Jtn anx wr ym.y-HAb-sd nb-Snn.t-nb-Jtn nb-p.t THn.w m Pr-Jtn m Ax.t-Jtn'}, {'score': 0.0008060939144343138, 'token': 126450, 'token_str': 'Nfr-kA-Raw', 'sequence': 'Raw-Hr.w-Ax.ty-Hai-m-Ax.t M-rn=f-m-Sw-n.ty-m-Jtn Di anx D.t nHH Jtn anx wr ym.y-HAb-sd nb-Snn.t-nb-Jtn nb-p.t Nfr-kA-Raw m Pr-Jtn m Ax.t-Jtn'}, {'score': 0.0007903247606009245, 'token': 119668, 'token_str': 'Nfr-nfr-Jtn-Nfr.t-yy.ty', 'sequence': 'Raw-Hr.w-Ax.ty-Hai-m-Ax.t M-rn=f-m-Sw-n.ty-m-Jtn Di anx D.t nHH Jtn anx wr ym.y-HAb-sd nb-Snn.t-nb-Jtn nb-p.t Nfr-nfr-Jtn-Nfr.t-yy.ty m Pr-Jtn m Ax.t-Jtn'}, {'score': 0.0007660546689294279, 'token': 119666, 'token_str': 'nb-xa', 'sequence': 'Raw-Hr.w-Ax.ty-Hai-m-Ax.t M-rn=f-m-Sw-n.ty-m-Jtn Di anx D.t nHH Jtn anx wr ym.y-HAb-sd nb-Snn.t-nb-Jtn nb-p.t nb-xa m Pr-Jtn m Ax.t-Jtn'}]]]\n",
            "  name     hit@1     hit@5    hit@10    MRR@5    MRR@10\n",
            "0  AES  0.234983  0.401822  0.457091  0.29855  0.305906\n",
            "Opening file: all_test_aes_all_predictions.txt\n",
            "[['Raw-Hr.w-Ax.ty-Hai-m-Ax.t M-rn=f-m-Sw-n.ty-m-Jtn Di anx D.t nHH Jtn anx wr ym.y-HAb-sd nb-Snn.t-nb-Jtn nb-p.t nb-tA m Pr-Jtn m Ax.t-Jtn', 'Raw-Hr.w-Ax.ty-Hai-m-Ax.t M-rn=f-m-Sw-n.ty-m-Jtn Di anx D.t nHH Jtn anx wr ym.y-HAb-sd nb-Snn.t-nb-Jtn nb-p.t [MASK] m Pr-Jtn m Ax.t-Jtn', 'nb-tA', [{'score': 0.8492171168327332, 'token': 119586, 'token_str': 'nb-tA', 'sequence': 'Raw-Hr.w-Ax.ty-Hai-m-Ax.t M-rn=f-m-Sw-n.ty-m-Jtn Di anx D.t nHH Jtn anx wr ym.y-HAb-sd nb-Snn.t-nb-Jtn nb-p.t nb-tA m Pr-Jtn m Ax.t-Jtn'}, {'score': 0.04273388534784317, 'token': 119585, 'token_str': 'nb-p.t', 'sequence': 'Raw-Hr.w-Ax.ty-Hai-m-Ax.t M-rn=f-m-Sw-n.ty-m-Jtn Di anx D.t nHH Jtn anx wr ym.y-HAb-sd nb-Snn.t-nb-Jtn nb-p.t nb-p.t m Pr-Jtn m Ax.t-Jtn'}, {'score': 0.005123058333992958, 'token': 120212, 'token_str': 'ym.y-HAb-sd', 'sequence': 'Raw-Hr.w-Ax.ty-Hai-m-Ax.t M-rn=f-m-Sw-n.ty-m-Jtn Di anx D.t nHH Jtn anx wr ym.y-HAb-sd nb-Snn.t-nb-Jtn nb-p.t ym.y-HAb-sd m Pr-Jtn m Ax.t-Jtn'}, {'score': 0.0018690036376938224, 'token': 119582, 'token_str': 'anx', 'sequence': 'Raw-Hr.w-Ax.ty-Hai-m-Ax.t M-rn=f-m-Sw-n.ty-m-Jtn Di anx D.t nHH Jtn anx wr ym.y-HAb-sd nb-Snn.t-nb-Jtn nb-p.t anx m Pr-Jtn m Ax.t-Jtn'}, {'score': 0.0009231372969225049, 'token': 119607, 'token_str': 'aA-m-aHa.w=f', 'sequence': 'Raw-Hr.w-Ax.ty-Hai-m-Ax.t M-rn=f-m-Sw-n.ty-m-Jtn Di anx D.t nHH Jtn anx wr ym.y-HAb-sd nb-Snn.t-nb-Jtn nb-p.t aA-m-aHa.w=f m Pr-Jtn m Ax.t-Jtn'}, {'score': 0.000780337315518409, 'token': 119571, 'token_str': 'Jtn', 'sequence': 'Raw-Hr.w-Ax.ty-Hai-m-Ax.t M-rn=f-m-Sw-n.ty-m-Jtn Di anx D.t nHH Jtn anx wr ym.y-HAb-sd nb-Snn.t-nb-Jtn nb-p.t Jtn m Pr-Jtn m Ax.t-Jtn'}, {'score': 0.0007609374588355422, 'token': 121996, 'token_str': 'THn.w', 'sequence': 'Raw-Hr.w-Ax.ty-Hai-m-Ax.t M-rn=f-m-Sw-n.ty-m-Jtn Di anx D.t nHH Jtn anx wr ym.y-HAb-sd nb-Snn.t-nb-Jtn nb-p.t THn.w m Pr-Jtn m Ax.t-Jtn'}, {'score': 0.0007578551885671914, 'token': 126450, 'token_str': 'Nfr-kA-Raw', 'sequence': 'Raw-Hr.w-Ax.ty-Hai-m-Ax.t M-rn=f-m-Sw-n.ty-m-Jtn Di anx D.t nHH Jtn anx wr ym.y-HAb-sd nb-Snn.t-nb-Jtn nb-p.t Nfr-kA-Raw m Pr-Jtn m Ax.t-Jtn'}, {'score': 0.0007430296973325312, 'token': 119668, 'token_str': 'Nfr-nfr-Jtn-Nfr.t-yy.ty', 'sequence': 'Raw-Hr.w-Ax.ty-Hai-m-Ax.t M-rn=f-m-Sw-n.ty-m-Jtn Di anx D.t nHH Jtn anx wr ym.y-HAb-sd nb-Snn.t-nb-Jtn nb-p.t Nfr-nfr-Jtn-Nfr.t-yy.ty m Pr-Jtn m Ax.t-Jtn'}, {'score': 0.0007202120032161474, 'token': 119666, 'token_str': 'nb-xa', 'sequence': 'Raw-Hr.w-Ax.ty-Hai-m-Ax.t M-rn=f-m-Sw-n.ty-m-Jtn Di anx D.t nHH Jtn anx wr ym.y-HAb-sd nb-Snn.t-nb-Jtn nb-p.t nb-xa m Pr-Jtn m Ax.t-Jtn'}]]]\n",
            "        name     hit@1     hit@5    hit@10     MRR@5    MRR@10\n",
            "0  AES (all)  0.188123  0.331324  0.374512  0.242211  0.248065\n",
            "Opening file: all_test_ramses_predictions.txt\n",
            "[['ink i.di n =k pA XAr 20 2 1/2 bd.t Hna nA sS.w nb.w nty ir.w r-Hry', 'ink i.di n =k pA XAr 20 2 1/2 bd.t Hna nA [MASK] nb.w nty ir.w r-Hry', 'sS.w', [{'score': 0.18070951104164124, 'token': 119896, 'token_str': 'nTr.w', 'sequence': 'ink i.di n =k pA XAr 20 2 1/2 bd.t Hna nA nTr.w nb.w nty ir.w r-Hry'}, {'score': 0.10375309735536575, 'token': 121135, 'token_str': 'tA.w', 'sequence': 'ink i.di n =k pA XAr 20 2 1/2 bd.t Hna nA tA.w nb.w nty ir.w r-Hry'}, {'score': 0.025119567289948463, 'token': 120882, 'token_str': 'Hs.wt', 'sequence': 'ink i.di n =k pA XAr 20 2 1/2 bd.t Hna nA Hs.wt nb.w nty ir.w r-Hry'}, {'score': 0.016739439219236374, 'token': 119835, 'token_str': 'rmT.w', 'sequence': 'ink i.di n =k pA XAr 20 2 1/2 bd.t Hna nA rmT.w nb.w nty ir.w r-Hry'}, {'score': 0.012888872064650059, 'token': 121982, 'token_str': 'Sri.w', 'sequence': 'ink i.di n =k pA XAr 20 2 1/2 bd.t Hna nA Sri.w nb.w nty ir.w r-Hry'}, {'score': 0.011686746031045914, 'token': 119922, 'token_str': 'sS.w', 'sequence': 'ink i.di n =k pA XAr 20 2 1/2 bd.t Hna nA sS.w nb.w nty ir.w r-Hry'}, {'score': 0.010860101319849491, 'token': 119685, 'token_str': 'Hw.t', 'sequence': 'ink i.di n =k pA XAr 20 2 1/2 bd.t Hna nA Hw.t nb.w nty ir.w r-Hry'}, {'score': 0.00972007866948843, 'token': 121884, 'token_str': 'nfr-kA-ra-stp.n-ra', 'sequence': 'ink i.di n =k pA XAr 20 2 1/2 bd.t Hna nA nfr-kA-ra-stp.n-ra nb.w nty ir.w r-Hry'}, {'score': 0.009640363045036793, 'token': 10271, 'token_str': 'it', 'sequence': 'ink i.di n =k pA XAr 20 2 1/2 bd.t Hna nA it nb.w nty ir.w r-Hry'}, {'score': 0.008433464914560318, 'token': 120821, 'token_str': 'iTA.w', 'sequence': 'ink i.di n =k pA XAr 20 2 1/2 bd.t Hna nA iTA.w nb.w nty ir.w r-Hry'}]]]\n",
            "     name     hit@1     hit@5    hit@10    MRR@5    MRR@10\n",
            "0  Ramses  0.262118  0.461849  0.535907  0.33745  0.347382\n",
            "Opening file: all_test_ramses_all_predictions.txt\n",
            "[['Raw-Hr.w-Ax.ty-Hai-m-Ax.t M-rn=f-m-Sw-n.ty-m-Jtn Di anx D.t nHH Jtn anx wr ym.y-HAb-sd nb-Snn.t-nb-Jtn nb-p.t nb-tA m Pr-Jtn m Ax.t-Jtn', 'Raw-Hr.w-Ax.ty-Hai-m-Ax.t M-rn=f-m-Sw-n.ty-m-Jtn Di anx D.t nHH Jtn anx wr ym.y-HAb-sd nb-Snn.t-nb-Jtn nb-p.t [MASK] m Pr-Jtn m Ax.t-Jtn', 'nb-tA', [{'score': 0.007094211410731077, 'token': 119577, 'token_str': 'snTr', 'sequence': 'Raw-Hr.w-Ax.ty-Hai-m-Ax.t M-rn=f-m-Sw-n.ty-m-Jtn Di anx D.t nHH Jtn anx wr ym.y-HAb-sd nb-Snn.t-nb-Jtn nb-p.t snTr m Pr-Jtn m Ax.t-Jtn'}, {'score': 0.005633281543850899, 'token': 10151, 'token_str': 'an', 'sequence': 'Raw-Hr.w-Ax.ty-Hai-m-Ax.t M-rn=f-m-Sw-n.ty-m-Jtn Di anx D.t nHH Jtn anx wr ym.y-HAb-sd nb-Snn.t-nb-Jtn nb-p.t an m Pr-Jtn m Ax.t-Jtn'}, {'score': 0.0035054932814091444, 'token': 136810, 'token_str': 'mAwi.w', 'sequence': 'Raw-Hr.w-Ax.ty-Hai-m-Ax.t M-rn=f-m-Sw-n.ty-m-Jtn Di anx D.t nHH Jtn anx wr ym.y-HAb-sd nb-Snn.t-nb-Jtn nb-p.t mAwi.w m Pr-Jtn m Ax.t-Jtn'}, {'score': 0.003392186714336276, 'token': 153273, 'token_str': 'imn.ti', 'sequence': 'Raw-Hr.w-Ax.ty-Hai-m-Ax.t M-rn=f-m-Sw-n.ty-m-Jtn Di anx D.t nHH Jtn anx wr ym.y-HAb-sd nb-Snn.t-nb-Jtn nb-p.t imn.ti m Pr-Jtn m Ax.t-Jtn'}, {'score': 0.0029127749148756266, 'token': 119560, 'token_str': '=s', 'sequence': 'Raw-Hr.w-Ax.ty-Hai-m-Ax.t M-rn=f-m-Sw-n.ty-m-Jtn Di anx D.t nHH Jtn anx wr ym.y-HAb-sd nb-Snn.t-nb-Jtn nb-p.t =s m Pr-Jtn m Ax.t-Jtn'}, {'score': 0.0022114214953035116, 'token': 144903, 'token_str': 'pXr.wt', 'sequence': 'Raw-Hr.w-Ax.ty-Hai-m-Ax.t M-rn=f-m-Sw-n.ty-m-Jtn Di anx D.t nHH Jtn anx wr ym.y-HAb-sd nb-Snn.t-nb-Jtn nb-p.t pXr.wt m Pr-Jtn m Ax.t-Jtn'}, {'score': 0.0020587360486388206, 'token': 132690, 'token_str': 'rwd.w.w', 'sequence': 'Raw-Hr.w-Ax.ty-Hai-m-Ax.t M-rn=f-m-Sw-n.ty-m-Jtn Di anx D.t nHH Jtn anx wr ym.y-HAb-sd nb-Snn.t-nb-Jtn nb-p.t rwd.w.w m Pr-Jtn m Ax.t-Jtn'}, {'score': 0.0016310851788148284, 'token': 145195, 'token_str': 'ma~TA~ty.t', 'sequence': 'Raw-Hr.w-Ax.ty-Hai-m-Ax.t M-rn=f-m-Sw-n.ty-m-Jtn Di anx D.t nHH Jtn anx wr ym.y-HAb-sd nb-Snn.t-nb-Jtn nb-p.t ma~TA~ty.t m Pr-Jtn m Ax.t-Jtn'}, {'score': 0.001585200079716742, 'token': 154145, 'token_str': 'yxAwt', 'sequence': 'Raw-Hr.w-Ax.ty-Hai-m-Ax.t M-rn=f-m-Sw-n.ty-m-Jtn Di anx D.t nHH Jtn anx wr ym.y-HAb-sd nb-Snn.t-nb-Jtn nb-p.t yxAwt m Pr-Jtn m Ax.t-Jtn'}, {'score': 0.001518982695415616, 'token': 137824, 'token_str': 'nfrt', 'sequence': 'Raw-Hr.w-Ax.ty-Hai-m-Ax.t M-rn=f-m-Sw-n.ty-m-Jtn Di anx D.t nHH Jtn anx wr ym.y-HAb-sd nb-Snn.t-nb-Jtn nb-p.t nfrt m Pr-Jtn m Ax.t-Jtn'}]]]\n",
            "           name     hit@1     hit@5    hit@10     MRR@5    MRR@10\n",
            "0  Ramses (all)  0.026323  0.061473  0.074122  0.039388  0.041121\n",
            "Opening file: all_test_combined_predictions.txt\n",
            "[['Raw-Hr.w-Ax.ty-Hai-m-Ax.t M-rn=f-m-Sw-n.ty-m-Jtn Di anx D.t nHH Jtn anx wr ym.y-HAb-sd nb-Snn.t-nb-Jtn nb-p.t nb-tA m Pr-Jtn m Ax.t-Jtn', 'Raw-Hr.w-Ax.ty-Hai-m-Ax.t M-rn=f-m-Sw-n.ty-m-Jtn Di anx D.t nHH Jtn anx wr ym.y-HAb-sd nb-Snn.t-nb-Jtn nb-p.t [MASK] m Pr-Jtn m Ax.t-Jtn', 'nb-tA', [{'score': 0.8517336249351501, 'token': 119586, 'token_str': 'nb-tA', 'sequence': 'Raw-Hr.w-Ax.ty-Hai-m-Ax.t M-rn=f-m-Sw-n.ty-m-Jtn Di anx D.t nHH Jtn anx wr ym.y-HAb-sd nb-Snn.t-nb-Jtn nb-p.t nb-tA m Pr-Jtn m Ax.t-Jtn'}, {'score': 0.0117630735039711, 'token': 119608, 'token_str': 'nb-Snn.t-nb-Jtn', 'sequence': 'Raw-Hr.w-Ax.ty-Hai-m-Ax.t M-rn=f-m-Sw-n.ty-m-Jtn Di anx D.t nHH Jtn anx wr ym.y-HAb-sd nb-Snn.t-nb-Jtn nb-p.t nb-Snn.t-nb-Jtn m Pr-Jtn m Ax.t-Jtn'}, {'score': 0.00666176900267601, 'token': 119575, 'token_str': 'nHH', 'sequence': 'Raw-Hr.w-Ax.ty-Hai-m-Ax.t M-rn=f-m-Sw-n.ty-m-Jtn Di anx D.t nHH Jtn anx wr ym.y-HAb-sd nb-Snn.t-nb-Jtn nb-p.t nHH m Pr-Jtn m Ax.t-Jtn'}, {'score': 0.006394581403583288, 'token': 119607, 'token_str': 'aA-m-aHa.w=f', 'sequence': 'Raw-Hr.w-Ax.ty-Hai-m-Ax.t M-rn=f-m-Sw-n.ty-m-Jtn Di anx D.t nHH Jtn anx wr ym.y-HAb-sd nb-Snn.t-nb-Jtn nb-p.t aA-m-aHa.w=f m Pr-Jtn m Ax.t-Jtn'}, {'score': 0.004742790944874287, 'token': 119650, 'token_str': '=f', 'sequence': 'Raw-Hr.w-Ax.ty-Hai-m-Ax.t M-rn=f-m-Sw-n.ty-m-Jtn Di anx D.t nHH Jtn anx wr ym.y-HAb-sd nb-Snn.t-nb-Jtn nb-p.t =f m Pr-Jtn m Ax.t-Jtn'}, {'score': 0.0026933401823043823, 'token': 119585, 'token_str': 'nb-p.t', 'sequence': 'Raw-Hr.w-Ax.ty-Hai-m-Ax.t M-rn=f-m-Sw-n.ty-m-Jtn Di anx D.t nHH Jtn anx wr ym.y-HAb-sd nb-Snn.t-nb-Jtn nb-p.t nb-p.t m Pr-Jtn m Ax.t-Jtn'}, {'score': 0.002440555253997445, 'token': 119683, 'token_str': 'anx.ty', 'sequence': 'Raw-Hr.w-Ax.ty-Hai-m-Ax.t M-rn=f-m-Sw-n.ty-m-Jtn Di anx D.t nHH Jtn anx wr ym.y-HAb-sd nb-Snn.t-nb-Jtn nb-p.t anx.ty m Pr-Jtn m Ax.t-Jtn'}, {'score': 0.0022820117883384228, 'token': 119547, 'token_str': 'Nfr-xpr-Raw-wa-n-Raw', 'sequence': 'Raw-Hr.w-Ax.ty-Hai-m-Ax.t M-rn=f-m-Sw-n.ty-m-Jtn Di anx D.t nHH Jtn anx wr ym.y-HAb-sd nb-Snn.t-nb-Jtn nb-p.t Nfr-xpr-Raw-wa-n-Raw m Pr-Jtn m Ax.t-Jtn'}, {'score': 0.0018209971021860838, 'token': 119564, 'token_str': 'M-rn=f-m-Sw-n.ty-m-Jtn', 'sequence': 'Raw-Hr.w-Ax.ty-Hai-m-Ax.t M-rn=f-m-Sw-n.ty-m-Jtn Di anx D.t nHH Jtn anx wr ym.y-HAb-sd nb-Snn.t-nb-Jtn nb-p.t M-rn=f-m-Sw-n.ty-m-Jtn m Pr-Jtn m Ax.t-Jtn'}, {'score': 0.001694135251455009, 'token': 119668, 'token_str': 'Nfr-nfr-Jtn-Nfr.t-yy.ty', 'sequence': 'Raw-Hr.w-Ax.ty-Hai-m-Ax.t M-rn=f-m-Sw-n.ty-m-Jtn Di anx D.t nHH Jtn anx wr ym.y-HAb-sd nb-Snn.t-nb-Jtn nb-p.t Nfr-nfr-Jtn-Nfr.t-yy.ty m Pr-Jtn m Ax.t-Jtn'}]]]\n",
            "       name     hit@1     hit@5  hit@10    MRR@5   MRR@10\n",
            "0  Combined  0.250108  0.431335  0.4947  0.31865  0.32722\n",
            "Opening file: all_test_mbert_predictions.txt\n",
            "[['Raw-Hr.w-Ax.ty-Hai-m-Ax.t M-rn=f-m-Sw-n.ty-m-Jtn Di anx D.t nHH Jtn anx wr ym.y-HAb-sd nb-Snn.t-nb-Jtn nb-p.t nb-tA m Pr-Jtn m Ax.t-Jtn', 'Raw-Hr.w-Ax.ty-Hai-m-Ax.t M-rn=f-m-Sw-n.ty-m-Jtn Di anx D.t nHH Jtn anx wr ym.y-HAb-sd nb-Snn.t-nb-Jtn nb-p.t [MASK] m Pr-Jtn m Ax.t-Jtn', 'nb-tA', [{'score': 0.07556476444005966, 'token': 181, 'token_str': 'm', 'sequence': 'Raw-Hr.w-Ax.ty-Hai-m-Ax.t M-rn=f-m-Sw-n.ty-m-Jtn Di anx D.t nHH Jtn anx wr ym.y-HAb-sd nb-Snn.t-nb-Jtn nb-p.t m m Pr-Jtn m Ax.t-Jtn'}, {'score': 0.04952256381511688, 'token': 119, 'token_str': '.', 'sequence': 'Raw-Hr.w-Ax.ty-Hai-m-Ax.t M-rn=f-m-Sw-n.ty-m-Jtn Di anx D.t nHH Jtn anx wr ym.y-HAb-sd nb-Snn.t-nb-Jtn nb-p.t. m Pr-Jtn m Ax.t-Jtn'}, {'score': 0.03233352303504944, 'token': 131, 'token_str': ':', 'sequence': 'Raw-Hr.w-Ax.ty-Hai-m-Ax.t M-rn=f-m-Sw-n.ty-m-Jtn Di anx D.t nHH Jtn anx wr ym.y-HAb-sd nb-Snn.t-nb-Jtn nb-p.t : m Pr-Jtn m Ax.t-Jtn'}, {'score': 0.02297789603471756, 'token': 122, 'token_str': '1', 'sequence': 'Raw-Hr.w-Ax.ty-Hai-m-Ax.t M-rn=f-m-Sw-n.ty-m-Jtn Di anx D.t nHH Jtn anx wr ym.y-HAb-sd nb-Snn.t-nb-Jtn nb-p.t 1 m Pr-Jtn m Ax.t-Jtn'}, {'score': 0.015831049531698227, 'token': 100, 'token_str': '[UNK]', 'sequence': 'Raw-Hr.w-Ax.ty-Hai-m-Ax.t M-rn=f-m-Sw-n.ty-m-Jtn Di anx D.t nHH Jtn anx wr ym.y-HAb-sd nb-Snn.t-nb-Jtn nb-p.t m Pr-Jtn m Ax.t-Jtn'}, {'score': 0.01273768674582243, 'token': 118, 'token_str': '-', 'sequence': 'Raw-Hr.w-Ax.ty-Hai-m-Ax.t M-rn=f-m-Sw-n.ty-m-Jtn Di anx D.t nHH Jtn anx wr ym.y-HAb-sd nb-Snn.t-nb-Jtn nb-p.t - m Pr-Jtn m Ax.t-Jtn'}, {'score': 0.009569290094077587, 'token': 123, 'token_str': '2', 'sequence': 'Raw-Hr.w-Ax.ty-Hai-m-Ax.t M-rn=f-m-Sw-n.ty-m-Jtn Di anx D.t nHH Jtn anx wr ym.y-HAb-sd nb-Snn.t-nb-Jtn nb-p.t 2 m Pr-Jtn m Ax.t-Jtn'}, {'score': 0.008765879087150097, 'token': 124, 'token_str': '3', 'sequence': 'Raw-Hr.w-Ax.ty-Hai-m-Ax.t M-rn=f-m-Sw-n.ty-m-Jtn Di anx D.t nHH Jtn anx wr ym.y-HAb-sd nb-Snn.t-nb-Jtn nb-p.t 3 m Pr-Jtn m Ax.t-Jtn'}, {'score': 0.00613552937284112, 'token': 112, 'token_str': \"'\", 'sequence': \"Raw-Hr.w-Ax.ty-Hai-m-Ax.t M-rn=f-m-Sw-n.ty-m-Jtn Di anx D.t nHH Jtn anx wr ym.y-HAb-sd nb-Snn.t-nb-Jtn nb-p.t'm Pr-Jtn m Ax.t-Jtn\"}, {'score': 0.005941413342952728, 'token': 150, 'token_str': 'M', 'sequence': 'Raw-Hr.w-Ax.ty-Hai-m-Ax.t M-rn=f-m-Sw-n.ty-m-Jtn Di anx D.t nHH Jtn anx wr ym.y-HAb-sd nb-Snn.t-nb-Jtn nb-p.t M m Pr-Jtn m Ax.t-Jtn'}]]]\n",
            "     name     hit@1     hit@5    hit@10     MRR@5    MRR@10\n",
            "0  M-BERT  0.009891  0.017772  0.023683  0.012697  0.013463\n",
            "Opening file: all_test_coptic_predictions.txt\n",
            "[['Raw-Hr.w-Ax.ty-Hai-m-Ax.t M-rn=f-m-Sw-n.ty-m-Jtn Di anx D.t nHH Jtn anx wr ym.y-HAb-sd nb-Snn.t-nb-Jtn nb-p.t nb-tA m Pr-Jtn m Ax.t-Jtn', 'Raw-Hr.w-Ax.ty-Hai-m-Ax.t M-rn=f-m-Sw-n.ty-m-Jtn Di anx D.t nHH Jtn anx wr ym.y-HAb-sd nb-Snn.t-nb-Jtn nb-p.t [MASK] m Pr-Jtn m Ax.t-Jtn', 'nb-tA', [{'score': 7.373940024990588e-05, 'token': 29261, 'token_str': 'pa-dy-jmn-nb-nswt-ta', 'sequence': 'raw-hr.w-ax.ty-hai-m-ax.t m-rn=f-m-sw-n.ty-m-jtn di anx d.t nhh jtn anx wr ym.y-hab-sd nb-snn.t-nb-jtn nb-p.t pa-dy-jmn-nb-nswt-ta m pr-jtn m ax.t-jtn'}, {'score': 5.9684502048185095e-05, 'token': 4, 'token_str': '[MASK]', 'sequence': 'raw-hr.w-ax.ty-hai-m-ax.t m-rn=f-m-sw-n.ty-m-jtn di anx d.t nhh jtn anx wr ym.y-hab-sd nb-snn.t-nb-jtn nb-p.t m pr-jtn m ax.t-jtn'}, {'score': 5.9522437368286774e-05, 'token': 23814, 'token_str': '370', 'sequence': 'raw-hr.w-ax.ty-hai-m-ax.t m-rn=f-m-sw-n.ty-m-jtn di anx d.t nhh jtn anx wr ym.y-hab-sd nb-snn.t-nb-jtn nb-p.t 370 m pr-jtn m ax.t-jtn'}, {'score': 5.475767466123216e-05, 'token': 319, 'token_str': 'ⲛⲟⲩⲧⲉ', 'sequence': 'raw-hr.w-ax.ty-hai-m-ax.t m-rn=f-m-sw-n.ty-m-jtn di anx d.t nhh jtn anx wr ym.y-hab-sd nb-snn.t-nb-jtn nb-p.t ⲛⲟⲩⲧⲉ m pr-jtn m ax.t-jtn'}, {'score': 5.474781937664375e-05, 'token': 8218, 'token_str': 'wab', 'sequence': 'raw-hr.w-ax.ty-hai-m-ax.t m-rn=f-m-sw-n.ty-m-jtn di anx d.t nhh jtn anx wr ym.y-hab-sd nb-snn.t-nb-jtn nb-p.t wab m pr-jtn m ax.t-jtn'}, {'score': 5.4125535825733095e-05, 'token': 21118, 'token_str': 'ha.t-mh.yt', 'sequence': 'raw-hr.w-ax.ty-hai-m-ax.t m-rn=f-m-sw-n.ty-m-jtn di anx d.t nhh jtn anx wr ym.y-hab-sd nb-snn.t-nb-jtn nb-p.t ha.t-mh.yt m pr-jtn m ax.t-jtn'}, {'score': 5.295714800013229e-05, 'token': 25684, 'token_str': 'ymax.wt-xr-nswt', 'sequence': 'raw-hr.w-ax.ty-hai-m-ax.t m-rn=f-m-sw-n.ty-m-jtn di anx d.t nhh jtn anx wr ym.y-hab-sd nb-snn.t-nb-jtn nb-p.t ymax.wt-xr-nswt m pr-jtn m ax.t-jtn'}, {'score': 5.192784738028422e-05, 'token': 35089, 'token_str': 'xtf.y', 'sequence': 'raw-hr.w-ax.ty-hai-m-ax.t m-rn=f-m-sw-n.ty-m-jtn di anx d.t nhh jtn anx wr ym.y-hab-sd nb-snn.t-nb-jtn nb-p.t xtf.y m pr-jtn m ax.t-jtn'}, {'score': 5.1795683248201385e-05, 'token': 27582, 'token_str': 'ym.yt-ra-xnr', 'sequence': 'raw-hr.w-ax.ty-hai-m-ax.t m-rn=f-m-sw-n.ty-m-jtn di anx d.t nhh jtn anx wr ym.y-hab-sd nb-snn.t-nb-jtn nb-p.t ym.yt-ra-xnr m pr-jtn m ax.t-jtn'}, {'score': 5.136951949680224e-05, 'token': 1235, 'token_str': 'ⲟⲩⲉϣ', 'sequence': 'raw-hr.w-ax.ty-hai-m-ax.t m-rn=f-m-sw-n.ty-m-jtn di anx d.t nhh jtn anx wr ym.y-hab-sd nb-snn.t-nb-jtn nb-p.t ⲟⲩⲉϣ m pr-jtn m ax.t-jtn'}]]]\n",
            "     name  hit@1     hit@5   hit@10     MRR@5    MRR@10\n",
            "0  Coptic    0.0  0.000197  0.00063  0.000045  0.000101\n"
          ]
        }
      ],
      "source": [
        "res_df = pd.DataFrame(columns=['name','hit@1','hit@5','hit@10','MRR@5','MRR@10'])\n",
        "\n",
        "pred_models = [\n",
        "      (\"AES\", \"all_test_aes_predictions.txt\"),\n",
        "      (\"AES (all)\", \"all_test_aes_all_predictions.txt\"),\n",
        "      (\"Ramses\", \"all_test_ramses_predictions.txt\"),\n",
        "      (\"Ramses (all)\", \"all_test_ramses_all_predictions.txt\"),\n",
        "      (\"Combined\", \"all_test_combined_predictions.txt\"),\n",
        "      (\"M-BERT\", \"all_test_mbert_predictions.txt\"),\n",
        "      (\"Coptic\", \"all_test_coptic_predictions.txt\")\n",
        "    ]\n",
        "\n",
        "for pm in pred_models:\n",
        "  ps = get_sentences_with_predictions(pm[1])\n",
        "  print(ps[:1])\n",
        "  hit1, hit5, hit10, mrr5, mrr10 = calculate_metrics(ps)\n",
        "  res_obj = {'name': pm[0], 'hit@1': hit1, 'hit@5': hit5, 'hit@10': hit10, 'MRR@5': mrr5, 'MRR@10': mrr10 }\n",
        "  nr = pd.DataFrame(res_obj, index=[0])\n",
        "  print(nr)\n",
        "  res_df = pd.concat([res_df, nr])"
      ]
    },
    {
      "cell_type": "code",
      "execution_count": null,
      "metadata": {
        "id": "9vegf9WQslCy",
        "colab": {
          "base_uri": "https://localhost:8080/",
          "height": 269
        },
        "outputId": "719b24e4-f6e6-4e80-b1a5-0ecad5c91181"
      },
      "outputs": [
        {
          "output_type": "execute_result",
          "data": {
            "text/plain": [
              "           name     hit@1     hit@5    hit@10     MRR@5    MRR@10\n",
              "0           AES  0.234983  0.401822  0.457091  0.298550  0.305906\n",
              "0     AES (all)  0.188123  0.331324  0.374512  0.242211  0.248065\n",
              "0        Ramses  0.262118  0.461849  0.535907  0.337450  0.347382\n",
              "0  Ramses (all)  0.026323  0.061473  0.074122  0.039388  0.041121\n",
              "0      Combined  0.250108  0.431335  0.494700  0.318650  0.327220\n",
              "0        M-BERT  0.009891  0.017772  0.023683  0.012697  0.013463\n",
              "0        Coptic  0.000000  0.000197  0.000630  0.000045  0.000101"
            ],
            "text/html": [
              "\n",
              "  <div id=\"df-53ddaf2f-80e1-4107-9960-25f65bb1dbdc\" class=\"colab-df-container\">\n",
              "    <div>\n",
              "<style scoped>\n",
              "    .dataframe tbody tr th:only-of-type {\n",
              "        vertical-align: middle;\n",
              "    }\n",
              "\n",
              "    .dataframe tbody tr th {\n",
              "        vertical-align: top;\n",
              "    }\n",
              "\n",
              "    .dataframe thead th {\n",
              "        text-align: right;\n",
              "    }\n",
              "</style>\n",
              "<table border=\"1\" class=\"dataframe\">\n",
              "  <thead>\n",
              "    <tr style=\"text-align: right;\">\n",
              "      <th></th>\n",
              "      <th>name</th>\n",
              "      <th>hit@1</th>\n",
              "      <th>hit@5</th>\n",
              "      <th>hit@10</th>\n",
              "      <th>MRR@5</th>\n",
              "      <th>MRR@10</th>\n",
              "    </tr>\n",
              "  </thead>\n",
              "  <tbody>\n",
              "    <tr>\n",
              "      <th>0</th>\n",
              "      <td>AES</td>\n",
              "      <td>0.234983</td>\n",
              "      <td>0.401822</td>\n",
              "      <td>0.457091</td>\n",
              "      <td>0.298550</td>\n",
              "      <td>0.305906</td>\n",
              "    </tr>\n",
              "    <tr>\n",
              "      <th>0</th>\n",
              "      <td>AES (all)</td>\n",
              "      <td>0.188123</td>\n",
              "      <td>0.331324</td>\n",
              "      <td>0.374512</td>\n",
              "      <td>0.242211</td>\n",
              "      <td>0.248065</td>\n",
              "    </tr>\n",
              "    <tr>\n",
              "      <th>0</th>\n",
              "      <td>Ramses</td>\n",
              "      <td>0.262118</td>\n",
              "      <td>0.461849</td>\n",
              "      <td>0.535907</td>\n",
              "      <td>0.337450</td>\n",
              "      <td>0.347382</td>\n",
              "    </tr>\n",
              "    <tr>\n",
              "      <th>0</th>\n",
              "      <td>Ramses (all)</td>\n",
              "      <td>0.026323</td>\n",
              "      <td>0.061473</td>\n",
              "      <td>0.074122</td>\n",
              "      <td>0.039388</td>\n",
              "      <td>0.041121</td>\n",
              "    </tr>\n",
              "    <tr>\n",
              "      <th>0</th>\n",
              "      <td>Combined</td>\n",
              "      <td>0.250108</td>\n",
              "      <td>0.431335</td>\n",
              "      <td>0.494700</td>\n",
              "      <td>0.318650</td>\n",
              "      <td>0.327220</td>\n",
              "    </tr>\n",
              "    <tr>\n",
              "      <th>0</th>\n",
              "      <td>M-BERT</td>\n",
              "      <td>0.009891</td>\n",
              "      <td>0.017772</td>\n",
              "      <td>0.023683</td>\n",
              "      <td>0.012697</td>\n",
              "      <td>0.013463</td>\n",
              "    </tr>\n",
              "    <tr>\n",
              "      <th>0</th>\n",
              "      <td>Coptic</td>\n",
              "      <td>0.000000</td>\n",
              "      <td>0.000197</td>\n",
              "      <td>0.000630</td>\n",
              "      <td>0.000045</td>\n",
              "      <td>0.000101</td>\n",
              "    </tr>\n",
              "  </tbody>\n",
              "</table>\n",
              "</div>\n",
              "    <div class=\"colab-df-buttons\">\n",
              "\n",
              "  <div class=\"colab-df-container\">\n",
              "    <button class=\"colab-df-convert\" onclick=\"convertToInteractive('df-53ddaf2f-80e1-4107-9960-25f65bb1dbdc')\"\n",
              "            title=\"Convert this dataframe to an interactive table.\"\n",
              "            style=\"display:none;\">\n",
              "\n",
              "  <svg xmlns=\"http://www.w3.org/2000/svg\" height=\"24px\" viewBox=\"0 -960 960 960\">\n",
              "    <path d=\"M120-120v-720h720v720H120Zm60-500h600v-160H180v160Zm220 220h160v-160H400v160Zm0 220h160v-160H400v160ZM180-400h160v-160H180v160Zm440 0h160v-160H620v160ZM180-180h160v-160H180v160Zm440 0h160v-160H620v160Z\"/>\n",
              "  </svg>\n",
              "    </button>\n",
              "\n",
              "  <style>\n",
              "    .colab-df-container {\n",
              "      display:flex;\n",
              "      gap: 12px;\n",
              "    }\n",
              "\n",
              "    .colab-df-convert {\n",
              "      background-color: #E8F0FE;\n",
              "      border: none;\n",
              "      border-radius: 50%;\n",
              "      cursor: pointer;\n",
              "      display: none;\n",
              "      fill: #1967D2;\n",
              "      height: 32px;\n",
              "      padding: 0 0 0 0;\n",
              "      width: 32px;\n",
              "    }\n",
              "\n",
              "    .colab-df-convert:hover {\n",
              "      background-color: #E2EBFA;\n",
              "      box-shadow: 0px 1px 2px rgba(60, 64, 67, 0.3), 0px 1px 3px 1px rgba(60, 64, 67, 0.15);\n",
              "      fill: #174EA6;\n",
              "    }\n",
              "\n",
              "    .colab-df-buttons div {\n",
              "      margin-bottom: 4px;\n",
              "    }\n",
              "\n",
              "    [theme=dark] .colab-df-convert {\n",
              "      background-color: #3B4455;\n",
              "      fill: #D2E3FC;\n",
              "    }\n",
              "\n",
              "    [theme=dark] .colab-df-convert:hover {\n",
              "      background-color: #434B5C;\n",
              "      box-shadow: 0px 1px 3px 1px rgba(0, 0, 0, 0.15);\n",
              "      filter: drop-shadow(0px 1px 2px rgba(0, 0, 0, 0.3));\n",
              "      fill: #FFFFFF;\n",
              "    }\n",
              "  </style>\n",
              "\n",
              "    <script>\n",
              "      const buttonEl =\n",
              "        document.querySelector('#df-53ddaf2f-80e1-4107-9960-25f65bb1dbdc button.colab-df-convert');\n",
              "      buttonEl.style.display =\n",
              "        google.colab.kernel.accessAllowed ? 'block' : 'none';\n",
              "\n",
              "      async function convertToInteractive(key) {\n",
              "        const element = document.querySelector('#df-53ddaf2f-80e1-4107-9960-25f65bb1dbdc');\n",
              "        const dataTable =\n",
              "          await google.colab.kernel.invokeFunction('convertToInteractive',\n",
              "                                                    [key], {});\n",
              "        if (!dataTable) return;\n",
              "\n",
              "        const docLinkHtml = 'Like what you see? Visit the ' +\n",
              "          '<a target=\"_blank\" href=https://colab.research.google.com/notebooks/data_table.ipynb>data table notebook</a>'\n",
              "          + ' to learn more about interactive tables.';\n",
              "        element.innerHTML = '';\n",
              "        dataTable['output_type'] = 'display_data';\n",
              "        await google.colab.output.renderOutput(dataTable, element);\n",
              "        const docLink = document.createElement('div');\n",
              "        docLink.innerHTML = docLinkHtml;\n",
              "        element.appendChild(docLink);\n",
              "      }\n",
              "    </script>\n",
              "  </div>\n",
              "\n",
              "\n",
              "<div id=\"df-9fcaf0a6-fe6f-4b15-af31-390b6bcdc154\">\n",
              "  <button class=\"colab-df-quickchart\" onclick=\"quickchart('df-9fcaf0a6-fe6f-4b15-af31-390b6bcdc154')\"\n",
              "            title=\"Suggest charts\"\n",
              "            style=\"display:none;\">\n",
              "\n",
              "<svg xmlns=\"http://www.w3.org/2000/svg\" height=\"24px\"viewBox=\"0 0 24 24\"\n",
              "     width=\"24px\">\n",
              "    <g>\n",
              "        <path d=\"M19 3H5c-1.1 0-2 .9-2 2v14c0 1.1.9 2 2 2h14c1.1 0 2-.9 2-2V5c0-1.1-.9-2-2-2zM9 17H7v-7h2v7zm4 0h-2V7h2v10zm4 0h-2v-4h2v4z\"/>\n",
              "    </g>\n",
              "</svg>\n",
              "  </button>\n",
              "\n",
              "<style>\n",
              "  .colab-df-quickchart {\n",
              "      --bg-color: #E8F0FE;\n",
              "      --fill-color: #1967D2;\n",
              "      --hover-bg-color: #E2EBFA;\n",
              "      --hover-fill-color: #174EA6;\n",
              "      --disabled-fill-color: #AAA;\n",
              "      --disabled-bg-color: #DDD;\n",
              "  }\n",
              "\n",
              "  [theme=dark] .colab-df-quickchart {\n",
              "      --bg-color: #3B4455;\n",
              "      --fill-color: #D2E3FC;\n",
              "      --hover-bg-color: #434B5C;\n",
              "      --hover-fill-color: #FFFFFF;\n",
              "      --disabled-bg-color: #3B4455;\n",
              "      --disabled-fill-color: #666;\n",
              "  }\n",
              "\n",
              "  .colab-df-quickchart {\n",
              "    background-color: var(--bg-color);\n",
              "    border: none;\n",
              "    border-radius: 50%;\n",
              "    cursor: pointer;\n",
              "    display: none;\n",
              "    fill: var(--fill-color);\n",
              "    height: 32px;\n",
              "    padding: 0;\n",
              "    width: 32px;\n",
              "  }\n",
              "\n",
              "  .colab-df-quickchart:hover {\n",
              "    background-color: var(--hover-bg-color);\n",
              "    box-shadow: 0 1px 2px rgba(60, 64, 67, 0.3), 0 1px 3px 1px rgba(60, 64, 67, 0.15);\n",
              "    fill: var(--button-hover-fill-color);\n",
              "  }\n",
              "\n",
              "  .colab-df-quickchart-complete:disabled,\n",
              "  .colab-df-quickchart-complete:disabled:hover {\n",
              "    background-color: var(--disabled-bg-color);\n",
              "    fill: var(--disabled-fill-color);\n",
              "    box-shadow: none;\n",
              "  }\n",
              "\n",
              "  .colab-df-spinner {\n",
              "    border: 2px solid var(--fill-color);\n",
              "    border-color: transparent;\n",
              "    border-bottom-color: var(--fill-color);\n",
              "    animation:\n",
              "      spin 1s steps(1) infinite;\n",
              "  }\n",
              "\n",
              "  @keyframes spin {\n",
              "    0% {\n",
              "      border-color: transparent;\n",
              "      border-bottom-color: var(--fill-color);\n",
              "      border-left-color: var(--fill-color);\n",
              "    }\n",
              "    20% {\n",
              "      border-color: transparent;\n",
              "      border-left-color: var(--fill-color);\n",
              "      border-top-color: var(--fill-color);\n",
              "    }\n",
              "    30% {\n",
              "      border-color: transparent;\n",
              "      border-left-color: var(--fill-color);\n",
              "      border-top-color: var(--fill-color);\n",
              "      border-right-color: var(--fill-color);\n",
              "    }\n",
              "    40% {\n",
              "      border-color: transparent;\n",
              "      border-right-color: var(--fill-color);\n",
              "      border-top-color: var(--fill-color);\n",
              "    }\n",
              "    60% {\n",
              "      border-color: transparent;\n",
              "      border-right-color: var(--fill-color);\n",
              "    }\n",
              "    80% {\n",
              "      border-color: transparent;\n",
              "      border-right-color: var(--fill-color);\n",
              "      border-bottom-color: var(--fill-color);\n",
              "    }\n",
              "    90% {\n",
              "      border-color: transparent;\n",
              "      border-bottom-color: var(--fill-color);\n",
              "    }\n",
              "  }\n",
              "</style>\n",
              "\n",
              "  <script>\n",
              "    async function quickchart(key) {\n",
              "      const quickchartButtonEl =\n",
              "        document.querySelector('#' + key + ' button');\n",
              "      quickchartButtonEl.disabled = true;  // To prevent multiple clicks.\n",
              "      quickchartButtonEl.classList.add('colab-df-spinner');\n",
              "      try {\n",
              "        const charts = await google.colab.kernel.invokeFunction(\n",
              "            'suggestCharts', [key], {});\n",
              "      } catch (error) {\n",
              "        console.error('Error during call to suggestCharts:', error);\n",
              "      }\n",
              "      quickchartButtonEl.classList.remove('colab-df-spinner');\n",
              "      quickchartButtonEl.classList.add('colab-df-quickchart-complete');\n",
              "    }\n",
              "    (() => {\n",
              "      let quickchartButtonEl =\n",
              "        document.querySelector('#df-9fcaf0a6-fe6f-4b15-af31-390b6bcdc154 button');\n",
              "      quickchartButtonEl.style.display =\n",
              "        google.colab.kernel.accessAllowed ? 'block' : 'none';\n",
              "    })();\n",
              "  </script>\n",
              "</div>\n",
              "    </div>\n",
              "  </div>\n"
            ],
            "application/vnd.google.colaboratory.intrinsic+json": {
              "type": "dataframe",
              "variable_name": "res_df",
              "summary": "{\n  \"name\": \"res_df\",\n  \"rows\": 7,\n  \"fields\": [\n    {\n      \"column\": \"name\",\n      \"properties\": {\n        \"dtype\": \"string\",\n        \"num_unique_values\": 7,\n        \"samples\": [\n          \"AES\",\n          \"AES (all)\",\n          \"M-BERT\"\n        ],\n        \"semantic_type\": \"\",\n        \"description\": \"\"\n      }\n    },\n    {\n      \"column\": \"hit@1\",\n      \"properties\": {\n        \"dtype\": \"number\",\n        \"std\": 0.12097869806326457,\n        \"min\": 0.0,\n        \"max\": 0.2621184919210054,\n        \"num_unique_values\": 7,\n        \"samples\": [\n          0.23498329790464623,\n          0.18812310359774598,\n          0.009890846041691295\n        ],\n        \"semantic_type\": \"\",\n        \"description\": \"\"\n      }\n    },\n    {\n      \"column\": \"hit@5\",\n      \"properties\": {\n        \"dtype\": \"number\",\n        \"std\": 0.20777410047347855,\n        \"min\": 0.0001970288056113804,\n        \"max\": 0.4618491921005386,\n        \"num_unique_values\": 7,\n        \"samples\": [\n          0.40182204676586697,\n          0.3313236395160973,\n          0.017771998266146512\n        ],\n        \"semantic_type\": \"\",\n        \"description\": \"\"\n      }\n    },\n    {\n      \"column\": \"hit@10\",\n      \"properties\": {\n        \"dtype\": \"number\",\n        \"std\": 0.23734974000124792,\n        \"min\": 0.0006304921779564173,\n        \"max\": 0.5359066427289049,\n        \"num_unique_values\": 7,\n        \"samples\": [\n          0.4570907986638324,\n          0.37451235370611186,\n          0.023682862434487924\n        ],\n        \"semantic_type\": \"\",\n        \"description\": \"\"\n      }\n    },\n    {\n      \"column\": \"MRR@5\",\n      \"properties\": {\n        \"dtype\": \"number\",\n        \"std\": 0.15387616139059238,\n        \"min\": 4.465986260524622e-05,\n        \"max\": 0.3374495062836626,\n        \"num_unique_values\": 7,\n        \"samples\": [\n          0.29855046057292955,\n          0.24221145131417607,\n          0.012697192996282716\n        ],\n        \"semantic_type\": \"\",\n        \"description\": \"\"\n      }\n    },\n    {\n      \"column\": \"MRR@10\",\n      \"properties\": {\n        \"dtype\": \"number\",\n        \"std\": 0.1578417693012877,\n        \"min\": 0.00010101635589281885,\n        \"max\": 0.34738198540936494,\n        \"num_unique_values\": 7,\n        \"samples\": [\n          0.3059064200637221,\n          0.24806533350096063,\n          0.013462821915357664\n        ],\n        \"semantic_type\": \"\",\n        \"description\": \"\"\n      }\n    }\n  ]\n}"
            }
          },
          "metadata": {},
          "execution_count": 27
        }
      ],
      "source": [
        "res_df"
      ]
    },
    {
      "cell_type": "markdown",
      "source": [
        "# Get predictions for some sentences with actual lacunae"
      ],
      "metadata": {
        "id": "oB5bo5ZNN4Cf"
      }
    },
    {
      "cell_type": "code",
      "source": [
        "combined_model = AutoModelForMaskedLM.from_pretrained('./combined-model')\n",
        "combined_unmasker = pipeline('fill-mask', model=combined_model, tokenizer=combined_tokenizer, top_k=10)"
      ],
      "metadata": {
        "id": "pPCFmLiRsRjY"
      },
      "execution_count": null,
      "outputs": []
    },
    {
      "cell_type": "markdown",
      "source": [
        "##### [IBUCEEy6AYQxaExmhmbFmeHXoyc] jr ḥm-nṯr nb wꜥb nb jri̯ =sn zp m rʾ-pr [LACUNAE_WORD] st nn rḏi̯.t ḫpr rd ḥr zꜣṯ nn rḏi̯.t smn jwꜥ ḥr-sꜣ =sn ḥr-n,tj n ꜥpr ḥw,t-nṯr m wḫꜣ =s"
      ],
      "metadata": {
        "id": "dO58s5R3OybW"
      }
    },
    {
      "cell_type": "code",
      "source": [
        "[p['token_str'] for p in combined_unmasker(\"yr Hm-nTr nb wab nb yri =sn sp m ra-pr [MASK] st nn rDi.t xpr rd Hr sAT nn rDi.t smn ywa Hr-sA =sn Hr-n,ty n apr Hw,t-nTr m wxA =s\")]"
      ],
      "metadata": {
        "colab": {
          "base_uri": "https://localhost:8080/"
        },
        "id": "ZdgYUDjPPP7P",
        "outputId": "06f59715-d74b-4ad0-e4ed-23b8524e91a2"
      },
      "execution_count": null,
      "outputs": [
        {
          "output_type": "execute_result",
          "data": {
            "text/plain": [
              "['n', 'm', '=f', 'nb', 'r', 'nb.t', '=sn', '=k', 'n.y', 'pn']"
            ]
          },
          "metadata": {},
          "execution_count": 11
        }
      ]
    },
    {
      "cell_type": "markdown",
      "source": [
        "##### [IBcAiNtHQLUgb001jZfbAhEi21k] ḫpi̯.w pw jri̯.n [LACUNAE_WORD] =sn"
      ],
      "metadata": {
        "id": "O_fnJL7cR8HW"
      }
    },
    {
      "cell_type": "code",
      "source": [
        "[p['token_str'] for p in combined_unmasker(\"xpi.w pw yri.n [MASK] =sn\")]"
      ],
      "metadata": {
        "colab": {
          "base_uri": "https://localhost:8080/"
        },
        "id": "DEuXg0hcSBpu",
        "outputId": "cc745757-ceeb-4e60-da83-db2e2fa0c214"
      },
      "execution_count": null,
      "outputs": [
        {
          "output_type": "execute_result",
          "data": {
            "text/plain": [
              "['ym', 'n', 'Hr', 'r', 'yb', 'yri.n', 'rn', 'Hm', 'kA', 'nb']"
            ]
          },
          "metadata": {},
          "execution_count": 13
        }
      ]
    },
    {
      "cell_type": "markdown",
      "source": [
        "##### [LACUNAE_WORD] 1"
      ],
      "metadata": {
        "id": "aMIoUr5fS4TG"
      }
    },
    {
      "cell_type": "code",
      "source": [
        "[p['token_str'] for p in combined_unmasker(\"[MASK] 1\")]"
      ],
      "metadata": {
        "colab": {
          "base_uri": "https://localhost:8080/"
        },
        "id": "mZip3MlSS69E",
        "outputId": "efa40547-7bec-46b6-81c9-0a121cbda06d"
      },
      "execution_count": null,
      "outputs": [
        {
          "output_type": "execute_result",
          "data": {
            "text/plain": [
              "['ywa', 'mw', 'nbs', 'Sns', 'sfT', 'ta-wt', 'nnSm', 'fAi.t', 'ra', 'mnDm']"
            ]
          },
          "metadata": {},
          "execution_count": 12
        }
      ]
    },
    {
      "cell_type": "markdown",
      "source": [
        "##### [IBUCKcMIMTcSFkC2uRPsTtB79yw] mrḥ,t ḥḏ.t 1 mrḥ,t [LACUNAE_WORD] 1 mrḥ,t db 1 mrḥ,t ꜥꜣ 1 njꜣ,w ꜥḏ 1 jḥ ꜥḏ 1 ꜥš ẖpꜣ 1 pr,t ꜥnw 1 ꜥnt,w nḏm 1 sft 1"
      ],
      "metadata": {
        "id": "QVN4Z2tVTUsc"
      }
    },
    {
      "cell_type": "code",
      "source": [
        "[p['token_str'] for p in combined_unmasker(\"mrH,t HD.t 1 mrH,t [MASK] 1 mrH,t db 1 mrH,t aA 1 nyA,w aD 1 yH aD 1 aS XpA 1 pr,t anw 1 ant,w nDm 1 sft 1\")]"
      ],
      "metadata": {
        "colab": {
          "base_uri": "https://localhost:8080/"
        },
        "id": "P6fquEwRTdAy",
        "outputId": "d2caf2d2-b33c-4b46-fd1d-849814f6cb07"
      },
      "execution_count": null,
      "outputs": [
        {
          "output_type": "execute_result",
          "data": {
            "text/plain": [
              "['aA', 'ps', 'XAr', 'sw.t', 'HD.t', 'ta-rtH', 'yA.tt', 'nbs', 'wAD.t', 'sntr']"
            ]
          },
          "metadata": {},
          "execution_count": 15
        }
      ]
    },
    {
      "cell_type": "markdown",
      "source": [
        "##### [IBYCN98wpLk6MUaJmYQ1uf7R8KE] stp.n sw yty =f Jmn m [LACUNAE_WORD] m rx.n =f yb =f r qd Hw,t-nTr r smnx ra-pr"
      ],
      "metadata": {
        "id": "wI_qRdgxqjMY"
      }
    },
    {
      "cell_type": "code",
      "source": [
        "[p['token_str'] for p in combined_unmasker(\"stp.n sw yty =f Jmn m [MASK] m rx.n =f yb =f r qd Hw,t-nTr r smnx ra-pr\")]"
      ],
      "metadata": {
        "colab": {
          "base_uri": "https://localhost:8080/"
        },
        "id": "6_kJQpjaqs_s",
        "outputId": "f52d8c5d-b00d-463c-d5f1-4ad560fadbc6"
      },
      "execution_count": null,
      "outputs": [
        {
          "output_type": "execute_result",
          "data": {
            "text/plain": [
              "['p.t', '=f', 'Jwn.w', 'nTr', 'tA', 'Xr-nTr', 'ra', 'hrw', 'Raw', 'Ax.t']"
            ]
          },
          "metadata": {},
          "execution_count": 17
        }
      ]
    },
    {
      "cell_type": "markdown",
      "source": [
        "##### [IBYCkyH6L5gQckCKmWhjhDYdFWQ] [LACUNAE_WORD] mrH,t HfA,t km.t wawy,t gmm.t m Hs"
      ],
      "metadata": {
        "id": "Jpn2-ksDqney"
      }
    },
    {
      "cell_type": "code",
      "source": [
        "[p['token_str'] for p in combined_unmasker(\"[MASK] mrH,t HfA,t km.t wawy,t gmm.t m Hs\")]"
      ],
      "metadata": {
        "colab": {
          "base_uri": "https://localhost:8080/"
        },
        "id": "so-4Uim8quFw",
        "outputId": "66f1e912-0510-4f6e-bc20-95eeff2f153f"
      },
      "execution_count": null,
      "outputs": [
        {
          "output_type": "execute_result",
          "data": {
            "text/plain": [
              "['y', 't', 'm', 'n', 'pA', 'yw', 'nA', 'yr.y-yx.t-nswt', 'yr', 'nn']"
            ]
          },
          "metadata": {},
          "execution_count": 18
        }
      ]
    }
  ],
  "metadata": {
    "accelerator": "GPU",
    "colab": {
      "collapsed_sections": [
        "Pn6T63rrMhyi"
      ],
      "gpuType": "T4",
      "provenance": []
    },
    "kernelspec": {
      "display_name": "Python 3",
      "name": "python3"
    },
    "language_info": {
      "name": "python"
    },
    "widgets": {
      "application/vnd.jupyter.widget-state+json": {
        "031c3317a81c4363bc19f7da9f4b99aa": {
          "model_module": "@jupyter-widgets/base",
          "model_module_version": "1.2.0",
          "model_name": "LayoutModel",
          "state": {
            "_model_module": "@jupyter-widgets/base",
            "_model_module_version": "1.2.0",
            "_model_name": "LayoutModel",
            "_view_count": null,
            "_view_module": "@jupyter-widgets/base",
            "_view_module_version": "1.2.0",
            "_view_name": "LayoutView",
            "align_content": null,
            "align_items": null,
            "align_self": null,
            "border": null,
            "bottom": null,
            "display": null,
            "flex": null,
            "flex_flow": null,
            "grid_area": null,
            "grid_auto_columns": null,
            "grid_auto_flow": null,
            "grid_auto_rows": null,
            "grid_column": null,
            "grid_gap": null,
            "grid_row": null,
            "grid_template_areas": null,
            "grid_template_columns": null,
            "grid_template_rows": null,
            "height": null,
            "justify_content": null,
            "justify_items": null,
            "left": null,
            "margin": null,
            "max_height": null,
            "max_width": null,
            "min_height": null,
            "min_width": null,
            "object_fit": null,
            "object_position": null,
            "order": null,
            "overflow": null,
            "overflow_x": null,
            "overflow_y": null,
            "padding": null,
            "right": null,
            "top": null,
            "visibility": null,
            "width": null
          }
        },
        "0324250ec92d42469208b8024d2826b2": {
          "model_module": "@jupyter-widgets/base",
          "model_module_version": "1.2.0",
          "model_name": "LayoutModel",
          "state": {
            "_model_module": "@jupyter-widgets/base",
            "_model_module_version": "1.2.0",
            "_model_name": "LayoutModel",
            "_view_count": null,
            "_view_module": "@jupyter-widgets/base",
            "_view_module_version": "1.2.0",
            "_view_name": "LayoutView",
            "align_content": null,
            "align_items": null,
            "align_self": null,
            "border": null,
            "bottom": null,
            "display": null,
            "flex": null,
            "flex_flow": null,
            "grid_area": null,
            "grid_auto_columns": null,
            "grid_auto_flow": null,
            "grid_auto_rows": null,
            "grid_column": null,
            "grid_gap": null,
            "grid_row": null,
            "grid_template_areas": null,
            "grid_template_columns": null,
            "grid_template_rows": null,
            "height": null,
            "justify_content": null,
            "justify_items": null,
            "left": null,
            "margin": null,
            "max_height": null,
            "max_width": null,
            "min_height": null,
            "min_width": null,
            "object_fit": null,
            "object_position": null,
            "order": null,
            "overflow": null,
            "overflow_x": null,
            "overflow_y": null,
            "padding": null,
            "right": null,
            "top": null,
            "visibility": null,
            "width": null
          }
        },
        "0432e7bc960a426b89d53b90f187c79a": {
          "model_module": "@jupyter-widgets/controls",
          "model_module_version": "1.5.0",
          "model_name": "HTMLModel",
          "state": {
            "_dom_classes": [],
            "_model_module": "@jupyter-widgets/controls",
            "_model_module_version": "1.5.0",
            "_model_name": "HTMLModel",
            "_view_count": null,
            "_view_module": "@jupyter-widgets/controls",
            "_view_module_version": "1.5.0",
            "_view_name": "HTMLView",
            "description": "",
            "description_tooltip": null,
            "layout": "IPY_MODEL_a9e368815b38443ea6fc861b8f3e06af",
            "placeholder": "​",
            "style": "IPY_MODEL_3c53e1bafc4b46eab79f2de347fa8b3a",
            "value": " 25377/25377 [1:57:17&lt;00:00,  3.89sentence/s, filename=all_test_combined_predictions.txt]"
          }
        },
        "0adb46c0f209484388dfa44efd263e2a": {
          "model_module": "@jupyter-widgets/controls",
          "model_module_version": "1.5.0",
          "model_name": "VBoxModel",
          "state": {
            "_dom_classes": [
              "widget-interact"
            ],
            "_model_module": "@jupyter-widgets/controls",
            "_model_module_version": "1.5.0",
            "_model_name": "VBoxModel",
            "_view_count": null,
            "_view_module": "@jupyter-widgets/controls",
            "_view_module_version": "1.5.0",
            "_view_name": "VBoxView",
            "box_style": "",
            "children": [
              "IPY_MODEL_28505b5c16e44ab9966f460f4e149837",
              "IPY_MODEL_ec22c3b23fdd47ca8f9dfa4793b53a15"
            ],
            "layout": "IPY_MODEL_3393ba19be5f44658978ee0d6fc468a6"
          }
        },
        "0f537bffba6f40539ccb1303a0ac11f8": {
          "model_module": "@jupyter-widgets/controls",
          "model_module_version": "1.5.0",
          "model_name": "DescriptionStyleModel",
          "state": {
            "_model_module": "@jupyter-widgets/controls",
            "_model_module_version": "1.5.0",
            "_model_name": "DescriptionStyleModel",
            "_view_count": null,
            "_view_module": "@jupyter-widgets/base",
            "_view_module_version": "1.2.0",
            "_view_name": "StyleView",
            "description_width": ""
          }
        },
        "10c4e1f11cf74b66b6b0c5c20dfcf52a": {
          "model_module": "@jupyter-widgets/base",
          "model_module_version": "1.2.0",
          "model_name": "LayoutModel",
          "state": {
            "_model_module": "@jupyter-widgets/base",
            "_model_module_version": "1.2.0",
            "_model_name": "LayoutModel",
            "_view_count": null,
            "_view_module": "@jupyter-widgets/base",
            "_view_module_version": "1.2.0",
            "_view_name": "LayoutView",
            "align_content": null,
            "align_items": null,
            "align_self": null,
            "border": null,
            "bottom": null,
            "display": null,
            "flex": null,
            "flex_flow": null,
            "grid_area": null,
            "grid_auto_columns": null,
            "grid_auto_flow": null,
            "grid_auto_rows": null,
            "grid_column": null,
            "grid_gap": null,
            "grid_row": null,
            "grid_template_areas": null,
            "grid_template_columns": null,
            "grid_template_rows": null,
            "height": null,
            "justify_content": null,
            "justify_items": null,
            "left": null,
            "margin": null,
            "max_height": null,
            "max_width": null,
            "min_height": null,
            "min_width": null,
            "object_fit": null,
            "object_position": null,
            "order": null,
            "overflow": null,
            "overflow_x": null,
            "overflow_y": null,
            "padding": null,
            "right": null,
            "top": null,
            "visibility": null,
            "width": null
          }
        },
        "132b82dc85a54b5b9e8b25c9cc7f6f8e": {
          "model_module": "@jupyter-widgets/controls",
          "model_module_version": "1.5.0",
          "model_name": "ButtonStyleModel",
          "state": {
            "_model_module": "@jupyter-widgets/controls",
            "_model_module_version": "1.5.0",
            "_model_name": "ButtonStyleModel",
            "_view_count": null,
            "_view_module": "@jupyter-widgets/base",
            "_view_module_version": "1.2.0",
            "_view_name": "StyleView",
            "button_color": null,
            "font_weight": ""
          }
        },
        "1662cc0017874a8c8f0febda9c102f04": {
          "model_module": "@jupyter-widgets/output",
          "model_module_version": "1.0.0",
          "model_name": "OutputModel",
          "state": {
            "_dom_classes": [],
            "_model_module": "@jupyter-widgets/output",
            "_model_module_version": "1.0.0",
            "_model_name": "OutputModel",
            "_view_count": null,
            "_view_module": "@jupyter-widgets/output",
            "_view_module_version": "1.0.0",
            "_view_name": "OutputView",
            "layout": "IPY_MODEL_f1d5c2aea0c84f0797fa2d4ac765c4dc",
            "msg_id": "",
            "outputs": []
          }
        },
        "1a304b8e5d9249c39c11e34addd09054": {
          "model_module": "@jupyter-widgets/base",
          "model_module_version": "1.2.0",
          "model_name": "LayoutModel",
          "state": {
            "_model_module": "@jupyter-widgets/base",
            "_model_module_version": "1.2.0",
            "_model_name": "LayoutModel",
            "_view_count": null,
            "_view_module": "@jupyter-widgets/base",
            "_view_module_version": "1.2.0",
            "_view_name": "LayoutView",
            "align_content": null,
            "align_items": null,
            "align_self": null,
            "border": null,
            "bottom": null,
            "display": null,
            "flex": null,
            "flex_flow": null,
            "grid_area": null,
            "grid_auto_columns": null,
            "grid_auto_flow": null,
            "grid_auto_rows": null,
            "grid_column": null,
            "grid_gap": null,
            "grid_row": null,
            "grid_template_areas": null,
            "grid_template_columns": null,
            "grid_template_rows": null,
            "height": null,
            "justify_content": null,
            "justify_items": null,
            "left": null,
            "margin": null,
            "max_height": null,
            "max_width": null,
            "min_height": null,
            "min_width": null,
            "object_fit": null,
            "object_position": null,
            "order": null,
            "overflow": null,
            "overflow_x": null,
            "overflow_y": null,
            "padding": null,
            "right": null,
            "top": null,
            "visibility": null,
            "width": null
          }
        },
        "22dbe858d96442c2a5bc6a842236f141": {
          "model_module": "@jupyter-widgets/controls",
          "model_module_version": "1.5.0",
          "model_name": "ProgressStyleModel",
          "state": {
            "_model_module": "@jupyter-widgets/controls",
            "_model_module_version": "1.5.0",
            "_model_name": "ProgressStyleModel",
            "_view_count": null,
            "_view_module": "@jupyter-widgets/base",
            "_view_module_version": "1.2.0",
            "_view_name": "StyleView",
            "bar_color": null,
            "description_width": ""
          }
        },
        "27b499914b034ca093f134ac970d307f": {
          "model_module": "@jupyter-widgets/base",
          "model_module_version": "1.2.0",
          "model_name": "LayoutModel",
          "state": {
            "_model_module": "@jupyter-widgets/base",
            "_model_module_version": "1.2.0",
            "_model_name": "LayoutModel",
            "_view_count": null,
            "_view_module": "@jupyter-widgets/base",
            "_view_module_version": "1.2.0",
            "_view_name": "LayoutView",
            "align_content": null,
            "align_items": null,
            "align_self": null,
            "border": null,
            "bottom": null,
            "display": null,
            "flex": null,
            "flex_flow": null,
            "grid_area": null,
            "grid_auto_columns": null,
            "grid_auto_flow": null,
            "grid_auto_rows": null,
            "grid_column": null,
            "grid_gap": null,
            "grid_row": null,
            "grid_template_areas": null,
            "grid_template_columns": null,
            "grid_template_rows": null,
            "height": null,
            "justify_content": null,
            "justify_items": null,
            "left": null,
            "margin": null,
            "max_height": null,
            "max_width": null,
            "min_height": null,
            "min_width": null,
            "object_fit": null,
            "object_position": null,
            "order": null,
            "overflow": null,
            "overflow_x": null,
            "overflow_y": null,
            "padding": null,
            "right": null,
            "top": null,
            "visibility": null,
            "width": null
          }
        },
        "28505b5c16e44ab9966f460f4e149837": {
          "model_module": "@jupyter-widgets/controls",
          "model_module_version": "1.5.0",
          "model_name": "ButtonModel",
          "state": {
            "_dom_classes": [],
            "_model_module": "@jupyter-widgets/controls",
            "_model_module_version": "1.5.0",
            "_model_name": "ButtonModel",
            "_view_count": null,
            "_view_module": "@jupyter-widgets/controls",
            "_view_module_version": "1.5.0",
            "_view_name": "ButtonView",
            "button_style": "",
            "description": "Regenerate",
            "disabled": false,
            "icon": "",
            "layout": "IPY_MODEL_0324250ec92d42469208b8024d2826b2",
            "style": "IPY_MODEL_60f8020dc5164bb1ab6b65eaa815e87d",
            "tooltip": ""
          }
        },
        "2be7b46aa8784f8fb459c1bf8bf901bf": {
          "model_module": "@jupyter-widgets/base",
          "model_module_version": "1.2.0",
          "model_name": "LayoutModel",
          "state": {
            "_model_module": "@jupyter-widgets/base",
            "_model_module_version": "1.2.0",
            "_model_name": "LayoutModel",
            "_view_count": null,
            "_view_module": "@jupyter-widgets/base",
            "_view_module_version": "1.2.0",
            "_view_name": "LayoutView",
            "align_content": null,
            "align_items": null,
            "align_self": null,
            "border": null,
            "bottom": null,
            "display": null,
            "flex": null,
            "flex_flow": null,
            "grid_area": null,
            "grid_auto_columns": null,
            "grid_auto_flow": null,
            "grid_auto_rows": null,
            "grid_column": null,
            "grid_gap": null,
            "grid_row": null,
            "grid_template_areas": null,
            "grid_template_columns": null,
            "grid_template_rows": null,
            "height": null,
            "justify_content": null,
            "justify_items": null,
            "left": null,
            "margin": null,
            "max_height": null,
            "max_width": null,
            "min_height": null,
            "min_width": null,
            "object_fit": null,
            "object_position": null,
            "order": null,
            "overflow": null,
            "overflow_x": null,
            "overflow_y": null,
            "padding": null,
            "right": null,
            "top": null,
            "visibility": null,
            "width": null
          }
        },
        "2e68f64864b749cdad339e5b0ac482f7": {
          "model_module": "@jupyter-widgets/base",
          "model_module_version": "1.2.0",
          "model_name": "LayoutModel",
          "state": {
            "_model_module": "@jupyter-widgets/base",
            "_model_module_version": "1.2.0",
            "_model_name": "LayoutModel",
            "_view_count": null,
            "_view_module": "@jupyter-widgets/base",
            "_view_module_version": "1.2.0",
            "_view_name": "LayoutView",
            "align_content": null,
            "align_items": null,
            "align_self": null,
            "border": null,
            "bottom": null,
            "display": null,
            "flex": null,
            "flex_flow": null,
            "grid_area": null,
            "grid_auto_columns": null,
            "grid_auto_flow": null,
            "grid_auto_rows": null,
            "grid_column": null,
            "grid_gap": null,
            "grid_row": null,
            "grid_template_areas": null,
            "grid_template_columns": null,
            "grid_template_rows": null,
            "height": null,
            "justify_content": null,
            "justify_items": null,
            "left": null,
            "margin": null,
            "max_height": null,
            "max_width": null,
            "min_height": null,
            "min_width": null,
            "object_fit": null,
            "object_position": null,
            "order": null,
            "overflow": null,
            "overflow_x": null,
            "overflow_y": null,
            "padding": null,
            "right": null,
            "top": null,
            "visibility": null,
            "width": null
          }
        },
        "31b8a80856fd4498b1794124765c3533": {
          "model_module": "@jupyter-widgets/controls",
          "model_module_version": "1.5.0",
          "model_name": "HTMLModel",
          "state": {
            "_dom_classes": [],
            "_model_module": "@jupyter-widgets/controls",
            "_model_module_version": "1.5.0",
            "_model_name": "HTMLModel",
            "_view_count": null,
            "_view_module": "@jupyter-widgets/controls",
            "_view_module_version": "1.5.0",
            "_view_name": "HTMLView",
            "description": "",
            "description_tooltip": null,
            "layout": "IPY_MODEL_b6586835209740488a0ddacfc447b47b",
            "placeholder": "​",
            "style": "IPY_MODEL_564af1a1b6cf480c861a0e681e6e7c82",
            "value": " 25377/25377 [2:00:33&lt;00:00,  3.67sentence/s, filename=all_test_ramses_all_predictions.txt]"
          }
        },
        "3393ba19be5f44658978ee0d6fc468a6": {
          "model_module": "@jupyter-widgets/base",
          "model_module_version": "1.2.0",
          "model_name": "LayoutModel",
          "state": {
            "_model_module": "@jupyter-widgets/base",
            "_model_module_version": "1.2.0",
            "_model_name": "LayoutModel",
            "_view_count": null,
            "_view_module": "@jupyter-widgets/base",
            "_view_module_version": "1.2.0",
            "_view_name": "LayoutView",
            "align_content": null,
            "align_items": null,
            "align_self": null,
            "border": null,
            "bottom": null,
            "display": null,
            "flex": null,
            "flex_flow": null,
            "grid_area": null,
            "grid_auto_columns": null,
            "grid_auto_flow": null,
            "grid_auto_rows": null,
            "grid_column": null,
            "grid_gap": null,
            "grid_row": null,
            "grid_template_areas": null,
            "grid_template_columns": null,
            "grid_template_rows": null,
            "height": null,
            "justify_content": null,
            "justify_items": null,
            "left": null,
            "margin": null,
            "max_height": null,
            "max_width": null,
            "min_height": null,
            "min_width": null,
            "object_fit": null,
            "object_position": null,
            "order": null,
            "overflow": null,
            "overflow_x": null,
            "overflow_y": null,
            "padding": null,
            "right": null,
            "top": null,
            "visibility": null,
            "width": null
          }
        },
        "3b3a486d680a46cf953fd712512b2781": {
          "model_module": "@jupyter-widgets/controls",
          "model_module_version": "1.5.0",
          "model_name": "DescriptionStyleModel",
          "state": {
            "_model_module": "@jupyter-widgets/controls",
            "_model_module_version": "1.5.0",
            "_model_name": "DescriptionStyleModel",
            "_view_count": null,
            "_view_module": "@jupyter-widgets/base",
            "_view_module_version": "1.2.0",
            "_view_name": "StyleView",
            "description_width": ""
          }
        },
        "3bd970d264534a1193b1b63a56cd7288": {
          "model_module": "@jupyter-widgets/controls",
          "model_module_version": "1.5.0",
          "model_name": "ButtonModel",
          "state": {
            "_dom_classes": [],
            "_model_module": "@jupyter-widgets/controls",
            "_model_module_version": "1.5.0",
            "_model_name": "ButtonModel",
            "_view_count": null,
            "_view_module": "@jupyter-widgets/controls",
            "_view_module_version": "1.5.0",
            "_view_name": "ButtonView",
            "button_style": "",
            "description": "Regenerate",
            "disabled": false,
            "icon": "",
            "layout": "IPY_MODEL_da93ef7841b147b485046721242566e9",
            "style": "IPY_MODEL_708148f9842e4734b7c762483145491d",
            "tooltip": ""
          }
        },
        "3c53e1bafc4b46eab79f2de347fa8b3a": {
          "model_module": "@jupyter-widgets/controls",
          "model_module_version": "1.5.0",
          "model_name": "DescriptionStyleModel",
          "state": {
            "_model_module": "@jupyter-widgets/controls",
            "_model_module_version": "1.5.0",
            "_model_name": "DescriptionStyleModel",
            "_view_count": null,
            "_view_module": "@jupyter-widgets/base",
            "_view_module_version": "1.2.0",
            "_view_name": "StyleView",
            "description_width": ""
          }
        },
        "3cd4f92e641b4b46a5b300c8a7604f93": {
          "model_module": "@jupyter-widgets/controls",
          "model_module_version": "1.5.0",
          "model_name": "HBoxModel",
          "state": {
            "_dom_classes": [],
            "_model_module": "@jupyter-widgets/controls",
            "_model_module_version": "1.5.0",
            "_model_name": "HBoxModel",
            "_view_count": null,
            "_view_module": "@jupyter-widgets/controls",
            "_view_module_version": "1.5.0",
            "_view_name": "HBoxView",
            "box_style": "",
            "children": [
              "IPY_MODEL_dc804b5752d64447a6de011d5e9a0efa",
              "IPY_MODEL_ea5077cbf5564b518e7038b76c2f021f",
              "IPY_MODEL_6e3de5baf52d47e3a4050abfe9f4586c"
            ],
            "layout": "IPY_MODEL_27b499914b034ca093f134ac970d307f"
          }
        },
        "3f18c580b80645728a7d87752149fbe4": {
          "model_module": "@jupyter-widgets/controls",
          "model_module_version": "1.5.0",
          "model_name": "ButtonStyleModel",
          "state": {
            "_model_module": "@jupyter-widgets/controls",
            "_model_module_version": "1.5.0",
            "_model_name": "ButtonStyleModel",
            "_view_count": null,
            "_view_module": "@jupyter-widgets/base",
            "_view_module_version": "1.2.0",
            "_view_name": "StyleView",
            "button_color": null,
            "font_weight": ""
          }
        },
        "41c07c05eb844cb68cea29c25c4a85f6": {
          "model_module": "@jupyter-widgets/controls",
          "model_module_version": "1.5.0",
          "model_name": "DescriptionStyleModel",
          "state": {
            "_model_module": "@jupyter-widgets/controls",
            "_model_module_version": "1.5.0",
            "_model_name": "DescriptionStyleModel",
            "_view_count": null,
            "_view_module": "@jupyter-widgets/base",
            "_view_module_version": "1.2.0",
            "_view_name": "StyleView",
            "description_width": ""
          }
        },
        "428a76c9ed9542b5bb0414c000331c05": {
          "model_module": "@jupyter-widgets/base",
          "model_module_version": "1.2.0",
          "model_name": "LayoutModel",
          "state": {
            "_model_module": "@jupyter-widgets/base",
            "_model_module_version": "1.2.0",
            "_model_name": "LayoutModel",
            "_view_count": null,
            "_view_module": "@jupyter-widgets/base",
            "_view_module_version": "1.2.0",
            "_view_name": "LayoutView",
            "align_content": null,
            "align_items": null,
            "align_self": null,
            "border": null,
            "bottom": null,
            "display": null,
            "flex": null,
            "flex_flow": null,
            "grid_area": null,
            "grid_auto_columns": null,
            "grid_auto_flow": null,
            "grid_auto_rows": null,
            "grid_column": null,
            "grid_gap": null,
            "grid_row": null,
            "grid_template_areas": null,
            "grid_template_columns": null,
            "grid_template_rows": null,
            "height": null,
            "justify_content": null,
            "justify_items": null,
            "left": null,
            "margin": null,
            "max_height": null,
            "max_width": null,
            "min_height": null,
            "min_width": null,
            "object_fit": null,
            "object_position": null,
            "order": null,
            "overflow": null,
            "overflow_x": null,
            "overflow_y": null,
            "padding": null,
            "right": null,
            "top": null,
            "visibility": null,
            "width": null
          }
        },
        "4438aec53e5642bcbe554318007f4529": {
          "model_module": "@jupyter-widgets/controls",
          "model_module_version": "1.5.0",
          "model_name": "HTMLModel",
          "state": {
            "_dom_classes": [],
            "_model_module": "@jupyter-widgets/controls",
            "_model_module_version": "1.5.0",
            "_model_name": "HTMLModel",
            "_view_count": null,
            "_view_module": "@jupyter-widgets/controls",
            "_view_module_version": "1.5.0",
            "_view_name": "HTMLView",
            "description": "",
            "description_tooltip": null,
            "layout": "IPY_MODEL_b5dba242258e44bdb157773f22ecdef1",
            "placeholder": "​",
            "style": "IPY_MODEL_3b3a486d680a46cf953fd712512b2781",
            "value": " 8912/8912 [27:51&lt;00:00,  5.67sentence/s, filename=all_test_ramses_predictions.txt]"
          }
        },
        "4a55a61baf5e41338d9dc6e1484af9da": {
          "model_module": "@jupyter-widgets/controls",
          "model_module_version": "1.5.0",
          "model_name": "VBoxModel",
          "state": {
            "_dom_classes": [
              "widget-interact"
            ],
            "_model_module": "@jupyter-widgets/controls",
            "_model_module_version": "1.5.0",
            "_model_name": "VBoxModel",
            "_view_count": null,
            "_view_module": "@jupyter-widgets/controls",
            "_view_module_version": "1.5.0",
            "_view_name": "VBoxView",
            "box_style": "",
            "children": [
              "IPY_MODEL_3bd970d264534a1193b1b63a56cd7288",
              "IPY_MODEL_af23668a80ac4cd18765b40c54713bfc"
            ],
            "layout": "IPY_MODEL_1a304b8e5d9249c39c11e34addd09054"
          }
        },
        "506d051123554b00b81908afbc31a3f5": {
          "model_module": "@jupyter-widgets/base",
          "model_module_version": "1.2.0",
          "model_name": "LayoutModel",
          "state": {
            "_model_module": "@jupyter-widgets/base",
            "_model_module_version": "1.2.0",
            "_model_name": "LayoutModel",
            "_view_count": null,
            "_view_module": "@jupyter-widgets/base",
            "_view_module_version": "1.2.0",
            "_view_name": "LayoutView",
            "align_content": null,
            "align_items": null,
            "align_self": null,
            "border": null,
            "bottom": null,
            "display": null,
            "flex": null,
            "flex_flow": null,
            "grid_area": null,
            "grid_auto_columns": null,
            "grid_auto_flow": null,
            "grid_auto_rows": null,
            "grid_column": null,
            "grid_gap": null,
            "grid_row": null,
            "grid_template_areas": null,
            "grid_template_columns": null,
            "grid_template_rows": null,
            "height": null,
            "justify_content": null,
            "justify_items": null,
            "left": null,
            "margin": null,
            "max_height": null,
            "max_width": null,
            "min_height": null,
            "min_width": null,
            "object_fit": null,
            "object_position": null,
            "order": null,
            "overflow": null,
            "overflow_x": null,
            "overflow_y": null,
            "padding": null,
            "right": null,
            "top": null,
            "visibility": null,
            "width": null
          }
        },
        "528881335e86470ea3b216369edfe9a7": {
          "model_module": "@jupyter-widgets/controls",
          "model_module_version": "1.5.0",
          "model_name": "HBoxModel",
          "state": {
            "_dom_classes": [],
            "_model_module": "@jupyter-widgets/controls",
            "_model_module_version": "1.5.0",
            "_model_name": "HBoxModel",
            "_view_count": null,
            "_view_module": "@jupyter-widgets/controls",
            "_view_module_version": "1.5.0",
            "_view_name": "HBoxView",
            "box_style": "",
            "children": [
              "IPY_MODEL_c76b25fb81874e34906816590093d704",
              "IPY_MODEL_5a7734c4028c42f98b422fb200a7a3fb",
              "IPY_MODEL_4438aec53e5642bcbe554318007f4529"
            ],
            "layout": "IPY_MODEL_c27e74a478fa4cabbc228cb53eb42f3e"
          }
        },
        "5580efb108e8462bb2708489eed847fd": {
          "model_module": "@jupyter-widgets/base",
          "model_module_version": "1.2.0",
          "model_name": "LayoutModel",
          "state": {
            "_model_module": "@jupyter-widgets/base",
            "_model_module_version": "1.2.0",
            "_model_name": "LayoutModel",
            "_view_count": null,
            "_view_module": "@jupyter-widgets/base",
            "_view_module_version": "1.2.0",
            "_view_name": "LayoutView",
            "align_content": null,
            "align_items": null,
            "align_self": null,
            "border": null,
            "bottom": null,
            "display": null,
            "flex": null,
            "flex_flow": null,
            "grid_area": null,
            "grid_auto_columns": null,
            "grid_auto_flow": null,
            "grid_auto_rows": null,
            "grid_column": null,
            "grid_gap": null,
            "grid_row": null,
            "grid_template_areas": null,
            "grid_template_columns": null,
            "grid_template_rows": null,
            "height": null,
            "justify_content": null,
            "justify_items": null,
            "left": null,
            "margin": null,
            "max_height": null,
            "max_width": null,
            "min_height": null,
            "min_width": null,
            "object_fit": null,
            "object_position": null,
            "order": null,
            "overflow": null,
            "overflow_x": null,
            "overflow_y": null,
            "padding": null,
            "right": null,
            "top": null,
            "visibility": null,
            "width": null
          }
        },
        "56417ab67ec440389d9f91121d4a0c77": {
          "model_module": "@jupyter-widgets/base",
          "model_module_version": "1.2.0",
          "model_name": "LayoutModel",
          "state": {
            "_model_module": "@jupyter-widgets/base",
            "_model_module_version": "1.2.0",
            "_model_name": "LayoutModel",
            "_view_count": null,
            "_view_module": "@jupyter-widgets/base",
            "_view_module_version": "1.2.0",
            "_view_name": "LayoutView",
            "align_content": null,
            "align_items": null,
            "align_self": null,
            "border": null,
            "bottom": null,
            "display": null,
            "flex": null,
            "flex_flow": null,
            "grid_area": null,
            "grid_auto_columns": null,
            "grid_auto_flow": null,
            "grid_auto_rows": null,
            "grid_column": null,
            "grid_gap": null,
            "grid_row": null,
            "grid_template_areas": null,
            "grid_template_columns": null,
            "grid_template_rows": null,
            "height": null,
            "justify_content": null,
            "justify_items": null,
            "left": null,
            "margin": null,
            "max_height": null,
            "max_width": null,
            "min_height": null,
            "min_width": null,
            "object_fit": null,
            "object_position": null,
            "order": null,
            "overflow": null,
            "overflow_x": null,
            "overflow_y": null,
            "padding": null,
            "right": null,
            "top": null,
            "visibility": null,
            "width": null
          }
        },
        "564af1a1b6cf480c861a0e681e6e7c82": {
          "model_module": "@jupyter-widgets/controls",
          "model_module_version": "1.5.0",
          "model_name": "DescriptionStyleModel",
          "state": {
            "_model_module": "@jupyter-widgets/controls",
            "_model_module_version": "1.5.0",
            "_model_name": "DescriptionStyleModel",
            "_view_count": null,
            "_view_module": "@jupyter-widgets/base",
            "_view_module_version": "1.2.0",
            "_view_name": "StyleView",
            "description_width": ""
          }
        },
        "57f8dd0c7deb440486ee71df40a9e3e1": {
          "model_module": "@jupyter-widgets/base",
          "model_module_version": "1.2.0",
          "model_name": "LayoutModel",
          "state": {
            "_model_module": "@jupyter-widgets/base",
            "_model_module_version": "1.2.0",
            "_model_name": "LayoutModel",
            "_view_count": null,
            "_view_module": "@jupyter-widgets/base",
            "_view_module_version": "1.2.0",
            "_view_name": "LayoutView",
            "align_content": null,
            "align_items": null,
            "align_self": null,
            "border": null,
            "bottom": null,
            "display": null,
            "flex": null,
            "flex_flow": null,
            "grid_area": null,
            "grid_auto_columns": null,
            "grid_auto_flow": null,
            "grid_auto_rows": null,
            "grid_column": null,
            "grid_gap": null,
            "grid_row": null,
            "grid_template_areas": null,
            "grid_template_columns": null,
            "grid_template_rows": null,
            "height": null,
            "justify_content": null,
            "justify_items": null,
            "left": null,
            "margin": null,
            "max_height": null,
            "max_width": null,
            "min_height": null,
            "min_width": null,
            "object_fit": null,
            "object_position": null,
            "order": null,
            "overflow": null,
            "overflow_x": null,
            "overflow_y": null,
            "padding": null,
            "right": null,
            "top": null,
            "visibility": null,
            "width": null
          }
        },
        "586760eadd344cf5912606b146c19eab": {
          "model_module": "@jupyter-widgets/base",
          "model_module_version": "1.2.0",
          "model_name": "LayoutModel",
          "state": {
            "_model_module": "@jupyter-widgets/base",
            "_model_module_version": "1.2.0",
            "_model_name": "LayoutModel",
            "_view_count": null,
            "_view_module": "@jupyter-widgets/base",
            "_view_module_version": "1.2.0",
            "_view_name": "LayoutView",
            "align_content": null,
            "align_items": null,
            "align_self": null,
            "border": null,
            "bottom": null,
            "display": null,
            "flex": null,
            "flex_flow": null,
            "grid_area": null,
            "grid_auto_columns": null,
            "grid_auto_flow": null,
            "grid_auto_rows": null,
            "grid_column": null,
            "grid_gap": null,
            "grid_row": null,
            "grid_template_areas": null,
            "grid_template_columns": null,
            "grid_template_rows": null,
            "height": null,
            "justify_content": null,
            "justify_items": null,
            "left": null,
            "margin": null,
            "max_height": null,
            "max_width": null,
            "min_height": null,
            "min_width": null,
            "object_fit": null,
            "object_position": null,
            "order": null,
            "overflow": null,
            "overflow_x": null,
            "overflow_y": null,
            "padding": null,
            "right": null,
            "top": null,
            "visibility": null,
            "width": null
          }
        },
        "5a7734c4028c42f98b422fb200a7a3fb": {
          "model_module": "@jupyter-widgets/controls",
          "model_module_version": "1.5.0",
          "model_name": "FloatProgressModel",
          "state": {
            "_dom_classes": [],
            "_model_module": "@jupyter-widgets/controls",
            "_model_module_version": "1.5.0",
            "_model_name": "FloatProgressModel",
            "_view_count": null,
            "_view_module": "@jupyter-widgets/controls",
            "_view_module_version": "1.5.0",
            "_view_name": "ProgressView",
            "bar_style": "success",
            "description": "",
            "description_tooltip": null,
            "layout": "IPY_MODEL_fcd6f50dccc543e9aec004a43b5b61a4",
            "max": 8912,
            "min": 0,
            "orientation": "horizontal",
            "style": "IPY_MODEL_c3f0bab5c94c494291961f411473ca28",
            "value": 8912
          }
        },
        "5dc018e0abcb4039a9618485725ed193": {
          "model_module": "@jupyter-widgets/base",
          "model_module_version": "1.2.0",
          "model_name": "LayoutModel",
          "state": {
            "_model_module": "@jupyter-widgets/base",
            "_model_module_version": "1.2.0",
            "_model_name": "LayoutModel",
            "_view_count": null,
            "_view_module": "@jupyter-widgets/base",
            "_view_module_version": "1.2.0",
            "_view_name": "LayoutView",
            "align_content": null,
            "align_items": null,
            "align_self": null,
            "border": null,
            "bottom": null,
            "display": null,
            "flex": null,
            "flex_flow": null,
            "grid_area": null,
            "grid_auto_columns": null,
            "grid_auto_flow": null,
            "grid_auto_rows": null,
            "grid_column": null,
            "grid_gap": null,
            "grid_row": null,
            "grid_template_areas": null,
            "grid_template_columns": null,
            "grid_template_rows": null,
            "height": null,
            "justify_content": null,
            "justify_items": null,
            "left": null,
            "margin": null,
            "max_height": null,
            "max_width": null,
            "min_height": null,
            "min_width": null,
            "object_fit": null,
            "object_position": null,
            "order": null,
            "overflow": null,
            "overflow_x": null,
            "overflow_y": null,
            "padding": null,
            "right": null,
            "top": null,
            "visibility": null,
            "width": null
          }
        },
        "60f8020dc5164bb1ab6b65eaa815e87d": {
          "model_module": "@jupyter-widgets/controls",
          "model_module_version": "1.5.0",
          "model_name": "ButtonStyleModel",
          "state": {
            "_model_module": "@jupyter-widgets/controls",
            "_model_module_version": "1.5.0",
            "_model_name": "ButtonStyleModel",
            "_view_count": null,
            "_view_module": "@jupyter-widgets/base",
            "_view_module_version": "1.2.0",
            "_view_name": "StyleView",
            "button_color": null,
            "font_weight": ""
          }
        },
        "614064d07cb34545ba611e5159d3f71a": {
          "model_module": "@jupyter-widgets/output",
          "model_module_version": "1.0.0",
          "model_name": "OutputModel",
          "state": {
            "_dom_classes": [],
            "_model_module": "@jupyter-widgets/output",
            "_model_module_version": "1.0.0",
            "_model_name": "OutputModel",
            "_view_count": null,
            "_view_module": "@jupyter-widgets/output",
            "_view_module_version": "1.0.0",
            "_view_name": "OutputView",
            "layout": "IPY_MODEL_66137293f4f54622a70a22263b6cc7f5",
            "msg_id": "",
            "outputs": []
          }
        },
        "6308130764b14da48c9d7be9d1d800cd": {
          "model_module": "@jupyter-widgets/controls",
          "model_module_version": "1.5.0",
          "model_name": "VBoxModel",
          "state": {
            "_dom_classes": [
              "widget-interact"
            ],
            "_model_module": "@jupyter-widgets/controls",
            "_model_module_version": "1.5.0",
            "_model_name": "VBoxModel",
            "_view_count": null,
            "_view_module": "@jupyter-widgets/controls",
            "_view_module_version": "1.5.0",
            "_view_name": "VBoxView",
            "box_style": "",
            "children": [
              "IPY_MODEL_f29329363a1843f1970d24e478d80e26",
              "IPY_MODEL_a64106fbed494cd8ac0796a58ce34caf"
            ],
            "layout": "IPY_MODEL_428a76c9ed9542b5bb0414c000331c05"
          }
        },
        "63c77458e0f1487ba5a3f1a70e9db17b": {
          "model_module": "@jupyter-widgets/controls",
          "model_module_version": "1.5.0",
          "model_name": "HBoxModel",
          "state": {
            "_dom_classes": [],
            "_model_module": "@jupyter-widgets/controls",
            "_model_module_version": "1.5.0",
            "_model_name": "HBoxModel",
            "_view_count": null,
            "_view_module": "@jupyter-widgets/controls",
            "_view_module_version": "1.5.0",
            "_view_name": "HBoxView",
            "box_style": "",
            "children": [
              "IPY_MODEL_fb0ee16a85794cec97027e6ce27ed957",
              "IPY_MODEL_9ac24e4ea60e48e594cd747b7debd467",
              "IPY_MODEL_31b8a80856fd4498b1794124765c3533"
            ],
            "layout": "IPY_MODEL_a8a28dcb76194ddaa1d32990888e14ca"
          }
        },
        "66137293f4f54622a70a22263b6cc7f5": {
          "model_module": "@jupyter-widgets/base",
          "model_module_version": "1.2.0",
          "model_name": "LayoutModel",
          "state": {
            "_model_module": "@jupyter-widgets/base",
            "_model_module_version": "1.2.0",
            "_model_name": "LayoutModel",
            "_view_count": null,
            "_view_module": "@jupyter-widgets/base",
            "_view_module_version": "1.2.0",
            "_view_name": "LayoutView",
            "align_content": null,
            "align_items": null,
            "align_self": null,
            "border": null,
            "bottom": null,
            "display": null,
            "flex": null,
            "flex_flow": null,
            "grid_area": null,
            "grid_auto_columns": null,
            "grid_auto_flow": null,
            "grid_auto_rows": null,
            "grid_column": null,
            "grid_gap": null,
            "grid_row": null,
            "grid_template_areas": null,
            "grid_template_columns": null,
            "grid_template_rows": null,
            "height": null,
            "justify_content": null,
            "justify_items": null,
            "left": null,
            "margin": null,
            "max_height": null,
            "max_width": null,
            "min_height": null,
            "min_width": null,
            "object_fit": null,
            "object_position": null,
            "order": null,
            "overflow": null,
            "overflow_x": null,
            "overflow_y": null,
            "padding": null,
            "right": null,
            "top": null,
            "visibility": null,
            "width": null
          }
        },
        "6841884f7e434ac1aec39573d2adb804": {
          "model_module": "@jupyter-widgets/controls",
          "model_module_version": "1.5.0",
          "model_name": "VBoxModel",
          "state": {
            "_dom_classes": [
              "widget-interact"
            ],
            "_model_module": "@jupyter-widgets/controls",
            "_model_module_version": "1.5.0",
            "_model_name": "VBoxModel",
            "_view_count": null,
            "_view_module": "@jupyter-widgets/controls",
            "_view_module_version": "1.5.0",
            "_view_name": "VBoxView",
            "box_style": "",
            "children": [
              "IPY_MODEL_74015556a65a4f5ea22b893d6c82ca66",
              "IPY_MODEL_614064d07cb34545ba611e5159d3f71a"
            ],
            "layout": "IPY_MODEL_e8d65958e769462aa77d0ba59ed74289"
          }
        },
        "6902a37c469b443d89b83593d94b1f80": {
          "model_module": "@jupyter-widgets/controls",
          "model_module_version": "1.5.0",
          "model_name": "HTMLModel",
          "state": {
            "_dom_classes": [],
            "_model_module": "@jupyter-widgets/controls",
            "_model_module_version": "1.5.0",
            "_model_name": "HTMLModel",
            "_view_count": null,
            "_view_module": "@jupyter-widgets/controls",
            "_view_module_version": "1.5.0",
            "_view_name": "HTMLView",
            "description": "",
            "description_tooltip": null,
            "layout": "IPY_MODEL_031c3317a81c4363bc19f7da9f4b99aa",
            "placeholder": "​",
            "style": "IPY_MODEL_8fd1684c10fd4da495cde046a8173f28",
            "value": "Predicting: 100%"
          }
        },
        "69684c3c480c45cdadd82d3614a165b0": {
          "model_module": "@jupyter-widgets/controls",
          "model_module_version": "1.5.0",
          "model_name": "HTMLModel",
          "state": {
            "_dom_classes": [],
            "_model_module": "@jupyter-widgets/controls",
            "_model_module_version": "1.5.0",
            "_model_name": "HTMLModel",
            "_view_count": null,
            "_view_module": "@jupyter-widgets/controls",
            "_view_module_version": "1.5.0",
            "_view_name": "HTMLView",
            "description": "",
            "description_tooltip": null,
            "layout": "IPY_MODEL_99f14d83418345e6974e2a0f84507070",
            "placeholder": "​",
            "style": "IPY_MODEL_41c07c05eb844cb68cea29c25c4a85f6",
            "value": "Predicting: 100%"
          }
        },
        "6ad4767727054667a523753a4b448d8e": {
          "model_module": "@jupyter-widgets/base",
          "model_module_version": "1.2.0",
          "model_name": "LayoutModel",
          "state": {
            "_model_module": "@jupyter-widgets/base",
            "_model_module_version": "1.2.0",
            "_model_name": "LayoutModel",
            "_view_count": null,
            "_view_module": "@jupyter-widgets/base",
            "_view_module_version": "1.2.0",
            "_view_name": "LayoutView",
            "align_content": null,
            "align_items": null,
            "align_self": null,
            "border": null,
            "bottom": null,
            "display": null,
            "flex": null,
            "flex_flow": null,
            "grid_area": null,
            "grid_auto_columns": null,
            "grid_auto_flow": null,
            "grid_auto_rows": null,
            "grid_column": null,
            "grid_gap": null,
            "grid_row": null,
            "grid_template_areas": null,
            "grid_template_columns": null,
            "grid_template_rows": null,
            "height": null,
            "justify_content": null,
            "justify_items": null,
            "left": null,
            "margin": null,
            "max_height": null,
            "max_width": null,
            "min_height": null,
            "min_width": null,
            "object_fit": null,
            "object_position": null,
            "order": null,
            "overflow": null,
            "overflow_x": null,
            "overflow_y": null,
            "padding": null,
            "right": null,
            "top": null,
            "visibility": null,
            "width": null
          }
        },
        "6b1207bdb994490c867b009017e77b0a": {
          "model_module": "@jupyter-widgets/controls",
          "model_module_version": "1.5.0",
          "model_name": "HBoxModel",
          "state": {
            "_dom_classes": [],
            "_model_module": "@jupyter-widgets/controls",
            "_model_module_version": "1.5.0",
            "_model_name": "HBoxModel",
            "_view_count": null,
            "_view_module": "@jupyter-widgets/controls",
            "_view_module_version": "1.5.0",
            "_view_name": "HBoxView",
            "box_style": "",
            "children": [
              "IPY_MODEL_6902a37c469b443d89b83593d94b1f80",
              "IPY_MODEL_885f77f4ce5348d3a83aaefbaaa7d5c8",
              "IPY_MODEL_c4ca5b42ee31435a8eab95c7b0eaa9cd"
            ],
            "layout": "IPY_MODEL_6ad4767727054667a523753a4b448d8e"
          }
        },
        "6cf4998d0eec4c31884ddf400f5f68c6": {
          "model_module": "@jupyter-widgets/base",
          "model_module_version": "1.2.0",
          "model_name": "LayoutModel",
          "state": {
            "_model_module": "@jupyter-widgets/base",
            "_model_module_version": "1.2.0",
            "_model_name": "LayoutModel",
            "_view_count": null,
            "_view_module": "@jupyter-widgets/base",
            "_view_module_version": "1.2.0",
            "_view_name": "LayoutView",
            "align_content": null,
            "align_items": null,
            "align_self": null,
            "border": null,
            "bottom": null,
            "display": null,
            "flex": null,
            "flex_flow": null,
            "grid_area": null,
            "grid_auto_columns": null,
            "grid_auto_flow": null,
            "grid_auto_rows": null,
            "grid_column": null,
            "grid_gap": null,
            "grid_row": null,
            "grid_template_areas": null,
            "grid_template_columns": null,
            "grid_template_rows": null,
            "height": null,
            "justify_content": null,
            "justify_items": null,
            "left": null,
            "margin": null,
            "max_height": null,
            "max_width": null,
            "min_height": null,
            "min_width": null,
            "object_fit": null,
            "object_position": null,
            "order": null,
            "overflow": null,
            "overflow_x": null,
            "overflow_y": null,
            "padding": null,
            "right": null,
            "top": null,
            "visibility": null,
            "width": null
          }
        },
        "6e3de5baf52d47e3a4050abfe9f4586c": {
          "model_module": "@jupyter-widgets/controls",
          "model_module_version": "1.5.0",
          "model_name": "HTMLModel",
          "state": {
            "_dom_classes": [],
            "_model_module": "@jupyter-widgets/controls",
            "_model_module_version": "1.5.0",
            "_model_name": "HTMLModel",
            "_view_count": null,
            "_view_module": "@jupyter-widgets/controls",
            "_view_module_version": "1.5.0",
            "_view_name": "HTMLView",
            "description": "",
            "description_tooltip": null,
            "layout": "IPY_MODEL_97d27350bc0b4bb6b54ee93d7fd35d9b",
            "placeholder": "​",
            "style": "IPY_MODEL_8d279cfaf5a54c728c49c077a24a6121",
            "value": " 16465/16465 [1:12:20&lt;00:00,  4.11sentence/s, filename=all_test_aes_predictions.txt]"
          }
        },
        "704815339e9640e3bc9bfd97f08c2d9f": {
          "model_module": "@jupyter-widgets/base",
          "model_module_version": "1.2.0",
          "model_name": "LayoutModel",
          "state": {
            "_model_module": "@jupyter-widgets/base",
            "_model_module_version": "1.2.0",
            "_model_name": "LayoutModel",
            "_view_count": null,
            "_view_module": "@jupyter-widgets/base",
            "_view_module_version": "1.2.0",
            "_view_name": "LayoutView",
            "align_content": null,
            "align_items": null,
            "align_self": null,
            "border": null,
            "bottom": null,
            "display": null,
            "flex": null,
            "flex_flow": null,
            "grid_area": null,
            "grid_auto_columns": null,
            "grid_auto_flow": null,
            "grid_auto_rows": null,
            "grid_column": null,
            "grid_gap": null,
            "grid_row": null,
            "grid_template_areas": null,
            "grid_template_columns": null,
            "grid_template_rows": null,
            "height": null,
            "justify_content": null,
            "justify_items": null,
            "left": null,
            "margin": null,
            "max_height": null,
            "max_width": null,
            "min_height": null,
            "min_width": null,
            "object_fit": null,
            "object_position": null,
            "order": null,
            "overflow": null,
            "overflow_x": null,
            "overflow_y": null,
            "padding": null,
            "right": null,
            "top": null,
            "visibility": null,
            "width": null
          }
        },
        "708148f9842e4734b7c762483145491d": {
          "model_module": "@jupyter-widgets/controls",
          "model_module_version": "1.5.0",
          "model_name": "ButtonStyleModel",
          "state": {
            "_model_module": "@jupyter-widgets/controls",
            "_model_module_version": "1.5.0",
            "_model_name": "ButtonStyleModel",
            "_view_count": null,
            "_view_module": "@jupyter-widgets/base",
            "_view_module_version": "1.2.0",
            "_view_name": "StyleView",
            "button_color": null,
            "font_weight": ""
          }
        },
        "74015556a65a4f5ea22b893d6c82ca66": {
          "model_module": "@jupyter-widgets/controls",
          "model_module_version": "1.5.0",
          "model_name": "ButtonModel",
          "state": {
            "_dom_classes": [],
            "_model_module": "@jupyter-widgets/controls",
            "_model_module_version": "1.5.0",
            "_model_name": "ButtonModel",
            "_view_count": null,
            "_view_module": "@jupyter-widgets/controls",
            "_view_module_version": "1.5.0",
            "_view_name": "ButtonView",
            "button_style": "",
            "description": "Regenerate",
            "disabled": false,
            "icon": "",
            "layout": "IPY_MODEL_e4d78eabbdec4e18a68d9339672b29c2",
            "style": "IPY_MODEL_89261cabb4a041a1ae5d576ed32849d5",
            "tooltip": ""
          }
        },
        "7b287e1dbf5749fabe5a99f76e5d48d8": {
          "model_module": "@jupyter-widgets/controls",
          "model_module_version": "1.5.0",
          "model_name": "FloatProgressModel",
          "state": {
            "_dom_classes": [],
            "_model_module": "@jupyter-widgets/controls",
            "_model_module_version": "1.5.0",
            "_model_name": "FloatProgressModel",
            "_view_count": null,
            "_view_module": "@jupyter-widgets/controls",
            "_view_module_version": "1.5.0",
            "_view_name": "ProgressView",
            "bar_style": "success",
            "description": "",
            "description_tooltip": null,
            "layout": "IPY_MODEL_838b496e07bb4df5b69a12be8d3f62c3",
            "max": 25377,
            "min": 0,
            "orientation": "horizontal",
            "style": "IPY_MODEL_ef7e33f66039438293f09b6a5be79483",
            "value": 25377
          }
        },
        "7c60df2a1d5841c9bc30e94fb8d50907": {
          "model_module": "@jupyter-widgets/base",
          "model_module_version": "1.2.0",
          "model_name": "LayoutModel",
          "state": {
            "_model_module": "@jupyter-widgets/base",
            "_model_module_version": "1.2.0",
            "_model_name": "LayoutModel",
            "_view_count": null,
            "_view_module": "@jupyter-widgets/base",
            "_view_module_version": "1.2.0",
            "_view_name": "LayoutView",
            "align_content": null,
            "align_items": null,
            "align_self": null,
            "border": null,
            "bottom": null,
            "display": null,
            "flex": null,
            "flex_flow": null,
            "grid_area": null,
            "grid_auto_columns": null,
            "grid_auto_flow": null,
            "grid_auto_rows": null,
            "grid_column": null,
            "grid_gap": null,
            "grid_row": null,
            "grid_template_areas": null,
            "grid_template_columns": null,
            "grid_template_rows": null,
            "height": null,
            "justify_content": null,
            "justify_items": null,
            "left": null,
            "margin": null,
            "max_height": null,
            "max_width": null,
            "min_height": null,
            "min_width": null,
            "object_fit": null,
            "object_position": null,
            "order": null,
            "overflow": null,
            "overflow_x": null,
            "overflow_y": null,
            "padding": null,
            "right": null,
            "top": null,
            "visibility": null,
            "width": null
          }
        },
        "8182e490726a49a28d49bb9f31dc42b3": {
          "model_module": "@jupyter-widgets/controls",
          "model_module_version": "1.5.0",
          "model_name": "VBoxModel",
          "state": {
            "_dom_classes": [
              "widget-interact"
            ],
            "_model_module": "@jupyter-widgets/controls",
            "_model_module_version": "1.5.0",
            "_model_name": "VBoxModel",
            "_view_count": null,
            "_view_module": "@jupyter-widgets/controls",
            "_view_module_version": "1.5.0",
            "_view_name": "VBoxView",
            "box_style": "",
            "children": [
              "IPY_MODEL_aaa48f138ed44f6fb40f6c0b2fec6c87",
              "IPY_MODEL_1662cc0017874a8c8f0febda9c102f04"
            ],
            "layout": "IPY_MODEL_2e68f64864b749cdad339e5b0ac482f7"
          }
        },
        "838b496e07bb4df5b69a12be8d3f62c3": {
          "model_module": "@jupyter-widgets/base",
          "model_module_version": "1.2.0",
          "model_name": "LayoutModel",
          "state": {
            "_model_module": "@jupyter-widgets/base",
            "_model_module_version": "1.2.0",
            "_model_name": "LayoutModel",
            "_view_count": null,
            "_view_module": "@jupyter-widgets/base",
            "_view_module_version": "1.2.0",
            "_view_name": "LayoutView",
            "align_content": null,
            "align_items": null,
            "align_self": null,
            "border": null,
            "bottom": null,
            "display": null,
            "flex": null,
            "flex_flow": null,
            "grid_area": null,
            "grid_auto_columns": null,
            "grid_auto_flow": null,
            "grid_auto_rows": null,
            "grid_column": null,
            "grid_gap": null,
            "grid_row": null,
            "grid_template_areas": null,
            "grid_template_columns": null,
            "grid_template_rows": null,
            "height": null,
            "justify_content": null,
            "justify_items": null,
            "left": null,
            "margin": null,
            "max_height": null,
            "max_width": null,
            "min_height": null,
            "min_width": null,
            "object_fit": null,
            "object_position": null,
            "order": null,
            "overflow": null,
            "overflow_x": null,
            "overflow_y": null,
            "padding": null,
            "right": null,
            "top": null,
            "visibility": null,
            "width": null
          }
        },
        "885f77f4ce5348d3a83aaefbaaa7d5c8": {
          "model_module": "@jupyter-widgets/controls",
          "model_module_version": "1.5.0",
          "model_name": "FloatProgressModel",
          "state": {
            "_dom_classes": [],
            "_model_module": "@jupyter-widgets/controls",
            "_model_module_version": "1.5.0",
            "_model_name": "FloatProgressModel",
            "_view_count": null,
            "_view_module": "@jupyter-widgets/controls",
            "_view_module_version": "1.5.0",
            "_view_name": "ProgressView",
            "bar_style": "success",
            "description": "",
            "description_tooltip": null,
            "layout": "IPY_MODEL_57f8dd0c7deb440486ee71df40a9e3e1",
            "max": 25377,
            "min": 0,
            "orientation": "horizontal",
            "style": "IPY_MODEL_22dbe858d96442c2a5bc6a842236f141",
            "value": 25377
          }
        },
        "89261cabb4a041a1ae5d576ed32849d5": {
          "model_module": "@jupyter-widgets/controls",
          "model_module_version": "1.5.0",
          "model_name": "ButtonStyleModel",
          "state": {
            "_model_module": "@jupyter-widgets/controls",
            "_model_module_version": "1.5.0",
            "_model_name": "ButtonStyleModel",
            "_view_count": null,
            "_view_module": "@jupyter-widgets/base",
            "_view_module_version": "1.2.0",
            "_view_name": "StyleView",
            "button_color": null,
            "font_weight": ""
          }
        },
        "8d279cfaf5a54c728c49c077a24a6121": {
          "model_module": "@jupyter-widgets/controls",
          "model_module_version": "1.5.0",
          "model_name": "DescriptionStyleModel",
          "state": {
            "_model_module": "@jupyter-widgets/controls",
            "_model_module_version": "1.5.0",
            "_model_name": "DescriptionStyleModel",
            "_view_count": null,
            "_view_module": "@jupyter-widgets/base",
            "_view_module_version": "1.2.0",
            "_view_name": "StyleView",
            "description_width": ""
          }
        },
        "8f28e8fa2c12439e87a9a9d29fc3dc5e": {
          "model_module": "@jupyter-widgets/controls",
          "model_module_version": "1.5.0",
          "model_name": "DescriptionStyleModel",
          "state": {
            "_model_module": "@jupyter-widgets/controls",
            "_model_module_version": "1.5.0",
            "_model_name": "DescriptionStyleModel",
            "_view_count": null,
            "_view_module": "@jupyter-widgets/base",
            "_view_module_version": "1.2.0",
            "_view_name": "StyleView",
            "description_width": ""
          }
        },
        "8f7e64ff96e346b89dd2de7e02ae5715": {
          "model_module": "@jupyter-widgets/base",
          "model_module_version": "1.2.0",
          "model_name": "LayoutModel",
          "state": {
            "_model_module": "@jupyter-widgets/base",
            "_model_module_version": "1.2.0",
            "_model_name": "LayoutModel",
            "_view_count": null,
            "_view_module": "@jupyter-widgets/base",
            "_view_module_version": "1.2.0",
            "_view_name": "LayoutView",
            "align_content": null,
            "align_items": null,
            "align_self": null,
            "border": null,
            "bottom": null,
            "display": null,
            "flex": null,
            "flex_flow": null,
            "grid_area": null,
            "grid_auto_columns": null,
            "grid_auto_flow": null,
            "grid_auto_rows": null,
            "grid_column": null,
            "grid_gap": null,
            "grid_row": null,
            "grid_template_areas": null,
            "grid_template_columns": null,
            "grid_template_rows": null,
            "height": null,
            "justify_content": null,
            "justify_items": null,
            "left": null,
            "margin": null,
            "max_height": null,
            "max_width": null,
            "min_height": null,
            "min_width": null,
            "object_fit": null,
            "object_position": null,
            "order": null,
            "overflow": null,
            "overflow_x": null,
            "overflow_y": null,
            "padding": null,
            "right": null,
            "top": null,
            "visibility": null,
            "width": null
          }
        },
        "8fd1684c10fd4da495cde046a8173f28": {
          "model_module": "@jupyter-widgets/controls",
          "model_module_version": "1.5.0",
          "model_name": "DescriptionStyleModel",
          "state": {
            "_model_module": "@jupyter-widgets/controls",
            "_model_module_version": "1.5.0",
            "_model_name": "DescriptionStyleModel",
            "_view_count": null,
            "_view_module": "@jupyter-widgets/base",
            "_view_module_version": "1.2.0",
            "_view_name": "StyleView",
            "description_width": ""
          }
        },
        "97d27350bc0b4bb6b54ee93d7fd35d9b": {
          "model_module": "@jupyter-widgets/base",
          "model_module_version": "1.2.0",
          "model_name": "LayoutModel",
          "state": {
            "_model_module": "@jupyter-widgets/base",
            "_model_module_version": "1.2.0",
            "_model_name": "LayoutModel",
            "_view_count": null,
            "_view_module": "@jupyter-widgets/base",
            "_view_module_version": "1.2.0",
            "_view_name": "LayoutView",
            "align_content": null,
            "align_items": null,
            "align_self": null,
            "border": null,
            "bottom": null,
            "display": null,
            "flex": null,
            "flex_flow": null,
            "grid_area": null,
            "grid_auto_columns": null,
            "grid_auto_flow": null,
            "grid_auto_rows": null,
            "grid_column": null,
            "grid_gap": null,
            "grid_row": null,
            "grid_template_areas": null,
            "grid_template_columns": null,
            "grid_template_rows": null,
            "height": null,
            "justify_content": null,
            "justify_items": null,
            "left": null,
            "margin": null,
            "max_height": null,
            "max_width": null,
            "min_height": null,
            "min_width": null,
            "object_fit": null,
            "object_position": null,
            "order": null,
            "overflow": null,
            "overflow_x": null,
            "overflow_y": null,
            "padding": null,
            "right": null,
            "top": null,
            "visibility": null,
            "width": null
          }
        },
        "99f14d83418345e6974e2a0f84507070": {
          "model_module": "@jupyter-widgets/base",
          "model_module_version": "1.2.0",
          "model_name": "LayoutModel",
          "state": {
            "_model_module": "@jupyter-widgets/base",
            "_model_module_version": "1.2.0",
            "_model_name": "LayoutModel",
            "_view_count": null,
            "_view_module": "@jupyter-widgets/base",
            "_view_module_version": "1.2.0",
            "_view_name": "LayoutView",
            "align_content": null,
            "align_items": null,
            "align_self": null,
            "border": null,
            "bottom": null,
            "display": null,
            "flex": null,
            "flex_flow": null,
            "grid_area": null,
            "grid_auto_columns": null,
            "grid_auto_flow": null,
            "grid_auto_rows": null,
            "grid_column": null,
            "grid_gap": null,
            "grid_row": null,
            "grid_template_areas": null,
            "grid_template_columns": null,
            "grid_template_rows": null,
            "height": null,
            "justify_content": null,
            "justify_items": null,
            "left": null,
            "margin": null,
            "max_height": null,
            "max_width": null,
            "min_height": null,
            "min_width": null,
            "object_fit": null,
            "object_position": null,
            "order": null,
            "overflow": null,
            "overflow_x": null,
            "overflow_y": null,
            "padding": null,
            "right": null,
            "top": null,
            "visibility": null,
            "width": null
          }
        },
        "9a7a3bbfd2254340bc64466b0fcb18e6": {
          "model_module": "@jupyter-widgets/controls",
          "model_module_version": "1.5.0",
          "model_name": "DescriptionStyleModel",
          "state": {
            "_model_module": "@jupyter-widgets/controls",
            "_model_module_version": "1.5.0",
            "_model_name": "DescriptionStyleModel",
            "_view_count": null,
            "_view_module": "@jupyter-widgets/base",
            "_view_module_version": "1.2.0",
            "_view_name": "StyleView",
            "description_width": ""
          }
        },
        "9ac24e4ea60e48e594cd747b7debd467": {
          "model_module": "@jupyter-widgets/controls",
          "model_module_version": "1.5.0",
          "model_name": "FloatProgressModel",
          "state": {
            "_dom_classes": [],
            "_model_module": "@jupyter-widgets/controls",
            "_model_module_version": "1.5.0",
            "_model_name": "FloatProgressModel",
            "_view_count": null,
            "_view_module": "@jupyter-widgets/controls",
            "_view_module_version": "1.5.0",
            "_view_name": "ProgressView",
            "bar_style": "success",
            "description": "",
            "description_tooltip": null,
            "layout": "IPY_MODEL_7c60df2a1d5841c9bc30e94fb8d50907",
            "max": 25377,
            "min": 0,
            "orientation": "horizontal",
            "style": "IPY_MODEL_f1d0f4737fcf471a8ec0625d0a172448",
            "value": 25377
          }
        },
        "a3543fe70c6849628a06e09a0ef5feaf": {
          "model_module": "@jupyter-widgets/controls",
          "model_module_version": "1.5.0",
          "model_name": "HBoxModel",
          "state": {
            "_dom_classes": [],
            "_model_module": "@jupyter-widgets/controls",
            "_model_module_version": "1.5.0",
            "_model_name": "HBoxModel",
            "_view_count": null,
            "_view_module": "@jupyter-widgets/controls",
            "_view_module_version": "1.5.0",
            "_view_name": "HBoxView",
            "box_style": "",
            "children": [
              "IPY_MODEL_69684c3c480c45cdadd82d3614a165b0",
              "IPY_MODEL_7b287e1dbf5749fabe5a99f76e5d48d8",
              "IPY_MODEL_0432e7bc960a426b89d53b90f187c79a"
            ],
            "layout": "IPY_MODEL_704815339e9640e3bc9bfd97f08c2d9f"
          }
        },
        "a64106fbed494cd8ac0796a58ce34caf": {
          "model_module": "@jupyter-widgets/output",
          "model_module_version": "1.0.0",
          "model_name": "OutputModel",
          "state": {
            "_dom_classes": [],
            "_model_module": "@jupyter-widgets/output",
            "_model_module_version": "1.0.0",
            "_model_name": "OutputModel",
            "_view_count": null,
            "_view_module": "@jupyter-widgets/output",
            "_view_module_version": "1.0.0",
            "_view_name": "OutputView",
            "layout": "IPY_MODEL_f201dc3045534851a139c543b3b52968",
            "msg_id": "",
            "outputs": []
          }
        },
        "a8a28dcb76194ddaa1d32990888e14ca": {
          "model_module": "@jupyter-widgets/base",
          "model_module_version": "1.2.0",
          "model_name": "LayoutModel",
          "state": {
            "_model_module": "@jupyter-widgets/base",
            "_model_module_version": "1.2.0",
            "_model_name": "LayoutModel",
            "_view_count": null,
            "_view_module": "@jupyter-widgets/base",
            "_view_module_version": "1.2.0",
            "_view_name": "LayoutView",
            "align_content": null,
            "align_items": null,
            "align_self": null,
            "border": null,
            "bottom": null,
            "display": null,
            "flex": null,
            "flex_flow": null,
            "grid_area": null,
            "grid_auto_columns": null,
            "grid_auto_flow": null,
            "grid_auto_rows": null,
            "grid_column": null,
            "grid_gap": null,
            "grid_row": null,
            "grid_template_areas": null,
            "grid_template_columns": null,
            "grid_template_rows": null,
            "height": null,
            "justify_content": null,
            "justify_items": null,
            "left": null,
            "margin": null,
            "max_height": null,
            "max_width": null,
            "min_height": null,
            "min_width": null,
            "object_fit": null,
            "object_position": null,
            "order": null,
            "overflow": null,
            "overflow_x": null,
            "overflow_y": null,
            "padding": null,
            "right": null,
            "top": null,
            "visibility": null,
            "width": null
          }
        },
        "a96c164b87b44234badf8fdae4d29f33": {
          "model_module": "@jupyter-widgets/controls",
          "model_module_version": "1.5.0",
          "model_name": "DescriptionStyleModel",
          "state": {
            "_model_module": "@jupyter-widgets/controls",
            "_model_module_version": "1.5.0",
            "_model_name": "DescriptionStyleModel",
            "_view_count": null,
            "_view_module": "@jupyter-widgets/base",
            "_view_module_version": "1.2.0",
            "_view_name": "StyleView",
            "description_width": ""
          }
        },
        "a9e368815b38443ea6fc861b8f3e06af": {
          "model_module": "@jupyter-widgets/base",
          "model_module_version": "1.2.0",
          "model_name": "LayoutModel",
          "state": {
            "_model_module": "@jupyter-widgets/base",
            "_model_module_version": "1.2.0",
            "_model_name": "LayoutModel",
            "_view_count": null,
            "_view_module": "@jupyter-widgets/base",
            "_view_module_version": "1.2.0",
            "_view_name": "LayoutView",
            "align_content": null,
            "align_items": null,
            "align_self": null,
            "border": null,
            "bottom": null,
            "display": null,
            "flex": null,
            "flex_flow": null,
            "grid_area": null,
            "grid_auto_columns": null,
            "grid_auto_flow": null,
            "grid_auto_rows": null,
            "grid_column": null,
            "grid_gap": null,
            "grid_row": null,
            "grid_template_areas": null,
            "grid_template_columns": null,
            "grid_template_rows": null,
            "height": null,
            "justify_content": null,
            "justify_items": null,
            "left": null,
            "margin": null,
            "max_height": null,
            "max_width": null,
            "min_height": null,
            "min_width": null,
            "object_fit": null,
            "object_position": null,
            "order": null,
            "overflow": null,
            "overflow_x": null,
            "overflow_y": null,
            "padding": null,
            "right": null,
            "top": null,
            "visibility": null,
            "width": null
          }
        },
        "aaa48f138ed44f6fb40f6c0b2fec6c87": {
          "model_module": "@jupyter-widgets/controls",
          "model_module_version": "1.5.0",
          "model_name": "ButtonModel",
          "state": {
            "_dom_classes": [],
            "_model_module": "@jupyter-widgets/controls",
            "_model_module_version": "1.5.0",
            "_model_name": "ButtonModel",
            "_view_count": null,
            "_view_module": "@jupyter-widgets/controls",
            "_view_module_version": "1.5.0",
            "_view_name": "ButtonView",
            "button_style": "",
            "description": "Regenerate",
            "disabled": false,
            "icon": "",
            "layout": "IPY_MODEL_8f7e64ff96e346b89dd2de7e02ae5715",
            "style": "IPY_MODEL_132b82dc85a54b5b9e8b25c9cc7f6f8e",
            "tooltip": ""
          }
        },
        "af23668a80ac4cd18765b40c54713bfc": {
          "model_module": "@jupyter-widgets/output",
          "model_module_version": "1.0.0",
          "model_name": "OutputModel",
          "state": {
            "_dom_classes": [],
            "_model_module": "@jupyter-widgets/output",
            "_model_module_version": "1.0.0",
            "_model_name": "OutputModel",
            "_view_count": null,
            "_view_module": "@jupyter-widgets/output",
            "_view_module_version": "1.0.0",
            "_view_name": "OutputView",
            "layout": "IPY_MODEL_6cf4998d0eec4c31884ddf400f5f68c6",
            "msg_id": "",
            "outputs": []
          }
        },
        "b5dba242258e44bdb157773f22ecdef1": {
          "model_module": "@jupyter-widgets/base",
          "model_module_version": "1.2.0",
          "model_name": "LayoutModel",
          "state": {
            "_model_module": "@jupyter-widgets/base",
            "_model_module_version": "1.2.0",
            "_model_name": "LayoutModel",
            "_view_count": null,
            "_view_module": "@jupyter-widgets/base",
            "_view_module_version": "1.2.0",
            "_view_name": "LayoutView",
            "align_content": null,
            "align_items": null,
            "align_self": null,
            "border": null,
            "bottom": null,
            "display": null,
            "flex": null,
            "flex_flow": null,
            "grid_area": null,
            "grid_auto_columns": null,
            "grid_auto_flow": null,
            "grid_auto_rows": null,
            "grid_column": null,
            "grid_gap": null,
            "grid_row": null,
            "grid_template_areas": null,
            "grid_template_columns": null,
            "grid_template_rows": null,
            "height": null,
            "justify_content": null,
            "justify_items": null,
            "left": null,
            "margin": null,
            "max_height": null,
            "max_width": null,
            "min_height": null,
            "min_width": null,
            "object_fit": null,
            "object_position": null,
            "order": null,
            "overflow": null,
            "overflow_x": null,
            "overflow_y": null,
            "padding": null,
            "right": null,
            "top": null,
            "visibility": null,
            "width": null
          }
        },
        "b6586835209740488a0ddacfc447b47b": {
          "model_module": "@jupyter-widgets/base",
          "model_module_version": "1.2.0",
          "model_name": "LayoutModel",
          "state": {
            "_model_module": "@jupyter-widgets/base",
            "_model_module_version": "1.2.0",
            "_model_name": "LayoutModel",
            "_view_count": null,
            "_view_module": "@jupyter-widgets/base",
            "_view_module_version": "1.2.0",
            "_view_name": "LayoutView",
            "align_content": null,
            "align_items": null,
            "align_self": null,
            "border": null,
            "bottom": null,
            "display": null,
            "flex": null,
            "flex_flow": null,
            "grid_area": null,
            "grid_auto_columns": null,
            "grid_auto_flow": null,
            "grid_auto_rows": null,
            "grid_column": null,
            "grid_gap": null,
            "grid_row": null,
            "grid_template_areas": null,
            "grid_template_columns": null,
            "grid_template_rows": null,
            "height": null,
            "justify_content": null,
            "justify_items": null,
            "left": null,
            "margin": null,
            "max_height": null,
            "max_width": null,
            "min_height": null,
            "min_width": null,
            "object_fit": null,
            "object_position": null,
            "order": null,
            "overflow": null,
            "overflow_x": null,
            "overflow_y": null,
            "padding": null,
            "right": null,
            "top": null,
            "visibility": null,
            "width": null
          }
        },
        "c27e74a478fa4cabbc228cb53eb42f3e": {
          "model_module": "@jupyter-widgets/base",
          "model_module_version": "1.2.0",
          "model_name": "LayoutModel",
          "state": {
            "_model_module": "@jupyter-widgets/base",
            "_model_module_version": "1.2.0",
            "_model_name": "LayoutModel",
            "_view_count": null,
            "_view_module": "@jupyter-widgets/base",
            "_view_module_version": "1.2.0",
            "_view_name": "LayoutView",
            "align_content": null,
            "align_items": null,
            "align_self": null,
            "border": null,
            "bottom": null,
            "display": null,
            "flex": null,
            "flex_flow": null,
            "grid_area": null,
            "grid_auto_columns": null,
            "grid_auto_flow": null,
            "grid_auto_rows": null,
            "grid_column": null,
            "grid_gap": null,
            "grid_row": null,
            "grid_template_areas": null,
            "grid_template_columns": null,
            "grid_template_rows": null,
            "height": null,
            "justify_content": null,
            "justify_items": null,
            "left": null,
            "margin": null,
            "max_height": null,
            "max_width": null,
            "min_height": null,
            "min_width": null,
            "object_fit": null,
            "object_position": null,
            "order": null,
            "overflow": null,
            "overflow_x": null,
            "overflow_y": null,
            "padding": null,
            "right": null,
            "top": null,
            "visibility": null,
            "width": null
          }
        },
        "c3f0bab5c94c494291961f411473ca28": {
          "model_module": "@jupyter-widgets/controls",
          "model_module_version": "1.5.0",
          "model_name": "ProgressStyleModel",
          "state": {
            "_model_module": "@jupyter-widgets/controls",
            "_model_module_version": "1.5.0",
            "_model_name": "ProgressStyleModel",
            "_view_count": null,
            "_view_module": "@jupyter-widgets/base",
            "_view_module_version": "1.2.0",
            "_view_name": "StyleView",
            "bar_color": null,
            "description_width": ""
          }
        },
        "c4ca5b42ee31435a8eab95c7b0eaa9cd": {
          "model_module": "@jupyter-widgets/controls",
          "model_module_version": "1.5.0",
          "model_name": "HTMLModel",
          "state": {
            "_dom_classes": [],
            "_model_module": "@jupyter-widgets/controls",
            "_model_module_version": "1.5.0",
            "_model_name": "HTMLModel",
            "_view_count": null,
            "_view_module": "@jupyter-widgets/controls",
            "_view_module_version": "1.5.0",
            "_view_name": "HTMLView",
            "description": "",
            "description_tooltip": null,
            "layout": "IPY_MODEL_586760eadd344cf5912606b146c19eab",
            "placeholder": "​",
            "style": "IPY_MODEL_9a7a3bbfd2254340bc64466b0fcb18e6",
            "value": " 25377/25377 [2:00:20&lt;00:00,  3.61sentence/s, filename=all_test_aes_all_predictions.txt]"
          }
        },
        "c76b25fb81874e34906816590093d704": {
          "model_module": "@jupyter-widgets/controls",
          "model_module_version": "1.5.0",
          "model_name": "HTMLModel",
          "state": {
            "_dom_classes": [],
            "_model_module": "@jupyter-widgets/controls",
            "_model_module_version": "1.5.0",
            "_model_name": "HTMLModel",
            "_view_count": null,
            "_view_module": "@jupyter-widgets/controls",
            "_view_module_version": "1.5.0",
            "_view_name": "HTMLView",
            "description": "",
            "description_tooltip": null,
            "layout": "IPY_MODEL_10c4e1f11cf74b66b6b0c5c20dfcf52a",
            "placeholder": "​",
            "style": "IPY_MODEL_0f537bffba6f40539ccb1303a0ac11f8",
            "value": "Predicting: 100%"
          }
        },
        "d49a1270ba584bde85c1815f1d03b1b0": {
          "model_module": "@jupyter-widgets/controls",
          "model_module_version": "1.5.0",
          "model_name": "ProgressStyleModel",
          "state": {
            "_model_module": "@jupyter-widgets/controls",
            "_model_module_version": "1.5.0",
            "_model_name": "ProgressStyleModel",
            "_view_count": null,
            "_view_module": "@jupyter-widgets/base",
            "_view_module_version": "1.2.0",
            "_view_name": "StyleView",
            "bar_color": null,
            "description_width": ""
          }
        },
        "da93ef7841b147b485046721242566e9": {
          "model_module": "@jupyter-widgets/base",
          "model_module_version": "1.2.0",
          "model_name": "LayoutModel",
          "state": {
            "_model_module": "@jupyter-widgets/base",
            "_model_module_version": "1.2.0",
            "_model_name": "LayoutModel",
            "_view_count": null,
            "_view_module": "@jupyter-widgets/base",
            "_view_module_version": "1.2.0",
            "_view_name": "LayoutView",
            "align_content": null,
            "align_items": null,
            "align_self": null,
            "border": null,
            "bottom": null,
            "display": null,
            "flex": null,
            "flex_flow": null,
            "grid_area": null,
            "grid_auto_columns": null,
            "grid_auto_flow": null,
            "grid_auto_rows": null,
            "grid_column": null,
            "grid_gap": null,
            "grid_row": null,
            "grid_template_areas": null,
            "grid_template_columns": null,
            "grid_template_rows": null,
            "height": null,
            "justify_content": null,
            "justify_items": null,
            "left": null,
            "margin": null,
            "max_height": null,
            "max_width": null,
            "min_height": null,
            "min_width": null,
            "object_fit": null,
            "object_position": null,
            "order": null,
            "overflow": null,
            "overflow_x": null,
            "overflow_y": null,
            "padding": null,
            "right": null,
            "top": null,
            "visibility": null,
            "width": null
          }
        },
        "dc804b5752d64447a6de011d5e9a0efa": {
          "model_module": "@jupyter-widgets/controls",
          "model_module_version": "1.5.0",
          "model_name": "HTMLModel",
          "state": {
            "_dom_classes": [],
            "_model_module": "@jupyter-widgets/controls",
            "_model_module_version": "1.5.0",
            "_model_name": "HTMLModel",
            "_view_count": null,
            "_view_module": "@jupyter-widgets/controls",
            "_view_module_version": "1.5.0",
            "_view_name": "HTMLView",
            "description": "",
            "description_tooltip": null,
            "layout": "IPY_MODEL_5580efb108e8462bb2708489eed847fd",
            "placeholder": "​",
            "style": "IPY_MODEL_a96c164b87b44234badf8fdae4d29f33",
            "value": "Predicting: 100%"
          }
        },
        "e4d78eabbdec4e18a68d9339672b29c2": {
          "model_module": "@jupyter-widgets/base",
          "model_module_version": "1.2.0",
          "model_name": "LayoutModel",
          "state": {
            "_model_module": "@jupyter-widgets/base",
            "_model_module_version": "1.2.0",
            "_model_name": "LayoutModel",
            "_view_count": null,
            "_view_module": "@jupyter-widgets/base",
            "_view_module_version": "1.2.0",
            "_view_name": "LayoutView",
            "align_content": null,
            "align_items": null,
            "align_self": null,
            "border": null,
            "bottom": null,
            "display": null,
            "flex": null,
            "flex_flow": null,
            "grid_area": null,
            "grid_auto_columns": null,
            "grid_auto_flow": null,
            "grid_auto_rows": null,
            "grid_column": null,
            "grid_gap": null,
            "grid_row": null,
            "grid_template_areas": null,
            "grid_template_columns": null,
            "grid_template_rows": null,
            "height": null,
            "justify_content": null,
            "justify_items": null,
            "left": null,
            "margin": null,
            "max_height": null,
            "max_width": null,
            "min_height": null,
            "min_width": null,
            "object_fit": null,
            "object_position": null,
            "order": null,
            "overflow": null,
            "overflow_x": null,
            "overflow_y": null,
            "padding": null,
            "right": null,
            "top": null,
            "visibility": null,
            "width": null
          }
        },
        "e8d65958e769462aa77d0ba59ed74289": {
          "model_module": "@jupyter-widgets/base",
          "model_module_version": "1.2.0",
          "model_name": "LayoutModel",
          "state": {
            "_model_module": "@jupyter-widgets/base",
            "_model_module_version": "1.2.0",
            "_model_name": "LayoutModel",
            "_view_count": null,
            "_view_module": "@jupyter-widgets/base",
            "_view_module_version": "1.2.0",
            "_view_name": "LayoutView",
            "align_content": null,
            "align_items": null,
            "align_self": null,
            "border": null,
            "bottom": null,
            "display": null,
            "flex": null,
            "flex_flow": null,
            "grid_area": null,
            "grid_auto_columns": null,
            "grid_auto_flow": null,
            "grid_auto_rows": null,
            "grid_column": null,
            "grid_gap": null,
            "grid_row": null,
            "grid_template_areas": null,
            "grid_template_columns": null,
            "grid_template_rows": null,
            "height": null,
            "justify_content": null,
            "justify_items": null,
            "left": null,
            "margin": null,
            "max_height": null,
            "max_width": null,
            "min_height": null,
            "min_width": null,
            "object_fit": null,
            "object_position": null,
            "order": null,
            "overflow": null,
            "overflow_x": null,
            "overflow_y": null,
            "padding": null,
            "right": null,
            "top": null,
            "visibility": null,
            "width": null
          }
        },
        "ea5077cbf5564b518e7038b76c2f021f": {
          "model_module": "@jupyter-widgets/controls",
          "model_module_version": "1.5.0",
          "model_name": "FloatProgressModel",
          "state": {
            "_dom_classes": [],
            "_model_module": "@jupyter-widgets/controls",
            "_model_module_version": "1.5.0",
            "_model_name": "FloatProgressModel",
            "_view_count": null,
            "_view_module": "@jupyter-widgets/controls",
            "_view_module_version": "1.5.0",
            "_view_name": "ProgressView",
            "bar_style": "success",
            "description": "",
            "description_tooltip": null,
            "layout": "IPY_MODEL_506d051123554b00b81908afbc31a3f5",
            "max": 16465,
            "min": 0,
            "orientation": "horizontal",
            "style": "IPY_MODEL_d49a1270ba584bde85c1815f1d03b1b0",
            "value": 16465
          }
        },
        "ec22c3b23fdd47ca8f9dfa4793b53a15": {
          "model_module": "@jupyter-widgets/output",
          "model_module_version": "1.0.0",
          "model_name": "OutputModel",
          "state": {
            "_dom_classes": [],
            "_model_module": "@jupyter-widgets/output",
            "_model_module_version": "1.0.0",
            "_model_name": "OutputModel",
            "_view_count": null,
            "_view_module": "@jupyter-widgets/output",
            "_view_module_version": "1.0.0",
            "_view_name": "OutputView",
            "layout": "IPY_MODEL_2be7b46aa8784f8fb459c1bf8bf901bf",
            "msg_id": "",
            "outputs": []
          }
        },
        "ef7e33f66039438293f09b6a5be79483": {
          "model_module": "@jupyter-widgets/controls",
          "model_module_version": "1.5.0",
          "model_name": "ProgressStyleModel",
          "state": {
            "_model_module": "@jupyter-widgets/controls",
            "_model_module_version": "1.5.0",
            "_model_name": "ProgressStyleModel",
            "_view_count": null,
            "_view_module": "@jupyter-widgets/base",
            "_view_module_version": "1.2.0",
            "_view_name": "StyleView",
            "bar_color": null,
            "description_width": ""
          }
        },
        "f1d0f4737fcf471a8ec0625d0a172448": {
          "model_module": "@jupyter-widgets/controls",
          "model_module_version": "1.5.0",
          "model_name": "ProgressStyleModel",
          "state": {
            "_model_module": "@jupyter-widgets/controls",
            "_model_module_version": "1.5.0",
            "_model_name": "ProgressStyleModel",
            "_view_count": null,
            "_view_module": "@jupyter-widgets/base",
            "_view_module_version": "1.2.0",
            "_view_name": "StyleView",
            "bar_color": null,
            "description_width": ""
          }
        },
        "f1d5c2aea0c84f0797fa2d4ac765c4dc": {
          "model_module": "@jupyter-widgets/base",
          "model_module_version": "1.2.0",
          "model_name": "LayoutModel",
          "state": {
            "_model_module": "@jupyter-widgets/base",
            "_model_module_version": "1.2.0",
            "_model_name": "LayoutModel",
            "_view_count": null,
            "_view_module": "@jupyter-widgets/base",
            "_view_module_version": "1.2.0",
            "_view_name": "LayoutView",
            "align_content": null,
            "align_items": null,
            "align_self": null,
            "border": null,
            "bottom": null,
            "display": null,
            "flex": null,
            "flex_flow": null,
            "grid_area": null,
            "grid_auto_columns": null,
            "grid_auto_flow": null,
            "grid_auto_rows": null,
            "grid_column": null,
            "grid_gap": null,
            "grid_row": null,
            "grid_template_areas": null,
            "grid_template_columns": null,
            "grid_template_rows": null,
            "height": null,
            "justify_content": null,
            "justify_items": null,
            "left": null,
            "margin": null,
            "max_height": null,
            "max_width": null,
            "min_height": null,
            "min_width": null,
            "object_fit": null,
            "object_position": null,
            "order": null,
            "overflow": null,
            "overflow_x": null,
            "overflow_y": null,
            "padding": null,
            "right": null,
            "top": null,
            "visibility": null,
            "width": null
          }
        },
        "f201dc3045534851a139c543b3b52968": {
          "model_module": "@jupyter-widgets/base",
          "model_module_version": "1.2.0",
          "model_name": "LayoutModel",
          "state": {
            "_model_module": "@jupyter-widgets/base",
            "_model_module_version": "1.2.0",
            "_model_name": "LayoutModel",
            "_view_count": null,
            "_view_module": "@jupyter-widgets/base",
            "_view_module_version": "1.2.0",
            "_view_name": "LayoutView",
            "align_content": null,
            "align_items": null,
            "align_self": null,
            "border": null,
            "bottom": null,
            "display": null,
            "flex": null,
            "flex_flow": null,
            "grid_area": null,
            "grid_auto_columns": null,
            "grid_auto_flow": null,
            "grid_auto_rows": null,
            "grid_column": null,
            "grid_gap": null,
            "grid_row": null,
            "grid_template_areas": null,
            "grid_template_columns": null,
            "grid_template_rows": null,
            "height": null,
            "justify_content": null,
            "justify_items": null,
            "left": null,
            "margin": null,
            "max_height": null,
            "max_width": null,
            "min_height": null,
            "min_width": null,
            "object_fit": null,
            "object_position": null,
            "order": null,
            "overflow": null,
            "overflow_x": null,
            "overflow_y": null,
            "padding": null,
            "right": null,
            "top": null,
            "visibility": null,
            "width": null
          }
        },
        "f29329363a1843f1970d24e478d80e26": {
          "model_module": "@jupyter-widgets/controls",
          "model_module_version": "1.5.0",
          "model_name": "ButtonModel",
          "state": {
            "_dom_classes": [],
            "_model_module": "@jupyter-widgets/controls",
            "_model_module_version": "1.5.0",
            "_model_name": "ButtonModel",
            "_view_count": null,
            "_view_module": "@jupyter-widgets/controls",
            "_view_module_version": "1.5.0",
            "_view_name": "ButtonView",
            "button_style": "",
            "description": "Regenerate",
            "disabled": false,
            "icon": "",
            "layout": "IPY_MODEL_56417ab67ec440389d9f91121d4a0c77",
            "style": "IPY_MODEL_3f18c580b80645728a7d87752149fbe4",
            "tooltip": ""
          }
        },
        "fb0ee16a85794cec97027e6ce27ed957": {
          "model_module": "@jupyter-widgets/controls",
          "model_module_version": "1.5.0",
          "model_name": "HTMLModel",
          "state": {
            "_dom_classes": [],
            "_model_module": "@jupyter-widgets/controls",
            "_model_module_version": "1.5.0",
            "_model_name": "HTMLModel",
            "_view_count": null,
            "_view_module": "@jupyter-widgets/controls",
            "_view_module_version": "1.5.0",
            "_view_name": "HTMLView",
            "description": "",
            "description_tooltip": null,
            "layout": "IPY_MODEL_5dc018e0abcb4039a9618485725ed193",
            "placeholder": "​",
            "style": "IPY_MODEL_8f28e8fa2c12439e87a9a9d29fc3dc5e",
            "value": "Predicting: 100%"
          }
        },
        "fcd6f50dccc543e9aec004a43b5b61a4": {
          "model_module": "@jupyter-widgets/base",
          "model_module_version": "1.2.0",
          "model_name": "LayoutModel",
          "state": {
            "_model_module": "@jupyter-widgets/base",
            "_model_module_version": "1.2.0",
            "_model_name": "LayoutModel",
            "_view_count": null,
            "_view_module": "@jupyter-widgets/base",
            "_view_module_version": "1.2.0",
            "_view_name": "LayoutView",
            "align_content": null,
            "align_items": null,
            "align_self": null,
            "border": null,
            "bottom": null,
            "display": null,
            "flex": null,
            "flex_flow": null,
            "grid_area": null,
            "grid_auto_columns": null,
            "grid_auto_flow": null,
            "grid_auto_rows": null,
            "grid_column": null,
            "grid_gap": null,
            "grid_row": null,
            "grid_template_areas": null,
            "grid_template_columns": null,
            "grid_template_rows": null,
            "height": null,
            "justify_content": null,
            "justify_items": null,
            "left": null,
            "margin": null,
            "max_height": null,
            "max_width": null,
            "min_height": null,
            "min_width": null,
            "object_fit": null,
            "object_position": null,
            "order": null,
            "overflow": null,
            "overflow_x": null,
            "overflow_y": null,
            "padding": null,
            "right": null,
            "top": null,
            "visibility": null,
            "width": null
          }
        },
        "1e2a443e9069478bb7a65f8de073cfb4": {
          "model_module": "@jupyter-widgets/controls",
          "model_name": "HBoxModel",
          "model_module_version": "1.5.0",
          "state": {
            "_dom_classes": [],
            "_model_module": "@jupyter-widgets/controls",
            "_model_module_version": "1.5.0",
            "_model_name": "HBoxModel",
            "_view_count": null,
            "_view_module": "@jupyter-widgets/controls",
            "_view_module_version": "1.5.0",
            "_view_name": "HBoxView",
            "box_style": "",
            "children": [
              "IPY_MODEL_ba9a7284f25d44f9b079865991d51d37",
              "IPY_MODEL_cf1bcf7da376478ca02154aa9be4ecdd",
              "IPY_MODEL_b1663b66d79a40cb9520511ce941b41f"
            ],
            "layout": "IPY_MODEL_c08314a33ea54d49817f65e5af43cec5"
          }
        },
        "ba9a7284f25d44f9b079865991d51d37": {
          "model_module": "@jupyter-widgets/controls",
          "model_name": "HTMLModel",
          "model_module_version": "1.5.0",
          "state": {
            "_dom_classes": [],
            "_model_module": "@jupyter-widgets/controls",
            "_model_module_version": "1.5.0",
            "_model_name": "HTMLModel",
            "_view_count": null,
            "_view_module": "@jupyter-widgets/controls",
            "_view_module_version": "1.5.0",
            "_view_name": "HTMLView",
            "description": "",
            "description_tooltip": null,
            "layout": "IPY_MODEL_0ff3d34ae44a4e408122c48f85e16842",
            "placeholder": "​",
            "style": "IPY_MODEL_1996a14509774269a933a1877f1d21df",
            "value": "Predicting: 100%"
          }
        },
        "cf1bcf7da376478ca02154aa9be4ecdd": {
          "model_module": "@jupyter-widgets/controls",
          "model_name": "FloatProgressModel",
          "model_module_version": "1.5.0",
          "state": {
            "_dom_classes": [],
            "_model_module": "@jupyter-widgets/controls",
            "_model_module_version": "1.5.0",
            "_model_name": "FloatProgressModel",
            "_view_count": null,
            "_view_module": "@jupyter-widgets/controls",
            "_view_module_version": "1.5.0",
            "_view_name": "ProgressView",
            "bar_style": "success",
            "description": "",
            "description_tooltip": null,
            "layout": "IPY_MODEL_0453844d299a4f06a31c49a4214768a9",
            "max": 25377,
            "min": 0,
            "orientation": "horizontal",
            "style": "IPY_MODEL_9718e369c6094fa085078d3e40ecb89f",
            "value": 25377
          }
        },
        "b1663b66d79a40cb9520511ce941b41f": {
          "model_module": "@jupyter-widgets/controls",
          "model_name": "HTMLModel",
          "model_module_version": "1.5.0",
          "state": {
            "_dom_classes": [],
            "_model_module": "@jupyter-widgets/controls",
            "_model_module_version": "1.5.0",
            "_model_name": "HTMLModel",
            "_view_count": null,
            "_view_module": "@jupyter-widgets/controls",
            "_view_module_version": "1.5.0",
            "_view_name": "HTMLView",
            "description": "",
            "description_tooltip": null,
            "layout": "IPY_MODEL_454b9f73d166449489aec91a735145e4",
            "placeholder": "​",
            "style": "IPY_MODEL_e2c430bc0a7a4ced889a357880f922e2",
            "value": " 25377/25377 [1:58:29&lt;00:00,  3.35sentence/s, filename=all_test_mbert_predictions.txt]"
          }
        },
        "c08314a33ea54d49817f65e5af43cec5": {
          "model_module": "@jupyter-widgets/base",
          "model_name": "LayoutModel",
          "model_module_version": "1.2.0",
          "state": {
            "_model_module": "@jupyter-widgets/base",
            "_model_module_version": "1.2.0",
            "_model_name": "LayoutModel",
            "_view_count": null,
            "_view_module": "@jupyter-widgets/base",
            "_view_module_version": "1.2.0",
            "_view_name": "LayoutView",
            "align_content": null,
            "align_items": null,
            "align_self": null,
            "border": null,
            "bottom": null,
            "display": null,
            "flex": null,
            "flex_flow": null,
            "grid_area": null,
            "grid_auto_columns": null,
            "grid_auto_flow": null,
            "grid_auto_rows": null,
            "grid_column": null,
            "grid_gap": null,
            "grid_row": null,
            "grid_template_areas": null,
            "grid_template_columns": null,
            "grid_template_rows": null,
            "height": null,
            "justify_content": null,
            "justify_items": null,
            "left": null,
            "margin": null,
            "max_height": null,
            "max_width": null,
            "min_height": null,
            "min_width": null,
            "object_fit": null,
            "object_position": null,
            "order": null,
            "overflow": null,
            "overflow_x": null,
            "overflow_y": null,
            "padding": null,
            "right": null,
            "top": null,
            "visibility": null,
            "width": null
          }
        },
        "0ff3d34ae44a4e408122c48f85e16842": {
          "model_module": "@jupyter-widgets/base",
          "model_name": "LayoutModel",
          "model_module_version": "1.2.0",
          "state": {
            "_model_module": "@jupyter-widgets/base",
            "_model_module_version": "1.2.0",
            "_model_name": "LayoutModel",
            "_view_count": null,
            "_view_module": "@jupyter-widgets/base",
            "_view_module_version": "1.2.0",
            "_view_name": "LayoutView",
            "align_content": null,
            "align_items": null,
            "align_self": null,
            "border": null,
            "bottom": null,
            "display": null,
            "flex": null,
            "flex_flow": null,
            "grid_area": null,
            "grid_auto_columns": null,
            "grid_auto_flow": null,
            "grid_auto_rows": null,
            "grid_column": null,
            "grid_gap": null,
            "grid_row": null,
            "grid_template_areas": null,
            "grid_template_columns": null,
            "grid_template_rows": null,
            "height": null,
            "justify_content": null,
            "justify_items": null,
            "left": null,
            "margin": null,
            "max_height": null,
            "max_width": null,
            "min_height": null,
            "min_width": null,
            "object_fit": null,
            "object_position": null,
            "order": null,
            "overflow": null,
            "overflow_x": null,
            "overflow_y": null,
            "padding": null,
            "right": null,
            "top": null,
            "visibility": null,
            "width": null
          }
        },
        "1996a14509774269a933a1877f1d21df": {
          "model_module": "@jupyter-widgets/controls",
          "model_name": "DescriptionStyleModel",
          "model_module_version": "1.5.0",
          "state": {
            "_model_module": "@jupyter-widgets/controls",
            "_model_module_version": "1.5.0",
            "_model_name": "DescriptionStyleModel",
            "_view_count": null,
            "_view_module": "@jupyter-widgets/base",
            "_view_module_version": "1.2.0",
            "_view_name": "StyleView",
            "description_width": ""
          }
        },
        "0453844d299a4f06a31c49a4214768a9": {
          "model_module": "@jupyter-widgets/base",
          "model_name": "LayoutModel",
          "model_module_version": "1.2.0",
          "state": {
            "_model_module": "@jupyter-widgets/base",
            "_model_module_version": "1.2.0",
            "_model_name": "LayoutModel",
            "_view_count": null,
            "_view_module": "@jupyter-widgets/base",
            "_view_module_version": "1.2.0",
            "_view_name": "LayoutView",
            "align_content": null,
            "align_items": null,
            "align_self": null,
            "border": null,
            "bottom": null,
            "display": null,
            "flex": null,
            "flex_flow": null,
            "grid_area": null,
            "grid_auto_columns": null,
            "grid_auto_flow": null,
            "grid_auto_rows": null,
            "grid_column": null,
            "grid_gap": null,
            "grid_row": null,
            "grid_template_areas": null,
            "grid_template_columns": null,
            "grid_template_rows": null,
            "height": null,
            "justify_content": null,
            "justify_items": null,
            "left": null,
            "margin": null,
            "max_height": null,
            "max_width": null,
            "min_height": null,
            "min_width": null,
            "object_fit": null,
            "object_position": null,
            "order": null,
            "overflow": null,
            "overflow_x": null,
            "overflow_y": null,
            "padding": null,
            "right": null,
            "top": null,
            "visibility": null,
            "width": null
          }
        },
        "9718e369c6094fa085078d3e40ecb89f": {
          "model_module": "@jupyter-widgets/controls",
          "model_name": "ProgressStyleModel",
          "model_module_version": "1.5.0",
          "state": {
            "_model_module": "@jupyter-widgets/controls",
            "_model_module_version": "1.5.0",
            "_model_name": "ProgressStyleModel",
            "_view_count": null,
            "_view_module": "@jupyter-widgets/base",
            "_view_module_version": "1.2.0",
            "_view_name": "StyleView",
            "bar_color": null,
            "description_width": ""
          }
        },
        "454b9f73d166449489aec91a735145e4": {
          "model_module": "@jupyter-widgets/base",
          "model_name": "LayoutModel",
          "model_module_version": "1.2.0",
          "state": {
            "_model_module": "@jupyter-widgets/base",
            "_model_module_version": "1.2.0",
            "_model_name": "LayoutModel",
            "_view_count": null,
            "_view_module": "@jupyter-widgets/base",
            "_view_module_version": "1.2.0",
            "_view_name": "LayoutView",
            "align_content": null,
            "align_items": null,
            "align_self": null,
            "border": null,
            "bottom": null,
            "display": null,
            "flex": null,
            "flex_flow": null,
            "grid_area": null,
            "grid_auto_columns": null,
            "grid_auto_flow": null,
            "grid_auto_rows": null,
            "grid_column": null,
            "grid_gap": null,
            "grid_row": null,
            "grid_template_areas": null,
            "grid_template_columns": null,
            "grid_template_rows": null,
            "height": null,
            "justify_content": null,
            "justify_items": null,
            "left": null,
            "margin": null,
            "max_height": null,
            "max_width": null,
            "min_height": null,
            "min_width": null,
            "object_fit": null,
            "object_position": null,
            "order": null,
            "overflow": null,
            "overflow_x": null,
            "overflow_y": null,
            "padding": null,
            "right": null,
            "top": null,
            "visibility": null,
            "width": null
          }
        },
        "e2c430bc0a7a4ced889a357880f922e2": {
          "model_module": "@jupyter-widgets/controls",
          "model_name": "DescriptionStyleModel",
          "model_module_version": "1.5.0",
          "state": {
            "_model_module": "@jupyter-widgets/controls",
            "_model_module_version": "1.5.0",
            "_model_name": "DescriptionStyleModel",
            "_view_count": null,
            "_view_module": "@jupyter-widgets/base",
            "_view_module_version": "1.2.0",
            "_view_name": "StyleView",
            "description_width": ""
          }
        },
        "da5dbd90244a4e3bb36972ab8eeb20d7": {
          "model_module": "@jupyter-widgets/controls",
          "model_name": "VBoxModel",
          "model_module_version": "1.5.0",
          "state": {
            "_dom_classes": [
              "widget-interact"
            ],
            "_model_module": "@jupyter-widgets/controls",
            "_model_module_version": "1.5.0",
            "_model_name": "VBoxModel",
            "_view_count": null,
            "_view_module": "@jupyter-widgets/controls",
            "_view_module_version": "1.5.0",
            "_view_name": "VBoxView",
            "box_style": "",
            "children": [
              "IPY_MODEL_97a83220ae184cddb275f87a8c7fca08",
              "IPY_MODEL_d95bf631ecd143a7bbcff66bd77a9788"
            ],
            "layout": "IPY_MODEL_88549bf1819141eaa259a7631398b651"
          }
        },
        "97a83220ae184cddb275f87a8c7fca08": {
          "model_module": "@jupyter-widgets/controls",
          "model_name": "ButtonModel",
          "model_module_version": "1.5.0",
          "state": {
            "_dom_classes": [],
            "_model_module": "@jupyter-widgets/controls",
            "_model_module_version": "1.5.0",
            "_model_name": "ButtonModel",
            "_view_count": null,
            "_view_module": "@jupyter-widgets/controls",
            "_view_module_version": "1.5.0",
            "_view_name": "ButtonView",
            "button_style": "",
            "description": "Regenerate",
            "disabled": false,
            "icon": "",
            "layout": "IPY_MODEL_78284e1c4b554d9e8c980b46eee8e54b",
            "style": "IPY_MODEL_553b10cbd00043d792e3fbcaebe88e7c",
            "tooltip": ""
          }
        },
        "d95bf631ecd143a7bbcff66bd77a9788": {
          "model_module": "@jupyter-widgets/output",
          "model_name": "OutputModel",
          "model_module_version": "1.0.0",
          "state": {
            "_dom_classes": [],
            "_model_module": "@jupyter-widgets/output",
            "_model_module_version": "1.0.0",
            "_model_name": "OutputModel",
            "_view_count": null,
            "_view_module": "@jupyter-widgets/output",
            "_view_module_version": "1.0.0",
            "_view_name": "OutputView",
            "layout": "IPY_MODEL_a31d6fe9248d4aa099ecd730b7937bdf",
            "msg_id": "",
            "outputs": []
          }
        },
        "88549bf1819141eaa259a7631398b651": {
          "model_module": "@jupyter-widgets/base",
          "model_name": "LayoutModel",
          "model_module_version": "1.2.0",
          "state": {
            "_model_module": "@jupyter-widgets/base",
            "_model_module_version": "1.2.0",
            "_model_name": "LayoutModel",
            "_view_count": null,
            "_view_module": "@jupyter-widgets/base",
            "_view_module_version": "1.2.0",
            "_view_name": "LayoutView",
            "align_content": null,
            "align_items": null,
            "align_self": null,
            "border": null,
            "bottom": null,
            "display": null,
            "flex": null,
            "flex_flow": null,
            "grid_area": null,
            "grid_auto_columns": null,
            "grid_auto_flow": null,
            "grid_auto_rows": null,
            "grid_column": null,
            "grid_gap": null,
            "grid_row": null,
            "grid_template_areas": null,
            "grid_template_columns": null,
            "grid_template_rows": null,
            "height": null,
            "justify_content": null,
            "justify_items": null,
            "left": null,
            "margin": null,
            "max_height": null,
            "max_width": null,
            "min_height": null,
            "min_width": null,
            "object_fit": null,
            "object_position": null,
            "order": null,
            "overflow": null,
            "overflow_x": null,
            "overflow_y": null,
            "padding": null,
            "right": null,
            "top": null,
            "visibility": null,
            "width": null
          }
        },
        "78284e1c4b554d9e8c980b46eee8e54b": {
          "model_module": "@jupyter-widgets/base",
          "model_name": "LayoutModel",
          "model_module_version": "1.2.0",
          "state": {
            "_model_module": "@jupyter-widgets/base",
            "_model_module_version": "1.2.0",
            "_model_name": "LayoutModel",
            "_view_count": null,
            "_view_module": "@jupyter-widgets/base",
            "_view_module_version": "1.2.0",
            "_view_name": "LayoutView",
            "align_content": null,
            "align_items": null,
            "align_self": null,
            "border": null,
            "bottom": null,
            "display": null,
            "flex": null,
            "flex_flow": null,
            "grid_area": null,
            "grid_auto_columns": null,
            "grid_auto_flow": null,
            "grid_auto_rows": null,
            "grid_column": null,
            "grid_gap": null,
            "grid_row": null,
            "grid_template_areas": null,
            "grid_template_columns": null,
            "grid_template_rows": null,
            "height": null,
            "justify_content": null,
            "justify_items": null,
            "left": null,
            "margin": null,
            "max_height": null,
            "max_width": null,
            "min_height": null,
            "min_width": null,
            "object_fit": null,
            "object_position": null,
            "order": null,
            "overflow": null,
            "overflow_x": null,
            "overflow_y": null,
            "padding": null,
            "right": null,
            "top": null,
            "visibility": null,
            "width": null
          }
        },
        "553b10cbd00043d792e3fbcaebe88e7c": {
          "model_module": "@jupyter-widgets/controls",
          "model_name": "ButtonStyleModel",
          "model_module_version": "1.5.0",
          "state": {
            "_model_module": "@jupyter-widgets/controls",
            "_model_module_version": "1.5.0",
            "_model_name": "ButtonStyleModel",
            "_view_count": null,
            "_view_module": "@jupyter-widgets/base",
            "_view_module_version": "1.2.0",
            "_view_name": "StyleView",
            "button_color": null,
            "font_weight": ""
          }
        },
        "a31d6fe9248d4aa099ecd730b7937bdf": {
          "model_module": "@jupyter-widgets/base",
          "model_name": "LayoutModel",
          "model_module_version": "1.2.0",
          "state": {
            "_model_module": "@jupyter-widgets/base",
            "_model_module_version": "1.2.0",
            "_model_name": "LayoutModel",
            "_view_count": null,
            "_view_module": "@jupyter-widgets/base",
            "_view_module_version": "1.2.0",
            "_view_name": "LayoutView",
            "align_content": null,
            "align_items": null,
            "align_self": null,
            "border": null,
            "bottom": null,
            "display": null,
            "flex": null,
            "flex_flow": null,
            "grid_area": null,
            "grid_auto_columns": null,
            "grid_auto_flow": null,
            "grid_auto_rows": null,
            "grid_column": null,
            "grid_gap": null,
            "grid_row": null,
            "grid_template_areas": null,
            "grid_template_columns": null,
            "grid_template_rows": null,
            "height": null,
            "justify_content": null,
            "justify_items": null,
            "left": null,
            "margin": null,
            "max_height": null,
            "max_width": null,
            "min_height": null,
            "min_width": null,
            "object_fit": null,
            "object_position": null,
            "order": null,
            "overflow": null,
            "overflow_x": null,
            "overflow_y": null,
            "padding": null,
            "right": null,
            "top": null,
            "visibility": null,
            "width": null
          }
        },
        "58cb42c254d7451ab59356348b734262": {
          "model_module": "@jupyter-widgets/controls",
          "model_name": "HBoxModel",
          "model_module_version": "1.5.0",
          "state": {
            "_dom_classes": [],
            "_model_module": "@jupyter-widgets/controls",
            "_model_module_version": "1.5.0",
            "_model_name": "HBoxModel",
            "_view_count": null,
            "_view_module": "@jupyter-widgets/controls",
            "_view_module_version": "1.5.0",
            "_view_name": "HBoxView",
            "box_style": "",
            "children": [
              "IPY_MODEL_83ec1c67d59e4a94bbd83f98690bf984",
              "IPY_MODEL_3b48bab24ef84b248a3eba0c8584bf10",
              "IPY_MODEL_d515398adb1646e9ac35bc6a943bcbeb"
            ],
            "layout": "IPY_MODEL_1c6fcff7a2aa460c96cf6d8e3c8ee809"
          }
        },
        "83ec1c67d59e4a94bbd83f98690bf984": {
          "model_module": "@jupyter-widgets/controls",
          "model_name": "HTMLModel",
          "model_module_version": "1.5.0",
          "state": {
            "_dom_classes": [],
            "_model_module": "@jupyter-widgets/controls",
            "_model_module_version": "1.5.0",
            "_model_name": "HTMLModel",
            "_view_count": null,
            "_view_module": "@jupyter-widgets/controls",
            "_view_module_version": "1.5.0",
            "_view_name": "HTMLView",
            "description": "",
            "description_tooltip": null,
            "layout": "IPY_MODEL_183ff9d5e6d54ba988f496064d48bad2",
            "placeholder": "​",
            "style": "IPY_MODEL_a25a5421230045989f227287042b5b30",
            "value": "config.json: 100%"
          }
        },
        "3b48bab24ef84b248a3eba0c8584bf10": {
          "model_module": "@jupyter-widgets/controls",
          "model_name": "FloatProgressModel",
          "model_module_version": "1.5.0",
          "state": {
            "_dom_classes": [],
            "_model_module": "@jupyter-widgets/controls",
            "_model_module_version": "1.5.0",
            "_model_name": "FloatProgressModel",
            "_view_count": null,
            "_view_module": "@jupyter-widgets/controls",
            "_view_module_version": "1.5.0",
            "_view_name": "ProgressView",
            "bar_style": "success",
            "description": "",
            "description_tooltip": null,
            "layout": "IPY_MODEL_9afa8ef5e5bd4f04b4b94856d2dc4778",
            "max": 583,
            "min": 0,
            "orientation": "horizontal",
            "style": "IPY_MODEL_4551b5aa46f84c0386d1243b7044788b",
            "value": 583
          }
        },
        "d515398adb1646e9ac35bc6a943bcbeb": {
          "model_module": "@jupyter-widgets/controls",
          "model_name": "HTMLModel",
          "model_module_version": "1.5.0",
          "state": {
            "_dom_classes": [],
            "_model_module": "@jupyter-widgets/controls",
            "_model_module_version": "1.5.0",
            "_model_name": "HTMLModel",
            "_view_count": null,
            "_view_module": "@jupyter-widgets/controls",
            "_view_module_version": "1.5.0",
            "_view_name": "HTMLView",
            "description": "",
            "description_tooltip": null,
            "layout": "IPY_MODEL_bd7060ebef484286b604a491f26ad92c",
            "placeholder": "​",
            "style": "IPY_MODEL_7bf421808c2d4a75b890a3ea59c2b93f",
            "value": " 583/583 [00:00&lt;00:00, 41.2kB/s]"
          }
        },
        "1c6fcff7a2aa460c96cf6d8e3c8ee809": {
          "model_module": "@jupyter-widgets/base",
          "model_name": "LayoutModel",
          "model_module_version": "1.2.0",
          "state": {
            "_model_module": "@jupyter-widgets/base",
            "_model_module_version": "1.2.0",
            "_model_name": "LayoutModel",
            "_view_count": null,
            "_view_module": "@jupyter-widgets/base",
            "_view_module_version": "1.2.0",
            "_view_name": "LayoutView",
            "align_content": null,
            "align_items": null,
            "align_self": null,
            "border": null,
            "bottom": null,
            "display": null,
            "flex": null,
            "flex_flow": null,
            "grid_area": null,
            "grid_auto_columns": null,
            "grid_auto_flow": null,
            "grid_auto_rows": null,
            "grid_column": null,
            "grid_gap": null,
            "grid_row": null,
            "grid_template_areas": null,
            "grid_template_columns": null,
            "grid_template_rows": null,
            "height": null,
            "justify_content": null,
            "justify_items": null,
            "left": null,
            "margin": null,
            "max_height": null,
            "max_width": null,
            "min_height": null,
            "min_width": null,
            "object_fit": null,
            "object_position": null,
            "order": null,
            "overflow": null,
            "overflow_x": null,
            "overflow_y": null,
            "padding": null,
            "right": null,
            "top": null,
            "visibility": null,
            "width": null
          }
        },
        "183ff9d5e6d54ba988f496064d48bad2": {
          "model_module": "@jupyter-widgets/base",
          "model_name": "LayoutModel",
          "model_module_version": "1.2.0",
          "state": {
            "_model_module": "@jupyter-widgets/base",
            "_model_module_version": "1.2.0",
            "_model_name": "LayoutModel",
            "_view_count": null,
            "_view_module": "@jupyter-widgets/base",
            "_view_module_version": "1.2.0",
            "_view_name": "LayoutView",
            "align_content": null,
            "align_items": null,
            "align_self": null,
            "border": null,
            "bottom": null,
            "display": null,
            "flex": null,
            "flex_flow": null,
            "grid_area": null,
            "grid_auto_columns": null,
            "grid_auto_flow": null,
            "grid_auto_rows": null,
            "grid_column": null,
            "grid_gap": null,
            "grid_row": null,
            "grid_template_areas": null,
            "grid_template_columns": null,
            "grid_template_rows": null,
            "height": null,
            "justify_content": null,
            "justify_items": null,
            "left": null,
            "margin": null,
            "max_height": null,
            "max_width": null,
            "min_height": null,
            "min_width": null,
            "object_fit": null,
            "object_position": null,
            "order": null,
            "overflow": null,
            "overflow_x": null,
            "overflow_y": null,
            "padding": null,
            "right": null,
            "top": null,
            "visibility": null,
            "width": null
          }
        },
        "a25a5421230045989f227287042b5b30": {
          "model_module": "@jupyter-widgets/controls",
          "model_name": "DescriptionStyleModel",
          "model_module_version": "1.5.0",
          "state": {
            "_model_module": "@jupyter-widgets/controls",
            "_model_module_version": "1.5.0",
            "_model_name": "DescriptionStyleModel",
            "_view_count": null,
            "_view_module": "@jupyter-widgets/base",
            "_view_module_version": "1.2.0",
            "_view_name": "StyleView",
            "description_width": ""
          }
        },
        "9afa8ef5e5bd4f04b4b94856d2dc4778": {
          "model_module": "@jupyter-widgets/base",
          "model_name": "LayoutModel",
          "model_module_version": "1.2.0",
          "state": {
            "_model_module": "@jupyter-widgets/base",
            "_model_module_version": "1.2.0",
            "_model_name": "LayoutModel",
            "_view_count": null,
            "_view_module": "@jupyter-widgets/base",
            "_view_module_version": "1.2.0",
            "_view_name": "LayoutView",
            "align_content": null,
            "align_items": null,
            "align_self": null,
            "border": null,
            "bottom": null,
            "display": null,
            "flex": null,
            "flex_flow": null,
            "grid_area": null,
            "grid_auto_columns": null,
            "grid_auto_flow": null,
            "grid_auto_rows": null,
            "grid_column": null,
            "grid_gap": null,
            "grid_row": null,
            "grid_template_areas": null,
            "grid_template_columns": null,
            "grid_template_rows": null,
            "height": null,
            "justify_content": null,
            "justify_items": null,
            "left": null,
            "margin": null,
            "max_height": null,
            "max_width": null,
            "min_height": null,
            "min_width": null,
            "object_fit": null,
            "object_position": null,
            "order": null,
            "overflow": null,
            "overflow_x": null,
            "overflow_y": null,
            "padding": null,
            "right": null,
            "top": null,
            "visibility": null,
            "width": null
          }
        },
        "4551b5aa46f84c0386d1243b7044788b": {
          "model_module": "@jupyter-widgets/controls",
          "model_name": "ProgressStyleModel",
          "model_module_version": "1.5.0",
          "state": {
            "_model_module": "@jupyter-widgets/controls",
            "_model_module_version": "1.5.0",
            "_model_name": "ProgressStyleModel",
            "_view_count": null,
            "_view_module": "@jupyter-widgets/base",
            "_view_module_version": "1.2.0",
            "_view_name": "StyleView",
            "bar_color": null,
            "description_width": ""
          }
        },
        "bd7060ebef484286b604a491f26ad92c": {
          "model_module": "@jupyter-widgets/base",
          "model_name": "LayoutModel",
          "model_module_version": "1.2.0",
          "state": {
            "_model_module": "@jupyter-widgets/base",
            "_model_module_version": "1.2.0",
            "_model_name": "LayoutModel",
            "_view_count": null,
            "_view_module": "@jupyter-widgets/base",
            "_view_module_version": "1.2.0",
            "_view_name": "LayoutView",
            "align_content": null,
            "align_items": null,
            "align_self": null,
            "border": null,
            "bottom": null,
            "display": null,
            "flex": null,
            "flex_flow": null,
            "grid_area": null,
            "grid_auto_columns": null,
            "grid_auto_flow": null,
            "grid_auto_rows": null,
            "grid_column": null,
            "grid_gap": null,
            "grid_row": null,
            "grid_template_areas": null,
            "grid_template_columns": null,
            "grid_template_rows": null,
            "height": null,
            "justify_content": null,
            "justify_items": null,
            "left": null,
            "margin": null,
            "max_height": null,
            "max_width": null,
            "min_height": null,
            "min_width": null,
            "object_fit": null,
            "object_position": null,
            "order": null,
            "overflow": null,
            "overflow_x": null,
            "overflow_y": null,
            "padding": null,
            "right": null,
            "top": null,
            "visibility": null,
            "width": null
          }
        },
        "7bf421808c2d4a75b890a3ea59c2b93f": {
          "model_module": "@jupyter-widgets/controls",
          "model_name": "DescriptionStyleModel",
          "model_module_version": "1.5.0",
          "state": {
            "_model_module": "@jupyter-widgets/controls",
            "_model_module_version": "1.5.0",
            "_model_name": "DescriptionStyleModel",
            "_view_count": null,
            "_view_module": "@jupyter-widgets/base",
            "_view_module_version": "1.2.0",
            "_view_name": "StyleView",
            "description_width": ""
          }
        },
        "ae4e0a8b939249e9970bf8b7945c2cd4": {
          "model_module": "@jupyter-widgets/controls",
          "model_name": "HBoxModel",
          "model_module_version": "1.5.0",
          "state": {
            "_dom_classes": [],
            "_model_module": "@jupyter-widgets/controls",
            "_model_module_version": "1.5.0",
            "_model_name": "HBoxModel",
            "_view_count": null,
            "_view_module": "@jupyter-widgets/controls",
            "_view_module_version": "1.5.0",
            "_view_name": "HBoxView",
            "box_style": "",
            "children": [
              "IPY_MODEL_a5ad20ea0cc142b1aa438305e0cda7a6",
              "IPY_MODEL_0265a43fd6ce4d7dbfa5c35ff63f5d07",
              "IPY_MODEL_f909e401e6874246afbe04c52a0b4d8d"
            ],
            "layout": "IPY_MODEL_39e9919ebef74947b3af1fe0fdda8b51"
          }
        },
        "a5ad20ea0cc142b1aa438305e0cda7a6": {
          "model_module": "@jupyter-widgets/controls",
          "model_name": "HTMLModel",
          "model_module_version": "1.5.0",
          "state": {
            "_dom_classes": [],
            "_model_module": "@jupyter-widgets/controls",
            "_model_module_version": "1.5.0",
            "_model_name": "HTMLModel",
            "_view_count": null,
            "_view_module": "@jupyter-widgets/controls",
            "_view_module_version": "1.5.0",
            "_view_name": "HTMLView",
            "description": "",
            "description_tooltip": null,
            "layout": "IPY_MODEL_10577ac8d82d46ab8d2d85a5817ac797",
            "placeholder": "​",
            "style": "IPY_MODEL_3b30b60c911e48cfb4191587cb802be1",
            "value": "pytorch_model.bin: 100%"
          }
        },
        "0265a43fd6ce4d7dbfa5c35ff63f5d07": {
          "model_module": "@jupyter-widgets/controls",
          "model_name": "FloatProgressModel",
          "model_module_version": "1.5.0",
          "state": {
            "_dom_classes": [],
            "_model_module": "@jupyter-widgets/controls",
            "_model_module_version": "1.5.0",
            "_model_name": "FloatProgressModel",
            "_view_count": null,
            "_view_module": "@jupyter-widgets/controls",
            "_view_module_version": "1.5.0",
            "_view_name": "ProgressView",
            "bar_style": "success",
            "description": "",
            "description_tooltip": null,
            "layout": "IPY_MODEL_16a128fdb95c42dca2da47c2c6574f87",
            "max": 5169268,
            "min": 0,
            "orientation": "horizontal",
            "style": "IPY_MODEL_1742a48122ea45c59515bb4a17c4fa70",
            "value": 5169268
          }
        },
        "f909e401e6874246afbe04c52a0b4d8d": {
          "model_module": "@jupyter-widgets/controls",
          "model_name": "HTMLModel",
          "model_module_version": "1.5.0",
          "state": {
            "_dom_classes": [],
            "_model_module": "@jupyter-widgets/controls",
            "_model_module_version": "1.5.0",
            "_model_name": "HTMLModel",
            "_view_count": null,
            "_view_module": "@jupyter-widgets/controls",
            "_view_module_version": "1.5.0",
            "_view_name": "HTMLView",
            "description": "",
            "description_tooltip": null,
            "layout": "IPY_MODEL_dbd2f5f2c6d14cfcafe2d2a69699b5e4",
            "placeholder": "​",
            "style": "IPY_MODEL_a80172dca60e4437aa6fcce6e0e322ad",
            "value": " 5.17M/5.17M [00:01&lt;00:00, 2.99MB/s]"
          }
        },
        "39e9919ebef74947b3af1fe0fdda8b51": {
          "model_module": "@jupyter-widgets/base",
          "model_name": "LayoutModel",
          "model_module_version": "1.2.0",
          "state": {
            "_model_module": "@jupyter-widgets/base",
            "_model_module_version": "1.2.0",
            "_model_name": "LayoutModel",
            "_view_count": null,
            "_view_module": "@jupyter-widgets/base",
            "_view_module_version": "1.2.0",
            "_view_name": "LayoutView",
            "align_content": null,
            "align_items": null,
            "align_self": null,
            "border": null,
            "bottom": null,
            "display": null,
            "flex": null,
            "flex_flow": null,
            "grid_area": null,
            "grid_auto_columns": null,
            "grid_auto_flow": null,
            "grid_auto_rows": null,
            "grid_column": null,
            "grid_gap": null,
            "grid_row": null,
            "grid_template_areas": null,
            "grid_template_columns": null,
            "grid_template_rows": null,
            "height": null,
            "justify_content": null,
            "justify_items": null,
            "left": null,
            "margin": null,
            "max_height": null,
            "max_width": null,
            "min_height": null,
            "min_width": null,
            "object_fit": null,
            "object_position": null,
            "order": null,
            "overflow": null,
            "overflow_x": null,
            "overflow_y": null,
            "padding": null,
            "right": null,
            "top": null,
            "visibility": null,
            "width": null
          }
        },
        "10577ac8d82d46ab8d2d85a5817ac797": {
          "model_module": "@jupyter-widgets/base",
          "model_name": "LayoutModel",
          "model_module_version": "1.2.0",
          "state": {
            "_model_module": "@jupyter-widgets/base",
            "_model_module_version": "1.2.0",
            "_model_name": "LayoutModel",
            "_view_count": null,
            "_view_module": "@jupyter-widgets/base",
            "_view_module_version": "1.2.0",
            "_view_name": "LayoutView",
            "align_content": null,
            "align_items": null,
            "align_self": null,
            "border": null,
            "bottom": null,
            "display": null,
            "flex": null,
            "flex_flow": null,
            "grid_area": null,
            "grid_auto_columns": null,
            "grid_auto_flow": null,
            "grid_auto_rows": null,
            "grid_column": null,
            "grid_gap": null,
            "grid_row": null,
            "grid_template_areas": null,
            "grid_template_columns": null,
            "grid_template_rows": null,
            "height": null,
            "justify_content": null,
            "justify_items": null,
            "left": null,
            "margin": null,
            "max_height": null,
            "max_width": null,
            "min_height": null,
            "min_width": null,
            "object_fit": null,
            "object_position": null,
            "order": null,
            "overflow": null,
            "overflow_x": null,
            "overflow_y": null,
            "padding": null,
            "right": null,
            "top": null,
            "visibility": null,
            "width": null
          }
        },
        "3b30b60c911e48cfb4191587cb802be1": {
          "model_module": "@jupyter-widgets/controls",
          "model_name": "DescriptionStyleModel",
          "model_module_version": "1.5.0",
          "state": {
            "_model_module": "@jupyter-widgets/controls",
            "_model_module_version": "1.5.0",
            "_model_name": "DescriptionStyleModel",
            "_view_count": null,
            "_view_module": "@jupyter-widgets/base",
            "_view_module_version": "1.2.0",
            "_view_name": "StyleView",
            "description_width": ""
          }
        },
        "16a128fdb95c42dca2da47c2c6574f87": {
          "model_module": "@jupyter-widgets/base",
          "model_name": "LayoutModel",
          "model_module_version": "1.2.0",
          "state": {
            "_model_module": "@jupyter-widgets/base",
            "_model_module_version": "1.2.0",
            "_model_name": "LayoutModel",
            "_view_count": null,
            "_view_module": "@jupyter-widgets/base",
            "_view_module_version": "1.2.0",
            "_view_name": "LayoutView",
            "align_content": null,
            "align_items": null,
            "align_self": null,
            "border": null,
            "bottom": null,
            "display": null,
            "flex": null,
            "flex_flow": null,
            "grid_area": null,
            "grid_auto_columns": null,
            "grid_auto_flow": null,
            "grid_auto_rows": null,
            "grid_column": null,
            "grid_gap": null,
            "grid_row": null,
            "grid_template_areas": null,
            "grid_template_columns": null,
            "grid_template_rows": null,
            "height": null,
            "justify_content": null,
            "justify_items": null,
            "left": null,
            "margin": null,
            "max_height": null,
            "max_width": null,
            "min_height": null,
            "min_width": null,
            "object_fit": null,
            "object_position": null,
            "order": null,
            "overflow": null,
            "overflow_x": null,
            "overflow_y": null,
            "padding": null,
            "right": null,
            "top": null,
            "visibility": null,
            "width": null
          }
        },
        "1742a48122ea45c59515bb4a17c4fa70": {
          "model_module": "@jupyter-widgets/controls",
          "model_name": "ProgressStyleModel",
          "model_module_version": "1.5.0",
          "state": {
            "_model_module": "@jupyter-widgets/controls",
            "_model_module_version": "1.5.0",
            "_model_name": "ProgressStyleModel",
            "_view_count": null,
            "_view_module": "@jupyter-widgets/base",
            "_view_module_version": "1.2.0",
            "_view_name": "StyleView",
            "bar_color": null,
            "description_width": ""
          }
        },
        "dbd2f5f2c6d14cfcafe2d2a69699b5e4": {
          "model_module": "@jupyter-widgets/base",
          "model_name": "LayoutModel",
          "model_module_version": "1.2.0",
          "state": {
            "_model_module": "@jupyter-widgets/base",
            "_model_module_version": "1.2.0",
            "_model_name": "LayoutModel",
            "_view_count": null,
            "_view_module": "@jupyter-widgets/base",
            "_view_module_version": "1.2.0",
            "_view_name": "LayoutView",
            "align_content": null,
            "align_items": null,
            "align_self": null,
            "border": null,
            "bottom": null,
            "display": null,
            "flex": null,
            "flex_flow": null,
            "grid_area": null,
            "grid_auto_columns": null,
            "grid_auto_flow": null,
            "grid_auto_rows": null,
            "grid_column": null,
            "grid_gap": null,
            "grid_row": null,
            "grid_template_areas": null,
            "grid_template_columns": null,
            "grid_template_rows": null,
            "height": null,
            "justify_content": null,
            "justify_items": null,
            "left": null,
            "margin": null,
            "max_height": null,
            "max_width": null,
            "min_height": null,
            "min_width": null,
            "object_fit": null,
            "object_position": null,
            "order": null,
            "overflow": null,
            "overflow_x": null,
            "overflow_y": null,
            "padding": null,
            "right": null,
            "top": null,
            "visibility": null,
            "width": null
          }
        },
        "a80172dca60e4437aa6fcce6e0e322ad": {
          "model_module": "@jupyter-widgets/controls",
          "model_name": "DescriptionStyleModel",
          "model_module_version": "1.5.0",
          "state": {
            "_model_module": "@jupyter-widgets/controls",
            "_model_module_version": "1.5.0",
            "_model_name": "DescriptionStyleModel",
            "_view_count": null,
            "_view_module": "@jupyter-widgets/base",
            "_view_module_version": "1.2.0",
            "_view_name": "StyleView",
            "description_width": ""
          }
        },
        "8e958412c4c846de994aec5c352255d0": {
          "model_module": "@jupyter-widgets/controls",
          "model_name": "HBoxModel",
          "model_module_version": "1.5.0",
          "state": {
            "_dom_classes": [],
            "_model_module": "@jupyter-widgets/controls",
            "_model_module_version": "1.5.0",
            "_model_name": "HBoxModel",
            "_view_count": null,
            "_view_module": "@jupyter-widgets/controls",
            "_view_module_version": "1.5.0",
            "_view_name": "HBoxView",
            "box_style": "",
            "children": [
              "IPY_MODEL_fb2eec10ea9b4435ae8dcd903d7fd398",
              "IPY_MODEL_fbf1229c119f47a4b47c477810ae735a",
              "IPY_MODEL_fe718307a5734508a6a4e5c8a60ec183"
            ],
            "layout": "IPY_MODEL_c3bf506f25164044ad650631baee32bf"
          }
        },
        "fb2eec10ea9b4435ae8dcd903d7fd398": {
          "model_module": "@jupyter-widgets/controls",
          "model_name": "HTMLModel",
          "model_module_version": "1.5.0",
          "state": {
            "_dom_classes": [],
            "_model_module": "@jupyter-widgets/controls",
            "_model_module_version": "1.5.0",
            "_model_name": "HTMLModel",
            "_view_count": null,
            "_view_module": "@jupyter-widgets/controls",
            "_view_module_version": "1.5.0",
            "_view_name": "HTMLView",
            "description": "",
            "description_tooltip": null,
            "layout": "IPY_MODEL_e8f6589084dd41cc80de236ecc42ca21",
            "placeholder": "​",
            "style": "IPY_MODEL_636c1803c1384c36a286bb57950936ca",
            "value": "Predicting: 100%"
          }
        },
        "fbf1229c119f47a4b47c477810ae735a": {
          "model_module": "@jupyter-widgets/controls",
          "model_name": "FloatProgressModel",
          "model_module_version": "1.5.0",
          "state": {
            "_dom_classes": [],
            "_model_module": "@jupyter-widgets/controls",
            "_model_module_version": "1.5.0",
            "_model_name": "FloatProgressModel",
            "_view_count": null,
            "_view_module": "@jupyter-widgets/controls",
            "_view_module_version": "1.5.0",
            "_view_name": "ProgressView",
            "bar_style": "success",
            "description": "",
            "description_tooltip": null,
            "layout": "IPY_MODEL_4f815a8b054a462e94fd8011c612938a",
            "max": 25377,
            "min": 0,
            "orientation": "horizontal",
            "style": "IPY_MODEL_3f5faf06ddd74a14874fc17db6340bc6",
            "value": 25377
          }
        },
        "fe718307a5734508a6a4e5c8a60ec183": {
          "model_module": "@jupyter-widgets/controls",
          "model_name": "HTMLModel",
          "model_module_version": "1.5.0",
          "state": {
            "_dom_classes": [],
            "_model_module": "@jupyter-widgets/controls",
            "_model_module_version": "1.5.0",
            "_model_name": "HTMLModel",
            "_view_count": null,
            "_view_module": "@jupyter-widgets/controls",
            "_view_module_version": "1.5.0",
            "_view_name": "HTMLView",
            "description": "",
            "description_tooltip": null,
            "layout": "IPY_MODEL_c195060102da49be932d223c7f1f3e08",
            "placeholder": "​",
            "style": "IPY_MODEL_ab53e846229a47d6a9d1614146ad8b22",
            "value": " 25377/25377 [1:04:02&lt;00:00,  5.72sentence/s, filename=all_test_coptic_predictions.txt]"
          }
        },
        "c3bf506f25164044ad650631baee32bf": {
          "model_module": "@jupyter-widgets/base",
          "model_name": "LayoutModel",
          "model_module_version": "1.2.0",
          "state": {
            "_model_module": "@jupyter-widgets/base",
            "_model_module_version": "1.2.0",
            "_model_name": "LayoutModel",
            "_view_count": null,
            "_view_module": "@jupyter-widgets/base",
            "_view_module_version": "1.2.0",
            "_view_name": "LayoutView",
            "align_content": null,
            "align_items": null,
            "align_self": null,
            "border": null,
            "bottom": null,
            "display": null,
            "flex": null,
            "flex_flow": null,
            "grid_area": null,
            "grid_auto_columns": null,
            "grid_auto_flow": null,
            "grid_auto_rows": null,
            "grid_column": null,
            "grid_gap": null,
            "grid_row": null,
            "grid_template_areas": null,
            "grid_template_columns": null,
            "grid_template_rows": null,
            "height": null,
            "justify_content": null,
            "justify_items": null,
            "left": null,
            "margin": null,
            "max_height": null,
            "max_width": null,
            "min_height": null,
            "min_width": null,
            "object_fit": null,
            "object_position": null,
            "order": null,
            "overflow": null,
            "overflow_x": null,
            "overflow_y": null,
            "padding": null,
            "right": null,
            "top": null,
            "visibility": null,
            "width": null
          }
        },
        "e8f6589084dd41cc80de236ecc42ca21": {
          "model_module": "@jupyter-widgets/base",
          "model_name": "LayoutModel",
          "model_module_version": "1.2.0",
          "state": {
            "_model_module": "@jupyter-widgets/base",
            "_model_module_version": "1.2.0",
            "_model_name": "LayoutModel",
            "_view_count": null,
            "_view_module": "@jupyter-widgets/base",
            "_view_module_version": "1.2.0",
            "_view_name": "LayoutView",
            "align_content": null,
            "align_items": null,
            "align_self": null,
            "border": null,
            "bottom": null,
            "display": null,
            "flex": null,
            "flex_flow": null,
            "grid_area": null,
            "grid_auto_columns": null,
            "grid_auto_flow": null,
            "grid_auto_rows": null,
            "grid_column": null,
            "grid_gap": null,
            "grid_row": null,
            "grid_template_areas": null,
            "grid_template_columns": null,
            "grid_template_rows": null,
            "height": null,
            "justify_content": null,
            "justify_items": null,
            "left": null,
            "margin": null,
            "max_height": null,
            "max_width": null,
            "min_height": null,
            "min_width": null,
            "object_fit": null,
            "object_position": null,
            "order": null,
            "overflow": null,
            "overflow_x": null,
            "overflow_y": null,
            "padding": null,
            "right": null,
            "top": null,
            "visibility": null,
            "width": null
          }
        },
        "636c1803c1384c36a286bb57950936ca": {
          "model_module": "@jupyter-widgets/controls",
          "model_name": "DescriptionStyleModel",
          "model_module_version": "1.5.0",
          "state": {
            "_model_module": "@jupyter-widgets/controls",
            "_model_module_version": "1.5.0",
            "_model_name": "DescriptionStyleModel",
            "_view_count": null,
            "_view_module": "@jupyter-widgets/base",
            "_view_module_version": "1.2.0",
            "_view_name": "StyleView",
            "description_width": ""
          }
        },
        "4f815a8b054a462e94fd8011c612938a": {
          "model_module": "@jupyter-widgets/base",
          "model_name": "LayoutModel",
          "model_module_version": "1.2.0",
          "state": {
            "_model_module": "@jupyter-widgets/base",
            "_model_module_version": "1.2.0",
            "_model_name": "LayoutModel",
            "_view_count": null,
            "_view_module": "@jupyter-widgets/base",
            "_view_module_version": "1.2.0",
            "_view_name": "LayoutView",
            "align_content": null,
            "align_items": null,
            "align_self": null,
            "border": null,
            "bottom": null,
            "display": null,
            "flex": null,
            "flex_flow": null,
            "grid_area": null,
            "grid_auto_columns": null,
            "grid_auto_flow": null,
            "grid_auto_rows": null,
            "grid_column": null,
            "grid_gap": null,
            "grid_row": null,
            "grid_template_areas": null,
            "grid_template_columns": null,
            "grid_template_rows": null,
            "height": null,
            "justify_content": null,
            "justify_items": null,
            "left": null,
            "margin": null,
            "max_height": null,
            "max_width": null,
            "min_height": null,
            "min_width": null,
            "object_fit": null,
            "object_position": null,
            "order": null,
            "overflow": null,
            "overflow_x": null,
            "overflow_y": null,
            "padding": null,
            "right": null,
            "top": null,
            "visibility": null,
            "width": null
          }
        },
        "3f5faf06ddd74a14874fc17db6340bc6": {
          "model_module": "@jupyter-widgets/controls",
          "model_name": "ProgressStyleModel",
          "model_module_version": "1.5.0",
          "state": {
            "_model_module": "@jupyter-widgets/controls",
            "_model_module_version": "1.5.0",
            "_model_name": "ProgressStyleModel",
            "_view_count": null,
            "_view_module": "@jupyter-widgets/base",
            "_view_module_version": "1.2.0",
            "_view_name": "StyleView",
            "bar_color": null,
            "description_width": ""
          }
        },
        "c195060102da49be932d223c7f1f3e08": {
          "model_module": "@jupyter-widgets/base",
          "model_name": "LayoutModel",
          "model_module_version": "1.2.0",
          "state": {
            "_model_module": "@jupyter-widgets/base",
            "_model_module_version": "1.2.0",
            "_model_name": "LayoutModel",
            "_view_count": null,
            "_view_module": "@jupyter-widgets/base",
            "_view_module_version": "1.2.0",
            "_view_name": "LayoutView",
            "align_content": null,
            "align_items": null,
            "align_self": null,
            "border": null,
            "bottom": null,
            "display": null,
            "flex": null,
            "flex_flow": null,
            "grid_area": null,
            "grid_auto_columns": null,
            "grid_auto_flow": null,
            "grid_auto_rows": null,
            "grid_column": null,
            "grid_gap": null,
            "grid_row": null,
            "grid_template_areas": null,
            "grid_template_columns": null,
            "grid_template_rows": null,
            "height": null,
            "justify_content": null,
            "justify_items": null,
            "left": null,
            "margin": null,
            "max_height": null,
            "max_width": null,
            "min_height": null,
            "min_width": null,
            "object_fit": null,
            "object_position": null,
            "order": null,
            "overflow": null,
            "overflow_x": null,
            "overflow_y": null,
            "padding": null,
            "right": null,
            "top": null,
            "visibility": null,
            "width": null
          }
        },
        "ab53e846229a47d6a9d1614146ad8b22": {
          "model_module": "@jupyter-widgets/controls",
          "model_name": "DescriptionStyleModel",
          "model_module_version": "1.5.0",
          "state": {
            "_model_module": "@jupyter-widgets/controls",
            "_model_module_version": "1.5.0",
            "_model_name": "DescriptionStyleModel",
            "_view_count": null,
            "_view_module": "@jupyter-widgets/base",
            "_view_module_version": "1.2.0",
            "_view_name": "StyleView",
            "description_width": ""
          }
        },
        "43f22fade5624efb8b224ce596458a7e": {
          "model_module": "@jupyter-widgets/controls",
          "model_name": "VBoxModel",
          "model_module_version": "1.5.0",
          "state": {
            "_dom_classes": [
              "widget-interact"
            ],
            "_model_module": "@jupyter-widgets/controls",
            "_model_module_version": "1.5.0",
            "_model_name": "VBoxModel",
            "_view_count": null,
            "_view_module": "@jupyter-widgets/controls",
            "_view_module_version": "1.5.0",
            "_view_name": "VBoxView",
            "box_style": "",
            "children": [
              "IPY_MODEL_0bace2e74baa48b297b3e14bae8c89df",
              "IPY_MODEL_9e6bd3259f4b4b1fb2e23e3f71b85692"
            ],
            "layout": "IPY_MODEL_73c24a51c819436bbd61d4710a645206"
          }
        },
        "0bace2e74baa48b297b3e14bae8c89df": {
          "model_module": "@jupyter-widgets/controls",
          "model_name": "ButtonModel",
          "model_module_version": "1.5.0",
          "state": {
            "_dom_classes": [],
            "_model_module": "@jupyter-widgets/controls",
            "_model_module_version": "1.5.0",
            "_model_name": "ButtonModel",
            "_view_count": null,
            "_view_module": "@jupyter-widgets/controls",
            "_view_module_version": "1.5.0",
            "_view_name": "ButtonView",
            "button_style": "",
            "description": "Regenerate",
            "disabled": false,
            "icon": "",
            "layout": "IPY_MODEL_bf2837ebe5164aa6bec2cfc773884696",
            "style": "IPY_MODEL_72550bf3774942cfb074b5e4a770155d",
            "tooltip": ""
          }
        },
        "9e6bd3259f4b4b1fb2e23e3f71b85692": {
          "model_module": "@jupyter-widgets/output",
          "model_name": "OutputModel",
          "model_module_version": "1.0.0",
          "state": {
            "_dom_classes": [],
            "_model_module": "@jupyter-widgets/output",
            "_model_module_version": "1.0.0",
            "_model_name": "OutputModel",
            "_view_count": null,
            "_view_module": "@jupyter-widgets/output",
            "_view_module_version": "1.0.0",
            "_view_name": "OutputView",
            "layout": "IPY_MODEL_0689489bccf34e10bef1ca3759c26973",
            "msg_id": "",
            "outputs": []
          }
        },
        "73c24a51c819436bbd61d4710a645206": {
          "model_module": "@jupyter-widgets/base",
          "model_name": "LayoutModel",
          "model_module_version": "1.2.0",
          "state": {
            "_model_module": "@jupyter-widgets/base",
            "_model_module_version": "1.2.0",
            "_model_name": "LayoutModel",
            "_view_count": null,
            "_view_module": "@jupyter-widgets/base",
            "_view_module_version": "1.2.0",
            "_view_name": "LayoutView",
            "align_content": null,
            "align_items": null,
            "align_self": null,
            "border": null,
            "bottom": null,
            "display": null,
            "flex": null,
            "flex_flow": null,
            "grid_area": null,
            "grid_auto_columns": null,
            "grid_auto_flow": null,
            "grid_auto_rows": null,
            "grid_column": null,
            "grid_gap": null,
            "grid_row": null,
            "grid_template_areas": null,
            "grid_template_columns": null,
            "grid_template_rows": null,
            "height": null,
            "justify_content": null,
            "justify_items": null,
            "left": null,
            "margin": null,
            "max_height": null,
            "max_width": null,
            "min_height": null,
            "min_width": null,
            "object_fit": null,
            "object_position": null,
            "order": null,
            "overflow": null,
            "overflow_x": null,
            "overflow_y": null,
            "padding": null,
            "right": null,
            "top": null,
            "visibility": null,
            "width": null
          }
        },
        "bf2837ebe5164aa6bec2cfc773884696": {
          "model_module": "@jupyter-widgets/base",
          "model_name": "LayoutModel",
          "model_module_version": "1.2.0",
          "state": {
            "_model_module": "@jupyter-widgets/base",
            "_model_module_version": "1.2.0",
            "_model_name": "LayoutModel",
            "_view_count": null,
            "_view_module": "@jupyter-widgets/base",
            "_view_module_version": "1.2.0",
            "_view_name": "LayoutView",
            "align_content": null,
            "align_items": null,
            "align_self": null,
            "border": null,
            "bottom": null,
            "display": null,
            "flex": null,
            "flex_flow": null,
            "grid_area": null,
            "grid_auto_columns": null,
            "grid_auto_flow": null,
            "grid_auto_rows": null,
            "grid_column": null,
            "grid_gap": null,
            "grid_row": null,
            "grid_template_areas": null,
            "grid_template_columns": null,
            "grid_template_rows": null,
            "height": null,
            "justify_content": null,
            "justify_items": null,
            "left": null,
            "margin": null,
            "max_height": null,
            "max_width": null,
            "min_height": null,
            "min_width": null,
            "object_fit": null,
            "object_position": null,
            "order": null,
            "overflow": null,
            "overflow_x": null,
            "overflow_y": null,
            "padding": null,
            "right": null,
            "top": null,
            "visibility": null,
            "width": null
          }
        },
        "72550bf3774942cfb074b5e4a770155d": {
          "model_module": "@jupyter-widgets/controls",
          "model_name": "ButtonStyleModel",
          "model_module_version": "1.5.0",
          "state": {
            "_model_module": "@jupyter-widgets/controls",
            "_model_module_version": "1.5.0",
            "_model_name": "ButtonStyleModel",
            "_view_count": null,
            "_view_module": "@jupyter-widgets/base",
            "_view_module_version": "1.2.0",
            "_view_name": "StyleView",
            "button_color": null,
            "font_weight": ""
          }
        },
        "0689489bccf34e10bef1ca3759c26973": {
          "model_module": "@jupyter-widgets/base",
          "model_name": "LayoutModel",
          "model_module_version": "1.2.0",
          "state": {
            "_model_module": "@jupyter-widgets/base",
            "_model_module_version": "1.2.0",
            "_model_name": "LayoutModel",
            "_view_count": null,
            "_view_module": "@jupyter-widgets/base",
            "_view_module_version": "1.2.0",
            "_view_name": "LayoutView",
            "align_content": null,
            "align_items": null,
            "align_self": null,
            "border": null,
            "bottom": null,
            "display": null,
            "flex": null,
            "flex_flow": null,
            "grid_area": null,
            "grid_auto_columns": null,
            "grid_auto_flow": null,
            "grid_auto_rows": null,
            "grid_column": null,
            "grid_gap": null,
            "grid_row": null,
            "grid_template_areas": null,
            "grid_template_columns": null,
            "grid_template_rows": null,
            "height": null,
            "justify_content": null,
            "justify_items": null,
            "left": null,
            "margin": null,
            "max_height": null,
            "max_width": null,
            "min_height": null,
            "min_width": null,
            "object_fit": null,
            "object_position": null,
            "order": null,
            "overflow": null,
            "overflow_x": null,
            "overflow_y": null,
            "padding": null,
            "right": null,
            "top": null,
            "visibility": null,
            "width": null
          }
        },
        "c8ecf3de80864d1eb66a4b75a7a56fc9": {
          "model_module": "@jupyter-widgets/controls",
          "model_name": "HBoxModel",
          "model_module_version": "1.5.0",
          "state": {
            "_dom_classes": [],
            "_model_module": "@jupyter-widgets/controls",
            "_model_module_version": "1.5.0",
            "_model_name": "HBoxModel",
            "_view_count": null,
            "_view_module": "@jupyter-widgets/controls",
            "_view_module_version": "1.5.0",
            "_view_name": "HBoxView",
            "box_style": "",
            "children": [
              "IPY_MODEL_b47269d9d1b44934b19413b1c3bd2d7e",
              "IPY_MODEL_102d9a3b06e546feb2ac0df3a1fef7e3",
              "IPY_MODEL_51a766a14fc348f2be90bc702ea9dace"
            ],
            "layout": "IPY_MODEL_7fb2537db1f54a7ca40d63b5921b05d0"
          }
        },
        "b47269d9d1b44934b19413b1c3bd2d7e": {
          "model_module": "@jupyter-widgets/controls",
          "model_name": "HTMLModel",
          "model_module_version": "1.5.0",
          "state": {
            "_dom_classes": [],
            "_model_module": "@jupyter-widgets/controls",
            "_model_module_version": "1.5.0",
            "_model_name": "HTMLModel",
            "_view_count": null,
            "_view_module": "@jupyter-widgets/controls",
            "_view_module_version": "1.5.0",
            "_view_name": "HTMLView",
            "description": "",
            "description_tooltip": null,
            "layout": "IPY_MODEL_46b41ec60ef54a6ea9495a03dd899558",
            "placeholder": "​",
            "style": "IPY_MODEL_7f8878723c5345ab8ae1b8cdb23b9b32",
            "value": "Downloading: 100%"
          }
        },
        "102d9a3b06e546feb2ac0df3a1fef7e3": {
          "model_module": "@jupyter-widgets/controls",
          "model_name": "FloatProgressModel",
          "model_module_version": "1.5.0",
          "state": {
            "_dom_classes": [],
            "_model_module": "@jupyter-widgets/controls",
            "_model_module_version": "1.5.0",
            "_model_name": "FloatProgressModel",
            "_view_count": null,
            "_view_module": "@jupyter-widgets/controls",
            "_view_module_version": "1.5.0",
            "_view_name": "ProgressView",
            "bar_style": "success",
            "description": "",
            "description_tooltip": null,
            "layout": "IPY_MODEL_cbadf01620e64911bd0e1fef9cd7399e",
            "max": 3,
            "min": 0,
            "orientation": "horizontal",
            "style": "IPY_MODEL_695ab05d106b4e18849535c2d3080092",
            "value": 3
          }
        },
        "51a766a14fc348f2be90bc702ea9dace": {
          "model_module": "@jupyter-widgets/controls",
          "model_name": "HTMLModel",
          "model_module_version": "1.5.0",
          "state": {
            "_dom_classes": [],
            "_model_module": "@jupyter-widgets/controls",
            "_model_module_version": "1.5.0",
            "_model_name": "HTMLModel",
            "_view_count": null,
            "_view_module": "@jupyter-widgets/controls",
            "_view_module_version": "1.5.0",
            "_view_name": "HTMLView",
            "description": "",
            "description_tooltip": null,
            "layout": "IPY_MODEL_c006663e04d04a2e80a04c34a58ee2fd",
            "placeholder": "​",
            "style": "IPY_MODEL_33a6e480096b49c1aa4076f8b5868f56",
            "value": " 3/3 [01:07&lt;00:00, 28.75s/it]"
          }
        },
        "7fb2537db1f54a7ca40d63b5921b05d0": {
          "model_module": "@jupyter-widgets/base",
          "model_name": "LayoutModel",
          "model_module_version": "1.2.0",
          "state": {
            "_model_module": "@jupyter-widgets/base",
            "_model_module_version": "1.2.0",
            "_model_name": "LayoutModel",
            "_view_count": null,
            "_view_module": "@jupyter-widgets/base",
            "_view_module_version": "1.2.0",
            "_view_name": "LayoutView",
            "align_content": null,
            "align_items": null,
            "align_self": null,
            "border": null,
            "bottom": null,
            "display": null,
            "flex": null,
            "flex_flow": null,
            "grid_area": null,
            "grid_auto_columns": null,
            "grid_auto_flow": null,
            "grid_auto_rows": null,
            "grid_column": null,
            "grid_gap": null,
            "grid_row": null,
            "grid_template_areas": null,
            "grid_template_columns": null,
            "grid_template_rows": null,
            "height": null,
            "justify_content": null,
            "justify_items": null,
            "left": null,
            "margin": null,
            "max_height": null,
            "max_width": null,
            "min_height": null,
            "min_width": null,
            "object_fit": null,
            "object_position": null,
            "order": null,
            "overflow": null,
            "overflow_x": null,
            "overflow_y": null,
            "padding": null,
            "right": null,
            "top": null,
            "visibility": null,
            "width": null
          }
        },
        "46b41ec60ef54a6ea9495a03dd899558": {
          "model_module": "@jupyter-widgets/base",
          "model_name": "LayoutModel",
          "model_module_version": "1.2.0",
          "state": {
            "_model_module": "@jupyter-widgets/base",
            "_model_module_version": "1.2.0",
            "_model_name": "LayoutModel",
            "_view_count": null,
            "_view_module": "@jupyter-widgets/base",
            "_view_module_version": "1.2.0",
            "_view_name": "LayoutView",
            "align_content": null,
            "align_items": null,
            "align_self": null,
            "border": null,
            "bottom": null,
            "display": null,
            "flex": null,
            "flex_flow": null,
            "grid_area": null,
            "grid_auto_columns": null,
            "grid_auto_flow": null,
            "grid_auto_rows": null,
            "grid_column": null,
            "grid_gap": null,
            "grid_row": null,
            "grid_template_areas": null,
            "grid_template_columns": null,
            "grid_template_rows": null,
            "height": null,
            "justify_content": null,
            "justify_items": null,
            "left": null,
            "margin": null,
            "max_height": null,
            "max_width": null,
            "min_height": null,
            "min_width": null,
            "object_fit": null,
            "object_position": null,
            "order": null,
            "overflow": null,
            "overflow_x": null,
            "overflow_y": null,
            "padding": null,
            "right": null,
            "top": null,
            "visibility": null,
            "width": null
          }
        },
        "7f8878723c5345ab8ae1b8cdb23b9b32": {
          "model_module": "@jupyter-widgets/controls",
          "model_name": "DescriptionStyleModel",
          "model_module_version": "1.5.0",
          "state": {
            "_model_module": "@jupyter-widgets/controls",
            "_model_module_version": "1.5.0",
            "_model_name": "DescriptionStyleModel",
            "_view_count": null,
            "_view_module": "@jupyter-widgets/base",
            "_view_module_version": "1.2.0",
            "_view_name": "StyleView",
            "description_width": ""
          }
        },
        "cbadf01620e64911bd0e1fef9cd7399e": {
          "model_module": "@jupyter-widgets/base",
          "model_name": "LayoutModel",
          "model_module_version": "1.2.0",
          "state": {
            "_model_module": "@jupyter-widgets/base",
            "_model_module_version": "1.2.0",
            "_model_name": "LayoutModel",
            "_view_count": null,
            "_view_module": "@jupyter-widgets/base",
            "_view_module_version": "1.2.0",
            "_view_name": "LayoutView",
            "align_content": null,
            "align_items": null,
            "align_self": null,
            "border": null,
            "bottom": null,
            "display": null,
            "flex": null,
            "flex_flow": null,
            "grid_area": null,
            "grid_auto_columns": null,
            "grid_auto_flow": null,
            "grid_auto_rows": null,
            "grid_column": null,
            "grid_gap": null,
            "grid_row": null,
            "grid_template_areas": null,
            "grid_template_columns": null,
            "grid_template_rows": null,
            "height": null,
            "justify_content": null,
            "justify_items": null,
            "left": null,
            "margin": null,
            "max_height": null,
            "max_width": null,
            "min_height": null,
            "min_width": null,
            "object_fit": null,
            "object_position": null,
            "order": null,
            "overflow": null,
            "overflow_x": null,
            "overflow_y": null,
            "padding": null,
            "right": null,
            "top": null,
            "visibility": null,
            "width": null
          }
        },
        "695ab05d106b4e18849535c2d3080092": {
          "model_module": "@jupyter-widgets/controls",
          "model_name": "ProgressStyleModel",
          "model_module_version": "1.5.0",
          "state": {
            "_model_module": "@jupyter-widgets/controls",
            "_model_module_version": "1.5.0",
            "_model_name": "ProgressStyleModel",
            "_view_count": null,
            "_view_module": "@jupyter-widgets/base",
            "_view_module_version": "1.2.0",
            "_view_name": "StyleView",
            "bar_color": null,
            "description_width": ""
          }
        },
        "c006663e04d04a2e80a04c34a58ee2fd": {
          "model_module": "@jupyter-widgets/base",
          "model_name": "LayoutModel",
          "model_module_version": "1.2.0",
          "state": {
            "_model_module": "@jupyter-widgets/base",
            "_model_module_version": "1.2.0",
            "_model_name": "LayoutModel",
            "_view_count": null,
            "_view_module": "@jupyter-widgets/base",
            "_view_module_version": "1.2.0",
            "_view_name": "LayoutView",
            "align_content": null,
            "align_items": null,
            "align_self": null,
            "border": null,
            "bottom": null,
            "display": null,
            "flex": null,
            "flex_flow": null,
            "grid_area": null,
            "grid_auto_columns": null,
            "grid_auto_flow": null,
            "grid_auto_rows": null,
            "grid_column": null,
            "grid_gap": null,
            "grid_row": null,
            "grid_template_areas": null,
            "grid_template_columns": null,
            "grid_template_rows": null,
            "height": null,
            "justify_content": null,
            "justify_items": null,
            "left": null,
            "margin": null,
            "max_height": null,
            "max_width": null,
            "min_height": null,
            "min_width": null,
            "object_fit": null,
            "object_position": null,
            "order": null,
            "overflow": null,
            "overflow_x": null,
            "overflow_y": null,
            "padding": null,
            "right": null,
            "top": null,
            "visibility": null,
            "width": null
          }
        },
        "33a6e480096b49c1aa4076f8b5868f56": {
          "model_module": "@jupyter-widgets/controls",
          "model_name": "DescriptionStyleModel",
          "model_module_version": "1.5.0",
          "state": {
            "_model_module": "@jupyter-widgets/controls",
            "_model_module_version": "1.5.0",
            "_model_name": "DescriptionStyleModel",
            "_view_count": null,
            "_view_module": "@jupyter-widgets/base",
            "_view_module_version": "1.2.0",
            "_view_name": "StyleView",
            "description_width": ""
          }
        }
      }
    }
  },
  "nbformat": 4,
  "nbformat_minor": 0
}